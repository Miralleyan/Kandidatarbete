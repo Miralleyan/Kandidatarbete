{
 "cells": [
  {
   "cell_type": "code",
   "execution_count": 32,
   "outputs": [
    {
     "name": "stdout",
     "output_type": "stream",
     "text": [
      "Epoch: 0          Loss: 195601\n",
      "Epoch: 1000       Loss: inf\n",
      "Epoch: 2000       Loss: 165410\n",
      "Epoch: 3000       Loss: 163833\n",
      "Epoch: 4000       Loss: 162901\n",
      "Epoch: 5000       Loss: 162443\n",
      "Epoch: 6000       Loss: 162122\n",
      "Epoch: 7000       Loss: 162024\n",
      "Epoch: 8000       Loss: 162003\n",
      "Epoch: 9000       Loss: 161998\n"
     ]
    },
    {
     "data": {
      "text/plain": "<Figure size 640x480 with 1 Axes>",
      "image/png": "[encoded data removed]"
     },
     "metadata": {},
     "output_type": "display_data"
    }
   ],
   "source": [
    "import matplotlib.pyplot as plt\n",
    "import torch\n",
    "import pytorch_measure as pm\n",
    "N = 50 # number of weights\n",
    "data = torch.randn(50000)\n",
    "#l = [min(data).item(), max(data).item()]\n",
    "w = torch.softmax(torch.ones(N,dtype=torch.float),dim=-1)\n",
    "l = torch.linspace(-4, 4, N)\n",
    "# if l is min & max only\n",
    "#index = [round((y.item() - l[0]) * (N - 1) / (l[1] - l[0])) for y in data]\n",
    "# if l is all locations\n",
    "index = torch.argmin(abs(l-data.view(-1,1)), dim=1)\n",
    "def loss_fn(w):\n",
    "    return -w[index].log().sum()\n",
    "\n",
    "def test_step(verbose):\n",
    "    measure = pm.PytorchMeasure(l, w)\n",
    "    for epoch in range(10000):\n",
    "        measure.step(loss_fn, 0.01)\n",
    "        if epoch % 1000 == 0 and verbose:\n",
    "            print(f'Epoch: {epoch:<10} Loss: {measure.loss:.0f}')\n",
    "    plt.hist(measure.sample(1000),bins=20, density=True, range=[-4,4])\n",
    "    plt.hist(torch.randn(1000),bins=20, density=True, range=[-4,4], alpha=0.5)\n",
    "    plt.legend(['Model','True data'])\n",
    "    plt.show()\n",
    "\n",
    "test_step(verbose=True)\n"
   ],
   "metadata": {
    "collapsed": false
   }
  },
  {
   "cell_type": "code",
   "execution_count": 20,
   "outputs": [
    {
     "ename": "KeyboardInterrupt",
     "evalue": "",
     "output_type": "error",
     "traceback": [
      "\u001B[1;31m---------------------------------------------------------------------------\u001B[0m",
      "\u001B[1;31mKeyboardInterrupt\u001B[0m                         Traceback (most recent call last)",
      "Cell \u001B[1;32mIn[20], line 22\u001B[0m\n\u001B[0;32m     19\u001B[0m     measure\u001B[38;5;241m.\u001B[39mvisualize()\n\u001B[0;32m     20\u001B[0m     \u001B[38;5;28mprint\u001B[39m(measure)\n\u001B[1;32m---> 22\u001B[0m \u001B[43mtest_step\u001B[49m\u001B[43m(\u001B[49m\u001B[43m)\u001B[49m\n",
      "Cell \u001B[1;32mIn[20], line 18\u001B[0m, in \u001B[0;36mtest_step\u001B[1;34m()\u001B[0m\n\u001B[0;32m     16\u001B[0m measure \u001B[38;5;241m=\u001B[39m pm\u001B[38;5;241m.\u001B[39mPytorchMeasure(loc, w)\n\u001B[0;32m     17\u001B[0m \u001B[38;5;28;01mfor\u001B[39;00m epoch \u001B[38;5;129;01min\u001B[39;00m \u001B[38;5;28mrange\u001B[39m(\u001B[38;5;241m500\u001B[39m):\n\u001B[1;32m---> 18\u001B[0m     \u001B[43mmeasure\u001B[49m\u001B[38;5;241;43m.\u001B[39;49m\u001B[43mstep\u001B[49m\u001B[43m(\u001B[49m\u001B[43mloss_fn\u001B[49m\u001B[43m,\u001B[49m\u001B[43m \u001B[49m\u001B[38;5;241;43m0.05\u001B[39;49m\u001B[43m)\u001B[49m\n\u001B[0;32m     19\u001B[0m measure\u001B[38;5;241m.\u001B[39mvisualize()\n\u001B[0;32m     20\u001B[0m \u001B[38;5;28mprint\u001B[39m(measure)\n",
      "File \u001B[1;32mD:\\OneDrive\\OneDrive - Chalmers\\År 3\\Kandidatarbete\\Python Git\\Optimizer\\pytorch_measure.py:149\u001B[0m, in \u001B[0;36mPytorchMeasure.step\u001B[1;34m(self, loss_fn, lr)\u001B[0m\n\u001B[0;32m    146\u001B[0m \u001B[38;5;28mself\u001B[39m\u001B[38;5;241m.\u001B[39mweights\u001B[38;5;241m.\u001B[39mgrad \u001B[38;5;241m=\u001B[39m torch\u001B[38;5;241m.\u001B[39mzeros(\u001B[38;5;28mlen\u001B[39m(\u001B[38;5;28mself\u001B[39m\u001B[38;5;241m.\u001B[39mweights))\n\u001B[0;32m    148\u001B[0m \u001B[38;5;66;03m# Compute gradient\u001B[39;00m\n\u001B[1;32m--> 149\u001B[0m new_loss \u001B[38;5;241m=\u001B[39m \u001B[43mloss_fn\u001B[49m\u001B[43m(\u001B[49m\u001B[38;5;28;43mself\u001B[39;49m\u001B[38;5;241;43m.\u001B[39;49m\u001B[43mweights\u001B[49m\u001B[43m)\u001B[49m\n\u001B[0;32m    150\u001B[0m new_loss\u001B[38;5;241m.\u001B[39mbackward()\n\u001B[0;32m    151\u001B[0m grad_abs \u001B[38;5;241m=\u001B[39m torch\u001B[38;5;241m.\u001B[39margsort(\u001B[38;5;28mself\u001B[39m\u001B[38;5;241m.\u001B[39mweights\u001B[38;5;241m.\u001B[39mgrad)\n",
      "Cell \u001B[1;32mIn[20], line 10\u001B[0m, in \u001B[0;36mloss_fn\u001B[1;34m(w)\u001B[0m\n\u001B[0;32m      7\u001B[0m \u001B[38;5;28;01mfor\u001B[39;00m y \u001B[38;5;129;01min\u001B[39;00m data:\n\u001B[0;32m      8\u001B[0m     \u001B[38;5;66;03m# Remap y from l to range(len(w))\u001B[39;00m\n\u001B[0;32m      9\u001B[0m     i \u001B[38;5;241m=\u001B[39m \u001B[38;5;28mround\u001B[39m((y\u001B[38;5;241m.\u001B[39mitem() \u001B[38;5;241m-\u001B[39m l[\u001B[38;5;241m0\u001B[39m]) \u001B[38;5;241m*\u001B[39m (\u001B[38;5;28mlen\u001B[39m(w) \u001B[38;5;241m-\u001B[39m \u001B[38;5;241m1\u001B[39m) \u001B[38;5;241m/\u001B[39m (l[\u001B[38;5;241m1\u001B[39m] \u001B[38;5;241m-\u001B[39m l[\u001B[38;5;241m0\u001B[39m]))\n\u001B[1;32m---> 10\u001B[0m     log_prob \u001B[38;5;241m+\u001B[39m\u001B[38;5;241m=\u001B[39m \u001B[43mtorch\u001B[49m\u001B[38;5;241;43m.\u001B[39;49m\u001B[43mlog\u001B[49m\u001B[43m(\u001B[49m\u001B[43mw\u001B[49m\u001B[43m[\u001B[49m\u001B[43mi\u001B[49m\u001B[43m]\u001B[49m\u001B[43m)\u001B[49m\n\u001B[0;32m     11\u001B[0m \u001B[38;5;28;01mreturn\u001B[39;00m \u001B[38;5;241m-\u001B[39mlog_prob\n",
      "\u001B[1;31mKeyboardInterrupt\u001B[0m: "
     ]
    }
   ],
   "source": [
    "data = torch.randn(2000)\n",
    "l = [min(data).item(), max(data).item()]\n",
    "N = 21\n",
    "def loss_fn(w):\n",
    "    # Funkar inte riktigt\n",
    "    log_prob = 0\n",
    "    for y in data:\n",
    "        # Remap y from l to range(len(w))\n",
    "        i = round((y.item() - l[0]) * (len(w) - 1) / (l[1] - l[0]))\n",
    "        log_prob += torch.log(w[i])\n",
    "    return -log_prob\n",
    "\n",
    "def test_step():\n",
    "    w = torch.softmax(torch.rand(N), dim=0)\n",
    "    loc = torch.linspace(min(data).item(), max(data).item(), N)\n",
    "    measure = pm.PytorchMeasure(loc, w)\n",
    "    for epoch in range(500):\n",
    "        measure.step(loss_fn, 0.05)\n",
    "    measure.visualize()\n",
    "    print(measure)\n",
    "\n",
    "test_step()\n",
    "\n"
   ],
   "metadata": {
    "collapsed": false
   }
  },
  {
   "cell_type": "code",
   "execution_count": 65,
   "outputs": [
    {
     "name": "stdout",
     "output_type": "stream",
     "text": [
      "tensor([[ 0.0000, -0.3333,  0.0000,  0.0000,  0.0000],\n",
      "        [-0.3333,  0.0000,  0.0000,  0.0000,  0.0000],\n",
      "        [ 0.0000,  0.0000,  0.0000, -0.3333,  0.0000]])\n",
      "tensor([[0.4657, 0.2328, 0.4527, 0.5871, 0.4086],\n",
      "        [0.1272, 0.6373, 0.2421, 0.7312, 0.7224],\n",
      "        [0.1992, 0.6948, 0.5830, 0.6318, 0.5559]], requires_grad=True)\n"
     ]
    }
   ],
   "source": [
    "m = torch.nn.Softmax(dim=1)\n",
    "loss = torch.nn.NLLLoss()\n",
    "# input is of size N x C = 3 x 5\n",
    "input = torch.rand(3,5,requires_grad=True)\n",
    "# each element in target has to have 0 <= value < C\n",
    "target = torch.tensor([1, 0, 3])\n",
    "output = loss(input, target)\n",
    "output.backward()\n",
    "print(input.grad)\n",
    "print(input)"
   ],
   "metadata": {
    "collapsed": false
   }
  },
  {
   "cell_type": "code",
   "execution_count": null,
   "outputs": [],
   "source": [],
   "metadata": {
    "collapsed": false
   }
  }
 ],
 "metadata": {
  "kernelspec": {
   "display_name": "local",
   "language": "python",
   "name": "python3"
  },
  "language_info": {
   "codemirror_mode": {
    "name": "ipython",
    "version": 3
   },
   "file_extension": ".py",
   "mimetype": "text/x-python",
   "name": "python",
   "nbconvert_exporter": "python",
   "pygments_lexer": "ipython3",
   "version": "3.9.16"
  },
  "orig_nbformat": 4,
  "vscode": {
   "interpreter": {
    "hash": "7bfab563a781f4da718747e2fae872b9d7cb73fc061a7ef5b3d06d4d87105164"
   }
  }
 },
 "nbformat": 4,
 "nbformat_minor": 2
}
