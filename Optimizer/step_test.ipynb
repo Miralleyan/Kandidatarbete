{
 "cells": [
  {
   "cell_type": "code",
   "execution_count": 1,
   "metadata": {
    "collapsed": false
   },
   "outputs": [],
   "source": [
    "import matplotlib.pyplot as plt\n",
    "import torch\n",
    "import pytorch_measure as pm\n",
    "N = 50 # number of weights\n",
    "verbose = True\n",
    "dev = 'cpu'\n",
    "\n",
    "data = torch.randn(10000).to(dev)\n",
    "#l = [min(data).item(), max(data).item()]\n",
    "w = torch.softmax(torch.ones(N,dtype=torch.float),dim=-1).to(dev)\n",
    "w = torch.nn.parameter.Parameter(w)\n",
    "l = torch.linspace(-4, 4, N, requires_grad=False).to(dev)\n",
    "# if l is min & max only\n",
    "#index = [round((y.item() - l[0]) * (N - 1) / (l[1] - l[0])) for y in data]\n",
    "# if l is all locations\n",
    "index = torch.argmin(abs(l-data.view(-1,1)), dim=1)\n",
    "def NLLLoss(m:list[pm.Measure]):\n",
    "    mask = torch.zeros(len(m[0].weights), dtype=torch.bool)\n",
    "    mask[m[0].support()] = 1\n",
    "    return -m[0].weights[index].log()[mask[index]].sum()\n",
    "\n",
    "sd = (data - l[index])**2\n",
    "def WardLoss(w):\n",
    "    return sum(sd * w[index])\n"
   ]
  },
  {
   "cell_type": "code",
   "execution_count": 3,
   "metadata": {
    "collapsed": false
   },
   "outputs": [
    {
     "name": "stdout",
     "output_type": "stream",
     "text": [
      "Epoch: 0          Loss: 30411      LR: [0.1]\n",
      "Epoch: 100        Loss: 26624      LR: [0.1]\n",
      "Epoch: 200        Loss: 26624      LR: [0.1]\n",
      "Epoch: 300        Loss: 26624      LR: [0.1]\n",
      "Epoch: 400        Loss: 26624      LR: [0.1]\n",
      "Epoch: 500        Loss: 26624      LR: [0.1]\n",
      "Epoch: 600        Loss: 26624      LR: [0.1]\n",
      "Epoch: 700        Loss: 26624      LR: [0.1]\n",
      "Epoch: 800        Loss: 26624      LR: [0.1]\n",
      "Epoch: 900        Loss: 26624      LR: [0.1]\n",
      "Epoch: 1000       Loss: 26624      LR: [0.1]\n",
      "Epoch: 1100       Loss: 26624      LR: [0.1]\n",
      "Epoch: 1200       Loss: 26624      LR: [0.1]\n",
      "Epoch: 1300       Loss: 26624      LR: [0.1]\n",
      "Epoch: 1400       Loss: 26624      LR: [0.1]\n",
      "Epoch: 1500       Loss: 26624      LR: [0.1]\n",
      "Epoch: 1600       Loss: 26624      LR: [0.1]\n",
      "Epoch: 1700       Loss: 26624      LR: [0.1]\n",
      "Epoch: 1800       Loss: 26624      LR: [0.1]\n",
      "Epoch: 1900       Loss: 26624      LR: [0.1]\n",
      "Epoch: 2000       Loss: 26624      LR: [0.1]\n",
      "Epoch: 2100       Loss: 26624      LR: [0.1]\n",
      "Epoch: 2200       Loss: 26624      LR: [0.1]\n",
      "Epoch: 2300       Loss: 26624      LR: [0.1]\n",
      "Epoch: 2400       Loss: 26624      LR: [0.1]\n",
      "Epoch: 2500       Loss: 26624      LR: [0.1]\n"
     ]
    },
    {
     "ename": "KeyboardInterrupt",
     "evalue": "",
     "output_type": "error",
     "traceback": [
      "\u001B[1;31m---------------------------------------------------------------------------\u001B[0m",
      "\u001B[1;31mKeyboardInterrupt\u001B[0m                         Traceback (most recent call last)",
      "Cell \u001B[1;32mIn[3], line 3\u001B[0m\n\u001B[0;32m      1\u001B[0m measure \u001B[38;5;241m=\u001B[39m pm\u001B[38;5;241m.\u001B[39mMeasure(locations\u001B[38;5;241m=\u001B[39ml, weights\u001B[38;5;241m=\u001B[39mw, device\u001B[38;5;241m=\u001B[39mdev)\n\u001B[0;32m      2\u001B[0m opt \u001B[38;5;241m=\u001B[39m pm\u001B[38;5;241m.\u001B[39mOptimizer([measure], lr\u001B[38;5;241m=\u001B[39m\u001B[38;5;241m1e-1\u001B[39m)\n\u001B[1;32m----> 3\u001B[0m \u001B[43mopt\u001B[49m\u001B[38;5;241;43m.\u001B[39;49m\u001B[43mminimize\u001B[49m\u001B[43m(\u001B[49m\u001B[43mNLLLoss\u001B[49m\u001B[43m,\u001B[49m\u001B[43m \u001B[49m\u001B[43mverbose\u001B[49m\u001B[38;5;241;43m=\u001B[39;49m\u001B[38;5;28;43;01mTrue\u001B[39;49;00m\u001B[43m)\u001B[49m\n\u001B[0;32m      5\u001B[0m plt\u001B[38;5;241m.\u001B[39mbar(height\u001B[38;5;241m=\u001B[39mmeasure\u001B[38;5;241m.\u001B[39mweights\u001B[38;5;241m.\u001B[39mdetach(),x\u001B[38;5;241m=\u001B[39ml)\n\u001B[0;32m      6\u001B[0m plt\u001B[38;5;241m.\u001B[39mhist(torch\u001B[38;5;241m.\u001B[39mrandn(\u001B[38;5;241m10000\u001B[39m),bins\u001B[38;5;241m=\u001B[39m\u001B[38;5;241m40\u001B[39m, density\u001B[38;5;241m=\u001B[39m\u001B[38;5;28;01mTrue\u001B[39;00m, \u001B[38;5;28mrange\u001B[39m\u001B[38;5;241m=\u001B[39m[\u001B[38;5;241m-\u001B[39m\u001B[38;5;241m4\u001B[39m,\u001B[38;5;241m4\u001B[39m], alpha\u001B[38;5;241m=\u001B[39m\u001B[38;5;241m0.5\u001B[39m)\n",
      "File \u001B[1;32m~\\OneDrive - Chalmers\\År 3\\Kandidatarbete\\Python Git\\Optimizer\\pytorch_measure.py:225\u001B[0m, in \u001B[0;36mOptimizer.minimize\u001B[1;34m(self, loss_fn, max_epochs, smallest_lr, tol_supp, tol_const, verbose, print_freq)\u001B[0m\n\u001B[0;32m    222\u001B[0m         \u001B[38;5;28mself\u001B[39m\u001B[38;5;241m.\u001B[39mstep(meas_index)\n\u001B[0;32m    223\u001B[0m         old_loss \u001B[38;5;241m=\u001B[39m loss\n\u001B[1;32m--> 225\u001B[0m \u001B[38;5;28;01mif\u001B[39;00m \u001B[38;5;28;43mself\u001B[39;49m\u001B[38;5;241;43m.\u001B[39;49m\u001B[43mstop_criterion\u001B[49m\u001B[43m(\u001B[49m\u001B[43mtol_supp\u001B[49m\u001B[43m,\u001B[49m\u001B[43m \u001B[49m\u001B[43mtol_const\u001B[49m\u001B[43m)\u001B[49m:\n\u001B[0;32m    226\u001B[0m     \u001B[38;5;28mprint\u001B[39m(\u001B[38;5;124mf\u001B[39m\u001B[38;5;124m'\u001B[39m\u001B[38;5;130;01m\\n\u001B[39;00m\u001B[38;5;124mOptimum is attained. Loss: \u001B[39m\u001B[38;5;132;01m{\u001B[39;00mloss\u001B[38;5;132;01m}\u001B[39;00m\u001B[38;5;124m. Epochs: \u001B[39m\u001B[38;5;132;01m{\u001B[39;00mepoch\u001B[38;5;132;01m}\u001B[39;00m\u001B[38;5;124m epochs.\u001B[39m\u001B[38;5;124m'\u001B[39m)\n\u001B[0;32m    227\u001B[0m     \u001B[38;5;28mself\u001B[39m\u001B[38;5;241m.\u001B[39mis_optim \u001B[38;5;241m=\u001B[39m \u001B[38;5;28;01mTrue\u001B[39;00m\n",
      "File \u001B[1;32m~\\OneDrive - Chalmers\\År 3\\Kandidatarbete\\Python Git\\Optimizer\\pytorch_measure.py:153\u001B[0m, in \u001B[0;36mOptimizer.stop_criterion\u001B[1;34m(self, tol_supp, tol_const)\u001B[0m\n\u001B[0;32m    145\u001B[0m \u001B[38;5;28;01mdef\u001B[39;00m \u001B[38;5;21mstop_criterion\u001B[39m(\u001B[38;5;28mself\u001B[39m, tol_supp\u001B[38;5;241m=\u001B[39m\u001B[38;5;241m1e-6\u001B[39m, tol_const\u001B[38;5;241m=\u001B[39m\u001B[38;5;241m1e-3\u001B[39m):\n\u001B[0;32m    146\u001B[0m     \u001B[38;5;124;03m\"\"\"\u001B[39;00m\n\u001B[0;32m    147\u001B[0m \u001B[38;5;124;03m    Checks if the difference between the maximum and minimum gradient is\u001B[39;00m\n\u001B[0;32m    148\u001B[0m \u001B[38;5;124;03m    within a certain range.\u001B[39;00m\n\u001B[1;32m   (...)\u001B[0m\n\u001B[0;32m    151\u001B[0m \u001B[38;5;124;03m    is smaller than this value the minimization should seize\u001B[39;00m\n\u001B[0;32m    152\u001B[0m \u001B[38;5;124;03m    \"\"\"\u001B[39;00m\n\u001B[1;32m--> 153\u001B[0m     \u001B[38;5;28;01mreturn\u001B[39;00m \u001B[38;5;28mmin\u001B[39m([measure\u001B[38;5;241m.\u001B[39mweights\u001B[38;5;241m.\u001B[39mgrad[measure\u001B[38;5;241m.\u001B[39msupport(tol_supp)]\u001B[38;5;241m.\u001B[39mmax()\n\u001B[0;32m    154\u001B[0m                 \u001B[38;5;241m-\u001B[39m measure\u001B[38;5;241m.\u001B[39mweights\u001B[38;5;241m.\u001B[39mgrad\u001B[38;5;241m.\u001B[39mmin() \u001B[38;5;241m<\u001B[39m tol_const \u001B[38;5;28;01mfor\u001B[39;00m measure \u001B[38;5;129;01min\u001B[39;00m \u001B[38;5;28mself\u001B[39m\u001B[38;5;241m.\u001B[39mmeasures])\n",
      "File \u001B[1;32m~\\OneDrive - Chalmers\\År 3\\Kandidatarbete\\Python Git\\Optimizer\\pytorch_measure.py:153\u001B[0m, in \u001B[0;36m<listcomp>\u001B[1;34m(.0)\u001B[0m\n\u001B[0;32m    145\u001B[0m \u001B[38;5;28;01mdef\u001B[39;00m \u001B[38;5;21mstop_criterion\u001B[39m(\u001B[38;5;28mself\u001B[39m, tol_supp\u001B[38;5;241m=\u001B[39m\u001B[38;5;241m1e-6\u001B[39m, tol_const\u001B[38;5;241m=\u001B[39m\u001B[38;5;241m1e-3\u001B[39m):\n\u001B[0;32m    146\u001B[0m     \u001B[38;5;124;03m\"\"\"\u001B[39;00m\n\u001B[0;32m    147\u001B[0m \u001B[38;5;124;03m    Checks if the difference between the maximum and minimum gradient is\u001B[39;00m\n\u001B[0;32m    148\u001B[0m \u001B[38;5;124;03m    within a certain range.\u001B[39;00m\n\u001B[1;32m   (...)\u001B[0m\n\u001B[0;32m    151\u001B[0m \u001B[38;5;124;03m    is smaller than this value the minimization should seize\u001B[39;00m\n\u001B[0;32m    152\u001B[0m \u001B[38;5;124;03m    \"\"\"\u001B[39;00m\n\u001B[1;32m--> 153\u001B[0m     \u001B[38;5;28;01mreturn\u001B[39;00m \u001B[38;5;28mmin\u001B[39m([measure\u001B[38;5;241m.\u001B[39mweights\u001B[38;5;241m.\u001B[39mgrad[\u001B[43mmeasure\u001B[49m\u001B[38;5;241;43m.\u001B[39;49m\u001B[43msupport\u001B[49m\u001B[43m(\u001B[49m\u001B[43mtol_supp\u001B[49m\u001B[43m)\u001B[49m]\u001B[38;5;241m.\u001B[39mmax()\n\u001B[0;32m    154\u001B[0m                 \u001B[38;5;241m-\u001B[39m measure\u001B[38;5;241m.\u001B[39mweights\u001B[38;5;241m.\u001B[39mgrad\u001B[38;5;241m.\u001B[39mmin() \u001B[38;5;241m<\u001B[39m tol_const \u001B[38;5;28;01mfor\u001B[39;00m measure \u001B[38;5;129;01min\u001B[39;00m \u001B[38;5;28mself\u001B[39m\u001B[38;5;241m.\u001B[39mmeasures])\n",
      "File \u001B[1;32m~\\OneDrive - Chalmers\\År 3\\Kandidatarbete\\Python Git\\Optimizer\\pytorch_measure.py:62\u001B[0m, in \u001B[0;36mMeasure.support\u001B[1;34m(self, tol)\u001B[0m\n\u001B[0;32m     60\u001B[0m sorted_idx \u001B[38;5;241m=\u001B[39m torch\u001B[38;5;241m.\u001B[39margsort(\u001B[38;5;28mself\u001B[39m\u001B[38;5;241m.\u001B[39mweights\u001B[38;5;241m.\u001B[39mabs())\n\u001B[0;32m     61\u001B[0m accum_weight \u001B[38;5;241m=\u001B[39m torch\u001B[38;5;241m.\u001B[39mcumsum(\u001B[38;5;28mself\u001B[39m\u001B[38;5;241m.\u001B[39mweights[sorted_idx]\u001B[38;5;241m.\u001B[39mabs(), dim\u001B[38;5;241m=\u001B[39m\u001B[38;5;241m0\u001B[39m)\n\u001B[1;32m---> 62\u001B[0m cutoff \u001B[38;5;241m=\u001B[39m tol \u001B[38;5;241m*\u001B[39m \u001B[38;5;28;43mself\u001B[39;49m\u001B[38;5;241;43m.\u001B[39;49m\u001B[43mtotal_variation\u001B[49m\u001B[43m(\u001B[49m\u001B[43m)\u001B[49m\n\u001B[0;32m     63\u001B[0m \u001B[38;5;28;01mreturn\u001B[39;00m sorted_idx[cutoff \u001B[38;5;241m<\u001B[39m accum_weight]\n",
      "File \u001B[1;32m~\\OneDrive - Chalmers\\År 3\\Kandidatarbete\\Python Git\\Optimizer\\pytorch_measure.py:53\u001B[0m, in \u001B[0;36mMeasure.total_variation\u001B[1;34m(self)\u001B[0m\n\u001B[0;32m     48\u001B[0m \u001B[38;5;28;01mdef\u001B[39;00m \u001B[38;5;21mtotal_variation\u001B[39m(\u001B[38;5;28mself\u001B[39m) \u001B[38;5;241m-\u001B[39m\u001B[38;5;241m>\u001B[39m \u001B[38;5;28mfloat\u001B[39m:\n\u001B[0;32m     49\u001B[0m     \u001B[38;5;124;03m\"\"\"\u001B[39;00m\n\u001B[0;32m     50\u001B[0m \u001B[38;5;124;03m    Returns the sum of the absolute value of all weights in the measure: \\sum_{i=1}^n |w_i|\u001B[39;00m\n\u001B[0;32m     51\u001B[0m \u001B[38;5;124;03m    :returns: float\u001B[39;00m\n\u001B[0;32m     52\u001B[0m \u001B[38;5;124;03m    \"\"\"\u001B[39;00m\n\u001B[1;32m---> 53\u001B[0m     \u001B[38;5;28;01mreturn\u001B[39;00m \u001B[38;5;28;43msum\u001B[39;49m\u001B[43m(\u001B[49m\u001B[38;5;28;43mabs\u001B[39;49m\u001B[43m(\u001B[49m\u001B[38;5;28;43mself\u001B[39;49m\u001B[38;5;241;43m.\u001B[39;49m\u001B[43mweights\u001B[49m\u001B[43m)\u001B[49m\u001B[43m)\u001B[49m\u001B[38;5;241m.\u001B[39mitem()\n",
      "\u001B[1;31mKeyboardInterrupt\u001B[0m: "
     ]
    }
   ],
   "source": [
    "measure = pm.Measure(locations=l, weights=w, device=dev)\n",
    "opt = pm.Optimizer([measure], lr=1e-1)\n",
    "opt.minimize(NLLLoss, verbose=True)\n",
    "\n",
    "plt.bar(height=measure.weights.detach(),x=l)\n",
    "plt.hist(torch.randn(10000),bins=40, density=True, range=[-4,4], alpha=0.5)\n",
    "plt.legend(['Model','True data'])\n",
    "plt.show()\n"
   ]
  },
  {
   "cell_type": "code",
   "execution_count": null,
   "outputs": [],
   "source": [],
   "metadata": {
    "collapsed": false
   }
  }
 ],
 "metadata": {
  "kernelspec": {
   "display_name": "Python 3",
   "language": "python",
   "name": "python3"
  },
  "language_info": {
   "codemirror_mode": {
    "name": "ipython",
    "version": 3
   },
   "file_extension": ".py",
   "mimetype": "text/x-python",
   "name": "python",
   "nbconvert_exporter": "python",
   "pygments_lexer": "ipython3",
   "version": "3.10.6"
  },
  "orig_nbformat": 4,
  "vscode": {
   "interpreter": {
    "hash": "31f2aee4e71d21fbe5cf8b01ff0e069b9275f58929596ceb00d14d90e3e16cd6"
   }
  }
 },
 "nbformat": 4,
 "nbformat_minor": 2
}
