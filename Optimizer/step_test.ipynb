{
 "cells": [
  {
   "cell_type": "code",
   "execution_count": 19,
   "outputs": [
    {
     "name": "stdout",
     "output_type": "stream",
     "text": [
      "tensor(-11264.5283)\n",
      "tensor(-inf)\n",
      "tensor(-9854.7666)\n",
      "tensor(-inf)\n",
      "tensor(-9854.7666)\n",
      "tensor(-inf)\n",
      "tensor(-9854.7666)\n",
      "tensor(-inf)\n",
      "tensor(-9854.7666)\n",
      "tensor(-inf)\n",
      "tensor(-9854.7666)\n",
      "tensor(-inf)\n",
      "tensor(-9854.7666)\n",
      "tensor(-inf)\n",
      "tensor(-9854.7666)\n",
      "tensor(-inf)\n",
      "tensor(-9854.7666)\n",
      "tensor(-inf)\n",
      "tensor(-9854.7666)\n",
      "tensor(-inf)\n",
      "tensor(-9854.7666)\n",
      "tensor(-inf)\n",
      "tensor(-9854.7666)\n",
      "tensor(-inf)\n",
      "tensor(-9854.7666)\n",
      "tensor(-inf)\n",
      "tensor(-9854.7666)\n",
      "tensor(-inf)\n",
      "tensor(-9854.7666)\n",
      "tensor(-inf)\n",
      "tensor(-9854.7666)\n",
      "tensor(-inf)\n",
      "tensor(-9854.7666)\n",
      "tensor(-inf)\n",
      "tensor(-9854.7666)\n",
      "tensor(-inf)\n",
      "tensor(-9854.7666)\n",
      "tensor(-inf)\n",
      "tensor(-9854.7666)\n",
      "tensor(-inf)\n",
      "tensor(-9854.7666)\n",
      "tensor(-inf)\n",
      "tensor(-9854.7666)\n",
      "tensor(-inf)\n",
      "tensor(-9854.7666)\n",
      "tensor(-inf)\n",
      "tensor(-9854.7666)\n",
      "tensor(-inf)\n",
      "tensor(-9854.7666)\n",
      "tensor(-inf)\n",
      "tensor(-9854.7666)\n",
      "tensor(-inf)\n",
      "tensor(-9854.7666)\n",
      "tensor(-inf)\n",
      "tensor(-9854.7666)\n",
      "tensor(-inf)\n",
      "tensor(-9854.7666)\n",
      "tensor(-inf)\n",
      "tensor(-9854.7666)\n",
      "tensor(-inf)\n",
      "tensor(-9854.7666)\n",
      "tensor(-inf)\n",
      "tensor(-9854.7666)\n",
      "tensor(-inf)\n",
      "tensor(-9854.7666)\n",
      "tensor(-inf)\n",
      "tensor(-9854.7666)\n",
      "tensor(-inf)\n",
      "tensor(-9854.7666)\n",
      "tensor(-inf)\n",
      "tensor(-9854.7666)\n",
      "tensor(-inf)\n",
      "tensor(-9854.7666)\n",
      "tensor(-inf)\n",
      "tensor(-9854.7666)\n",
      "tensor(-inf)\n",
      "tensor(-9854.7666)\n",
      "tensor(-inf)\n",
      "tensor(-9854.7666)\n",
      "tensor(-inf)\n",
      "tensor(-9854.7666)\n",
      "tensor(-inf)\n",
      "tensor(-9854.7666)\n",
      "tensor(-inf)\n",
      "tensor(-9854.7666)\n",
      "tensor(-inf)\n",
      "tensor(-9854.7666)\n",
      "tensor(-inf)\n",
      "tensor(-9854.7666)\n",
      "tensor(-inf)\n",
      "tensor(-9854.7666)\n",
      "tensor(-inf)\n",
      "tensor(-9854.7666)\n",
      "tensor(-inf)\n",
      "tensor(-9854.7666)\n",
      "tensor(-inf)\n",
      "tensor(-9854.7666)\n",
      "tensor(-inf)\n",
      "tensor(-9854.7666)\n",
      "tensor(-inf)\n",
      "tensor(-9854.7666)\n",
      "tensor(-inf)\n"
     ]
    },
    {
     "data": {
      "text/plain": "<Figure size 640x480 with 1 Axes>",
      "image/png": "[encoded data removed]"
     },
     "metadata": {},
     "output_type": "display_data"
    },
    {
     "name": "stdout",
     "output_type": "stream",
     "text": [
      "Parameter containing:\n",
      "tensor([0.0250, 0.0362, 0.1093, 0.1429, 0.1195, 0.1701, 0.1376, 0.1252, 0.0661,\n",
      "        0.0620, 0.0060], requires_grad=True)\n"
     ]
    }
   ],
   "source": [
    "import matplotlib.pyplot as plt\n",
    "import torch\n",
    "import pytorch_measure as pm\n",
    "torch.manual_seed(12)\n",
    "data = torch.randn(1000)\n",
    "l = [min(data).item(), max(data).item()]\n",
    "N = 11\n",
    "index = [round((y.item() - l[0]) * (N - 1) / (l[1] - l[0])) for y in data]\n",
    "def loss_fn(w):\n",
    "    return -w[index].log().sum()\n",
    "\n",
    "def test_step():\n",
    "    w = torch.softmax(torch.rand(N), dim=0)\n",
    "    loc = torch.linspace(min(data).item(), max(data).item(), N)\n",
    "    measure = pm.PytorchMeasure(loc, w)\n",
    "    for epoch in range(10000):\n",
    "        measure.step(loss_fn, 0.05)\n",
    "        if epoch % 99 == 0:\n",
    "            print(measure.weights.grad.sum())\n",
    "    measure.visualize()\n",
    "    plt.show()\n",
    "    print(measure.weights)\n",
    "\n",
    "test_step()\n"
   ],
   "metadata": {
    "collapsed": false
   }
  },
  {
   "cell_type": "code",
   "execution_count": 10,
   "outputs": [
    {
     "data": {
      "text/plain": "<Figure size 640x480 with 1 Axes>",
      "image/png": "[encoded data removed]"
     },
     "metadata": {},
     "output_type": "display_data"
    },
    {
     "name": "stdout",
     "output_type": "stream",
     "text": [
      "Locations: [-3.6891868114471436, -3.332104444503784, -2.9750218391418457, -2.6179394721984863, -2.260857105255127, -1.9037747383117676, -1.546692132949829, -1.1896097660064697, -0.8325273990631104, -0.4754449725151062, -0.11836254596710205, 0.23871994018554688, 0.5958023071289062, 0.9528846740722656, 1.309967279434204, 1.6670496463775635, 2.024132251739502, 2.3812146186828613, 2.7382969856262207, 3.095379590988159, 3.4524619579315186]\n",
      "Weights: [0.02500000037252903, 0.01673099584877491, 0.03248032554984093, 0.038970913738012314, 0.045481517910957336, 0.06297279894351959, 0.039325036108493805, 0.03738083317875862, 0.051232632249593735, 0.06665187329053879, 0.08416907489299774, 0.08673401176929474, 0.0712851732969284, 0.061186932027339935, 0.07238271087408066, 0.05340798571705818, 0.040251724421978, 0.07595724612474442, 0.025667790323495865, 0.012730417773127556, 0.0]\n"
     ]
    }
   ],
   "source": [
    "data = torch.randn(2000)\n",
    "l = [min(data).item(), max(data).item()]\n",
    "N = 21\n",
    "def loss_fn(w):\n",
    "    # Funkar inte riktigt\n",
    "    log_prob = 0\n",
    "    for y in data:\n",
    "        # Remap y from l to range(len(w))\n",
    "        i = round((y.item() - l[0]) * (len(w) - 1) / (l[1] - l[0]))\n",
    "        log_prob += torch.log(w[i])\n",
    "    return -log_prob\n",
    "\n",
    "def test_step():\n",
    "    w = torch.softmax(torch.rand(N), dim=0)\n",
    "    loc = torch.linspace(min(data).item(), max(data).item(), N)\n",
    "    measure = pm.PytorchMeasure(loc, w)\n",
    "    for epoch in range(500):\n",
    "        measure.step(loss_fn, 0.05)\n",
    "    measure.visualize()\n",
    "    print(measure)\n",
    "\n",
    "test_step()\n",
    "\n"
   ],
   "metadata": {
    "collapsed": false
   }
  },
  {
   "cell_type": "code",
   "execution_count": 65,
   "outputs": [
    {
     "name": "stdout",
     "output_type": "stream",
     "text": [
      "tensor([[ 0.0000, -0.3333,  0.0000,  0.0000,  0.0000],\n",
      "        [-0.3333,  0.0000,  0.0000,  0.0000,  0.0000],\n",
      "        [ 0.0000,  0.0000,  0.0000, -0.3333,  0.0000]])\n",
      "tensor([[0.4657, 0.2328, 0.4527, 0.5871, 0.4086],\n",
      "        [0.1272, 0.6373, 0.2421, 0.7312, 0.7224],\n",
      "        [0.1992, 0.6948, 0.5830, 0.6318, 0.5559]], requires_grad=True)\n"
     ]
    }
   ],
   "source": [
    "m = torch.nn.Softmax(dim=1)\n",
    "loss = torch.nn.NLLLoss()\n",
    "# input is of size N x C = 3 x 5\n",
    "input = torch.rand(3,5,requires_grad=True)\n",
    "# each element in target has to have 0 <= value < C\n",
    "target = torch.tensor([1, 0, 3])\n",
    "output = loss(input, target)\n",
    "output.backward()\n",
    "print(input.grad)\n",
    "print(input)"
   ],
   "metadata": {
    "collapsed": false
   }
  },
  {
   "cell_type": "code",
   "execution_count": null,
   "outputs": [],
   "source": [],
   "metadata": {
    "collapsed": false
   }
  }
 ],
 "metadata": {
  "kernelspec": {
   "display_name": "local",
   "language": "python",
   "name": "python3"
  },
  "language_info": {
   "codemirror_mode": {
    "name": "ipython",
    "version": 3
   },
   "file_extension": ".py",
   "mimetype": "text/x-python",
   "name": "python",
   "nbconvert_exporter": "python",
   "pygments_lexer": "ipython3",
   "version": "3.9.16"
  },
  "orig_nbformat": 4,
  "vscode": {
   "interpreter": {
    "hash": "7bfab563a781f4da718747e2fae872b9d7cb73fc061a7ef5b3d06d4d87105164"
   }
  }
 },
 "nbformat": 4,
 "nbformat_minor": 2
}
