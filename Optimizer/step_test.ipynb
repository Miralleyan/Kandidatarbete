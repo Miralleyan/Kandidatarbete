{
 "cells": [
  {
   "cell_type": "code",
   "execution_count": 7,
   "metadata": {
    "collapsed": false
   },
   "outputs": [],
   "source": [
    "import matplotlib.pyplot as plt\n",
    "import torch\n",
    "import pytorch_measure as pm\n",
    "import numpy as np\n",
    "N = 17 # number of weights\n",
    "M = 1000 # Number of datapoints\n",
    "verbose = True\n",
    "dev = 'cpu'\n",
    "\n",
    "x = torch.linspace(0, 10, M)\n",
    "data = -2 + x + torch.randn(M).to(dev)\n",
    "\n",
    "w = torch.softmax(torch.ones(N,dtype=torch.float),dim=-1).to(dev)\n",
    "w = torch.nn.parameter.Parameter(w)\n",
    "l = torch.linspace(-6, 2, N, requires_grad=False).to(dev)\n",
    "\n",
    "def regression_model(a,x):\n",
    "    return a+x\n",
    "\n",
    "index = []\n",
    "for i in range(M):\n",
    "    ab = (regression_model(l, x[i]) - data[i]).abs()\n",
    "    index.append(torch.argmin(ab))\n",
    "\n",
    "def NLLLoss(m:list[pm.Measure]):\n",
    "    return -m[0].weights[index].log().sum()\n",
    "\n",
    "sd = (l[index] - data)**2\n",
    "def WardLoss(w):\n",
    "    return sum(sd * w[index])\n"
   ]
  },
  {
   "cell_type": "code",
   "execution_count": 8,
   "metadata": {
    "collapsed": false
   },
   "outputs": [
    {
     "name": "stdout",
     "output_type": "stream",
     "text": [
      "Epoch: 0          Loss: 2829.8926  LR: 0.00100\n",
      "Epoch: 100        Loss: 2579.0164  LR: 0.00100\n",
      "Epoch: 200        Loss: 2397.1584  LR: 0.00100\n",
      "Epoch: 300        Loss: 2252.7012  LR: 0.00100\n",
      "Epoch: 400        Loss: 2146.3960  LR: 0.00100\n",
      "Epoch: 500        Loss: 2095.5557  LR: 0.00100\n",
      "Epoch: 521        Lr was reduced to: 0.00070\n",
      "Epoch: 542        Lr was reduced to: 0.00049\n",
      "Epoch: 543        Lr was reduced to: 0.00034\n",
      "Epoch: 589        Lr was reduced to: 0.00024\n",
      "Epoch: 590        Lr was reduced to: 0.00017\n",
      "Epoch: 600        Loss: 2088.3225  LR: 0.00017\n",
      "Epoch: 700        Loss: 2087.2810  LR: 0.00017\n",
      "Epoch: 702        Lr was reduced to: 0.00012\n",
      "Epoch: 800        Loss: 2087.0571  LR: 0.00012\n",
      "Epoch: 805        Lr was reduced to: 0.00008\n",
      "Epoch: 807        Lr was reduced to: 0.00006\n",
      "Epoch: 808        Lr was reduced to: 0.00004\n",
      "Epoch: 809        Lr was reduced to: 0.00003\n",
      "Epoch: 812        Loss did not decrease\n",
      "Epoch: 814        Lr was reduced to: 0.00002\n",
      "Epoch: 815        Lr was reduced to: 0.00001\n",
      "Epoch: 816        Loss did not decrease\n",
      "Epoch: 817        Loss did not decrease\n",
      "Epoch: 818        Loss did not decrease\n",
      "Epoch: 819        Loss did not decrease\n",
      "Epoch: 821        Loss did not decrease\n",
      "Epoch: 822        Loss did not decrease\n",
      "Epoch: 823        Loss did not decrease\n",
      "Epoch: 825        Loss did not decrease\n",
      "Epoch: 826        Lr was reduced to: 0.00001\n",
      "Epoch: 827        Loss did not decrease\n",
      "Epoch: 828        Loss did not decrease\n",
      "Epoch: 829        Lr was reduced to: 0.00001\n",
      "Epoch: 830        Loss did not decrease\n",
      "Epoch: 831        Loss did not decrease\n",
      "Epoch: 833        Lr was reduced to: 0.00000\n",
      "Epoch: 834        Lr was reduced to: 0.00000\n",
      "Epoch: 835        Loss did not decrease\n",
      "Epoch: 836        Loss did not decrease\n",
      "Epoch: 837        Loss did not decrease\n",
      "Epoch: 838        Loss did not decrease\n",
      "Epoch: 839        Loss did not decrease\n",
      "Epoch: 840        Lr was reduced to: 0.00000\n",
      "Epoch: 841        Loss did not decrease\n",
      "Epoch: 842        Loss did not decrease\n",
      "Epoch: 843        Loss did not decrease\n",
      "Epoch: 844        Loss did not decrease\n",
      "Epoch: 846        Lr was reduced to: 0.00000\n",
      "Epoch: 847        Lr was reduced to: 0.00000\n",
      "Epoch: 848        Lr was reduced to: 0.00000\n",
      "The step size is too small: 7.979226629761193e-07\n"
     ]
    },
    {
     "data": {
      "text/plain": "<Figure size 640x480 with 1 Axes>",
      "image/png": "[encoded data removed]"
     },
     "metadata": {},
     "output_type": "display_data"
    }
   ],
   "source": [
    "measure = pm.Measure(locations=l, weights=w, device=dev)\n",
    "opt = pm.Optimizer([measure], lr=1e-3)\n",
    "opt.minimize(NLLLoss, verbose=True, print_freq=100, max_epochs=3000, tol_const=1e-2)\n",
    "\n",
    "plt.plot()\n",
    "\n",
    "mu=0 #Create true values\n",
    "sigma=1\n",
    "xs = l.detach()\n",
    "y=1/(np.sqrt(2*np.pi)*sigma)*torch.exp(-(xs+2-mu)**2/(2*sigma**2))\n",
    "y/=sum(y) #Normalize\n",
    "\n",
    "measure.visualize()\n",
    "plt.scatter(xs, y, zorder=0)\n",
    "plt.legend(['Model','PDF of true distribution'])\n",
    "plt.show()\n"
   ]
  },
  {
   "cell_type": "code",
   "execution_count": 8,
   "outputs": [],
   "source": [],
   "metadata": {
    "collapsed": false
   }
  }
 ],
 "metadata": {
  "kernelspec": {
   "display_name": "Python 3",
   "language": "python",
   "name": "python3"
  },
  "language_info": {
   "codemirror_mode": {
    "name": "ipython",
    "version": 3
   },
   "file_extension": ".py",
   "mimetype": "text/x-python",
   "name": "python",
   "nbconvert_exporter": "python",
   "pygments_lexer": "ipython3",
   "version": "3.10.6"
  },
  "orig_nbformat": 4,
  "vscode": {
   "interpreter": {
    "hash": "31f2aee4e71d21fbe5cf8b01ff0e069b9275f58929596ceb00d14d90e3e16cd6"
   }
  }
 },
 "nbformat": 4,
 "nbformat_minor": 2
}
