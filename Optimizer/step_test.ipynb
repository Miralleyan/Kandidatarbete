{
 "cells": [
  {
   "cell_type": "code",
   "execution_count": 11,
   "outputs": [
    {
     "name": "stdout",
     "output_type": "stream",
     "text": [
      "Epoch: 0          Loss: 138155\n",
      "Epoch: 1000       Loss: 131007\n",
      "Epoch: 2000       Loss: 125844\n",
      "Epoch: 3000       Loss: 121825\n",
      "Epoch: 4000       Loss: 119619\n",
      "Epoch: 5000       Loss: 119619\n",
      "Epoch: 6000       Loss: 119619\n",
      "Epoch: 7000       Loss: 119619\n",
      "Epoch: 8000       Loss: 119619\n",
      "Epoch: 9000       Loss: 119619\n"
     ]
    },
    {
     "data": {
      "text/plain": "<Figure size 640x480 with 1 Axes>",
      "image/png": "[encoded data removed]"
     },
     "metadata": {},
     "output_type": "display_data"
    }
   ],
   "source": [
    "import matplotlib.pyplot as plt\n",
    "import torch\n",
    "import pytorch_measure as pm\n",
    "N = 100 # number of weights\n",
    "data = torch.randn(30000)\n",
    "#l = [min(data).item(), max(data).item()]\n",
    "w = torch.softmax(torch.ones(N,dtype=torch.float),dim=-1)\n",
    "l = torch.linspace(-4, 4, N)\n",
    "# if l is min & max only\n",
    "#index = [round((y.item() - l[0]) * (N - 1) / (l[1] - l[0])) for y in data]\n",
    "# if l is all locations\n",
    "index = torch.argmin(abs(l-data.view(-1,1)), dim=1)\n",
    "def loss_fn(w):\n",
    "    return -w[index].log().sum()\n",
    "\n",
    "def test_step(verbose):\n",
    "    measure = pm.Measure(l, w)\n",
    "    opt = pm.Optimizer(measure)\n",
    "    last_loss = float('inf')\n",
    "    counter = 0\n",
    "    for epoch in range(10000):\n",
    "        measure.zero_gradient()\n",
    "        loss = loss_fn(measure.weights)\n",
    "        loss.backward()\n",
    "        opt.step(lr=0.0001)\n",
    "        if epoch % 1000 == 0 and verbose:\n",
    "            print(f'Epoch: {epoch:<10} Loss: {loss:.0f}')\n",
    "\n",
    "    plt.hist(measure.sample(10000),bins=20, density=True, range=[-4,4])\n",
    "    plt.hist(torch.randn(10000),bins=20, density=True, range=[-4,4], alpha=0.5)\n",
    "    plt.legend(['Model','True data'])\n",
    "    plt.show()\n",
    "\n",
    "test_step(verbose=True)\n"
   ],
   "metadata": {
    "collapsed": false
   }
  },
  {
   "cell_type": "code",
   "execution_count": 1,
   "outputs": [
    {
     "ename": "NameError",
     "evalue": "name 'torch' is not defined",
     "output_type": "error",
     "traceback": [
      "\u001B[1;31m---------------------------------------------------------------------------\u001B[0m",
      "\u001B[1;31mNameError\u001B[0m                                 Traceback (most recent call last)",
      "Cell \u001B[1;32mIn[1], line 1\u001B[0m\n\u001B[1;32m----> 1\u001B[0m data \u001B[38;5;241m=\u001B[39m \u001B[43mtorch\u001B[49m\u001B[38;5;241m.\u001B[39mrandn(\u001B[38;5;241m2000\u001B[39m)\n\u001B[0;32m      2\u001B[0m l \u001B[38;5;241m=\u001B[39m [\u001B[38;5;28mmin\u001B[39m(data)\u001B[38;5;241m.\u001B[39mitem(), \u001B[38;5;28mmax\u001B[39m(data)\u001B[38;5;241m.\u001B[39mitem()]\n\u001B[0;32m      3\u001B[0m N \u001B[38;5;241m=\u001B[39m \u001B[38;5;241m21\u001B[39m\n",
      "\u001B[1;31mNameError\u001B[0m: name 'torch' is not defined"
     ]
    }
   ],
   "source": [
    "data = torch.randn(2000)\n",
    "l = [min(data).item(), max(data).item()]\n",
    "N = 21\n",
    "def loss_fn(w):\n",
    "    # Funkar inte riktigt\n",
    "    log_prob = 0\n",
    "    for y in data:\n",
    "        # Remap y from l to range(len(w))\n",
    "        i = round((y.item() - l[0]) * (len(w) - 1) / (l[1] - l[0]))\n",
    "        log_prob += torch.log(w[i])\n",
    "    return -log_prob\n",
    "\n",
    "def test_step():\n",
    "    w = torch.softmax(torch.rand(N), dim=0)\n",
    "    loc = torch.linspace(min(data).item(), max(data).item(), N)\n",
    "    measure = pm.PytorchMeasure(loc, w)\n",
    "    for epoch in range(500):\n",
    "        measure.step(loss_fn, 0.05)\n",
    "    measure.visualize()\n",
    "    print(measure)\n",
    "\n",
    "test_step()\n",
    "\n"
   ],
   "metadata": {
    "collapsed": false
   }
  },
  {
   "cell_type": "code",
   "execution_count": 65,
   "outputs": [
    {
     "name": "stdout",
     "output_type": "stream",
     "text": [
      "tensor([[ 0.0000, -0.3333,  0.0000,  0.0000,  0.0000],\n",
      "        [-0.3333,  0.0000,  0.0000,  0.0000,  0.0000],\n",
      "        [ 0.0000,  0.0000,  0.0000, -0.3333,  0.0000]])\n",
      "tensor([[0.4657, 0.2328, 0.4527, 0.5871, 0.4086],\n",
      "        [0.1272, 0.6373, 0.2421, 0.7312, 0.7224],\n",
      "        [0.1992, 0.6948, 0.5830, 0.6318, 0.5559]], requires_grad=True)\n"
     ]
    }
   ],
   "source": [
    "m = torch.nn.Softmax(dim=1)\n",
    "loss = torch.nn.NLLLoss()\n",
    "# input is of size N x C = 3 x 5\n",
    "input = torch.rand(3,5,requires_grad=True)\n",
    "# each element in target has to have 0 <= value < C\n",
    "target = torch.tensor([1, 0, 3])\n",
    "output = loss(input, target)\n",
    "output.backward()\n",
    "print(input.grad)\n",
    "print(input)"
   ],
   "metadata": {
    "collapsed": false
   }
  },
  {
   "cell_type": "code",
   "execution_count": null,
   "outputs": [],
   "source": [],
   "metadata": {
    "collapsed": false
   }
  }
 ],
 "metadata": {
  "kernelspec": {
   "display_name": "local",
   "language": "python",
   "name": "python3"
  },
  "language_info": {
   "codemirror_mode": {
    "name": "ipython",
    "version": 3
   },
   "file_extension": ".py",
   "mimetype": "text/x-python",
   "name": "python",
   "nbconvert_exporter": "python",
   "pygments_lexer": "ipython3",
   "version": "3.9.16"
  },
  "orig_nbformat": 4,
  "vscode": {
   "interpreter": {
    "hash": "7bfab563a781f4da718747e2fae872b9d7cb73fc061a7ef5b3d06d4d87105164"
   }
  }
 },
 "nbformat": 4,
 "nbformat_minor": 2
}
