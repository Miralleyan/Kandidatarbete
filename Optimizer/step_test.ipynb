{
 "cells": [
  {
   "cell_type": "code",
   "execution_count": 8,
   "metadata": {
    "collapsed": false
   },
   "outputs": [
    {
     "name": "stdout",
     "output_type": "stream",
     "text": [
      "Epoch: 0          Loss: 4605170    LR: 0.0001\n"
     ]
    },
    {
     "ename": "KeyboardInterrupt",
     "evalue": "",
     "output_type": "error",
     "traceback": [
      "\u001b[1;31m---------------------------------------------------------------------------\u001b[0m",
      "\u001b[1;31mKeyboardInterrupt\u001b[0m                         Traceback (most recent call last)",
      "Cell \u001b[1;32mIn[8], line 28\u001b[0m\n\u001b[0;32m     26\u001b[0m measure\u001b[38;5;241m.\u001b[39mzero_gradient()\n\u001b[0;32m     27\u001b[0m loss \u001b[38;5;241m=\u001b[39m loss_fn(measure\u001b[38;5;241m.\u001b[39mweights)\n\u001b[1;32m---> 28\u001b[0m \u001b[43mloss\u001b[49m\u001b[38;5;241;43m.\u001b[39;49m\u001b[43mbackward\u001b[49m\u001b[43m(\u001b[49m\u001b[43m)\u001b[49m\n\u001b[0;32m     30\u001b[0m opt\u001b[38;5;241m.\u001b[39mstep(lr)\n\u001b[0;32m     32\u001b[0m \u001b[38;5;28;01mif\u001b[39;00m epoch \u001b[38;5;241m%\u001b[39m \u001b[38;5;241m1000\u001b[39m \u001b[38;5;241m==\u001b[39m \u001b[38;5;241m0\u001b[39m \u001b[38;5;129;01mand\u001b[39;00m verbose:\n",
      "File \u001b[1;32m~\\anaconda3\\lib\\site-packages\\torch\\_tensor.py:488\u001b[0m, in \u001b[0;36mTensor.backward\u001b[1;34m(self, gradient, retain_graph, create_graph, inputs)\u001b[0m\n\u001b[0;32m    478\u001b[0m \u001b[38;5;28;01mif\u001b[39;00m has_torch_function_unary(\u001b[38;5;28mself\u001b[39m):\n\u001b[0;32m    479\u001b[0m     \u001b[38;5;28;01mreturn\u001b[39;00m handle_torch_function(\n\u001b[0;32m    480\u001b[0m         Tensor\u001b[38;5;241m.\u001b[39mbackward,\n\u001b[0;32m    481\u001b[0m         (\u001b[38;5;28mself\u001b[39m,),\n\u001b[1;32m   (...)\u001b[0m\n\u001b[0;32m    486\u001b[0m         inputs\u001b[38;5;241m=\u001b[39minputs,\n\u001b[0;32m    487\u001b[0m     )\n\u001b[1;32m--> 488\u001b[0m \u001b[43mtorch\u001b[49m\u001b[38;5;241;43m.\u001b[39;49m\u001b[43mautograd\u001b[49m\u001b[38;5;241;43m.\u001b[39;49m\u001b[43mbackward\u001b[49m\u001b[43m(\u001b[49m\n\u001b[0;32m    489\u001b[0m \u001b[43m    \u001b[49m\u001b[38;5;28;43mself\u001b[39;49m\u001b[43m,\u001b[49m\u001b[43m \u001b[49m\u001b[43mgradient\u001b[49m\u001b[43m,\u001b[49m\u001b[43m \u001b[49m\u001b[43mretain_graph\u001b[49m\u001b[43m,\u001b[49m\u001b[43m \u001b[49m\u001b[43mcreate_graph\u001b[49m\u001b[43m,\u001b[49m\u001b[43m \u001b[49m\u001b[43minputs\u001b[49m\u001b[38;5;241;43m=\u001b[39;49m\u001b[43minputs\u001b[49m\n\u001b[0;32m    490\u001b[0m \u001b[43m\u001b[49m\u001b[43m)\u001b[49m\n",
      "File \u001b[1;32m~\\anaconda3\\lib\\site-packages\\torch\\autograd\\__init__.py:197\u001b[0m, in \u001b[0;36mbackward\u001b[1;34m(tensors, grad_tensors, retain_graph, create_graph, grad_variables, inputs)\u001b[0m\n\u001b[0;32m    192\u001b[0m     retain_graph \u001b[38;5;241m=\u001b[39m create_graph\n\u001b[0;32m    194\u001b[0m \u001b[38;5;66;03m# The reason we repeat same the comment below is that\u001b[39;00m\n\u001b[0;32m    195\u001b[0m \u001b[38;5;66;03m# some Python versions print out the first line of a multi-line function\u001b[39;00m\n\u001b[0;32m    196\u001b[0m \u001b[38;5;66;03m# calls in the traceback and some print out the last line\u001b[39;00m\n\u001b[1;32m--> 197\u001b[0m \u001b[43mVariable\u001b[49m\u001b[38;5;241;43m.\u001b[39;49m\u001b[43m_execution_engine\u001b[49m\u001b[38;5;241;43m.\u001b[39;49m\u001b[43mrun_backward\u001b[49m\u001b[43m(\u001b[49m\u001b[43m  \u001b[49m\u001b[38;5;66;43;03m# Calls into the C++ engine to run the backward pass\u001b[39;49;00m\n\u001b[0;32m    198\u001b[0m \u001b[43m    \u001b[49m\u001b[43mtensors\u001b[49m\u001b[43m,\u001b[49m\u001b[43m \u001b[49m\u001b[43mgrad_tensors_\u001b[49m\u001b[43m,\u001b[49m\u001b[43m \u001b[49m\u001b[43mretain_graph\u001b[49m\u001b[43m,\u001b[49m\u001b[43m \u001b[49m\u001b[43mcreate_graph\u001b[49m\u001b[43m,\u001b[49m\u001b[43m \u001b[49m\u001b[43minputs\u001b[49m\u001b[43m,\u001b[49m\n\u001b[0;32m    199\u001b[0m \u001b[43m    \u001b[49m\u001b[43mallow_unreachable\u001b[49m\u001b[38;5;241;43m=\u001b[39;49m\u001b[38;5;28;43;01mTrue\u001b[39;49;00m\u001b[43m,\u001b[49m\u001b[43m \u001b[49m\u001b[43maccumulate_grad\u001b[49m\u001b[38;5;241;43m=\u001b[39;49m\u001b[38;5;28;43;01mTrue\u001b[39;49;00m\u001b[43m)\u001b[49m\n",
      "\u001b[1;31mKeyboardInterrupt\u001b[0m: "
     ]
    }
   ],
   "source": [
    "import matplotlib.pyplot as plt\n",
    "import torch\n",
    "import pytorch_measure as pm\n",
    "N = 100 # number of weights\n",
    "verbose = True\n",
    "dev = 'cpu'\n",
    "\n",
    "data = torch.randn(10000).to(dev)\n",
    "#l = [min(data).item(), max(data).item()]\n",
    "w = torch.softmax(torch.ones(N,dtype=torch.float),dim=-1).to(dev)\n",
    "w = torch.nn.parameter.Parameter(w)\n",
    "l = torch.linspace(-4, 4, N).to(dev)\n",
    "l = torch.nn.parameter.Parameter(l)\n",
    "# if l is min & max only\n",
    "#index = [round((y.item() - l[0]) * (N - 1) / (l[1] - l[0])) for y in data]\n",
    "# if l is all locations\n",
    "index = torch.argmin(abs(l-data.view(-1,1)), dim=1)\n",
    "def loss_fn(w):\n",
    "    return -w[index].log().sum()\n",
    "\n",
    "\n",
    "measure = pm.Measure(locations=l, weights=w, device=dev)\n",
    "opt = pm.Optimizer(measure)\n",
    "lr = 1e-4\n",
    "for epoch in range(10000):\n",
    "    measure.zero_gradient()\n",
    "    loss = loss_fn(measure.weights)\n",
    "    loss.backward()\n",
    "\n",
    "    opt.step(lr)\n",
    "\n",
    "    if epoch % 1000 == 0 and verbose:\n",
    "        print(f'Epoch: {epoch:<10} Loss: {loss:<10.0f} LR: {lr}')\n",
    "\n",
    "\n",
    "plt.hist(measure.sample(10000),bins=40, density=True, range=[-4,4])\n",
    "plt.hist(torch.randn(10000),bins=40, density=True, range=[-4,4], alpha=0.5)\n",
    "plt.legend(['Model','True data'])\n",
    "plt.show()\n",
    "\n"
   ]
  },
  {
   "cell_type": "code",
   "execution_count": 6,
   "metadata": {
    "collapsed": false
   },
   "outputs": [
    {
     "name": "stdout",
     "output_type": "stream",
     "text": [
      "Epoch: 0          Loss: 12         LR: 0.001\n"
     ]
    },
    {
     "data": {
      "image/png": "[encoded data removed]",
      "text/plain": [
       "<Figure size 640x480 with 1 Axes>"
      ]
     },
     "metadata": {},
     "output_type": "display_data"
    }
   ],
   "source": [
    "import matplotlib.pyplot as plt\n",
    "import torch\n",
    "import pytorch_measure as pm\n",
    "N = 11 # number of weights\n",
    "verbose = True\n",
    "data = torch.tensor([0.2,0.2,0.4,0.8,1])\n",
    "#l = [min(data).item(), max(data).item()]\n",
    "w = torch.softmax(torch.ones(N,dtype=torch.float),dim=-1)\n",
    "w = torch.nn.parameter.Parameter(w)\n",
    "l = torch.linspace(0, 1, N)\n",
    "l = torch.nn.parameter.Parameter(l)\n",
    "# if l is min & max only\n",
    "#index = [round((y.item() - l[0]) * (N - 1) / (l[1] - l[0])) for y in data]\n",
    "# if l is all locations\n",
    "index = torch.argmin(abs(l-data.view(-1,1)), dim=1)\n",
    "def loss_fn(w):\n",
    "    return -w[index].log().sum()\n",
    "\n",
    "\n",
    "measure = pm.Measure(l, w)\n",
    "opt = pm.Optimizer(measure)\n",
    "lr = 1e-3\n",
    "for epoch in range(1000):\n",
    "    measure.zero_gradient()\n",
    "    loss = loss_fn(measure.weights)\n",
    "    loss.backward()\n",
    "\n",
    "    opt.step(lr)\n",
    "\n",
    "    if epoch % 1000 == 0 and verbose:\n",
    "        print(f'Epoch: {epoch:<10} Loss: {loss:<10.0f} LR: {lr}')\n",
    "\n",
    "\n",
    "plt.hist(measure.sample(10000),bins=10, density=True, range=[0,1])\n",
    "plt.hist(data,bins=10, density=True, range=[0,1], alpha=0.5)\n",
    "plt.legend(['Model','True data'])\n",
    "plt.show()\n",
    "\n"
   ]
  },
  {
   "cell_type": "code",
   "execution_count": 28,
   "metadata": {
    "collapsed": false
   },
   "outputs": [
    {
     "name": "stdout",
     "output_type": "stream",
     "text": [
      "\u001b[4mLocations:\u001b[0m     \u001b[4mWeights:\u001b[0m \n",
      " 0.0            0.0      \n",
      " 0.10000000149011612      0.0      \n",
      " 0.20000000298023224      0.4272727072238922\n",
      " 0.30000001192092896      0.0      \n",
      " 0.4000000059604645      0.19090908765792847\n",
      " 0.5            0.0      \n",
      " 0.6000000238418579      0.0      \n",
      " 0.699999988079071      0.0      \n",
      " 0.800000011920929      0.19090908765792847\n",
      " 0.8999999761581421      0.0      \n",
      " 1.0            0.19090908765792847\n",
      "\n"
     ]
    }
   ],
   "source": [
    "print(measure)"
   ]
  },
  {
   "cell_type": "code",
   "execution_count": null,
   "metadata": {
    "collapsed": false
   },
   "outputs": [],
   "source": []
  }
 ],
 "metadata": {
  "kernelspec": {
   "display_name": "Python 3",
   "language": "python",
   "name": "python3"
  },
  "language_info": {
   "codemirror_mode": {
    "name": "ipython",
    "version": 3
   },
   "file_extension": ".py",
   "mimetype": "text/x-python",
   "name": "python",
   "nbconvert_exporter": "python",
   "pygments_lexer": "ipython3",
   "version": "3.10.6"
  },
  "orig_nbformat": 4,
  "vscode": {
   "interpreter": {
    "hash": "31f2aee4e71d21fbe5cf8b01ff0e069b9275f58929596ceb00d14d90e3e16cd6"
   }
  }
 },
 "nbformat": 4,
 "nbformat_minor": 2
}
