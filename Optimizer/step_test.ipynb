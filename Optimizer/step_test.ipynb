{
 "cells": [
  {
   "cell_type": "code",
   "execution_count": 6,
   "metadata": {
    "collapsed": false
   },
   "outputs": [
    {
     "name": "stdout",
     "output_type": "stream",
     "text": [
      "tensor([0.0476, 0.0476, 0.0476, 0.0476, 0.0476, 0.0476, 0.0476, 0.0476, 0.0476,\n",
      "        0.0476, 0.0476, 0.0476, 0.0476, 0.0476, 0.0476, 0.0476, 0.0476, 0.0476,\n",
      "        0.0476, 0.0476, 0.0476])\n",
      "Epoch: 0          Loss: 30445\n",
      "Epoch: 1000       Loss: 27979\n",
      "Epoch: 2000       Loss: 26217\n",
      "Epoch: 3000       Loss: 24843\n",
      "Epoch: 4000       Loss: 23842\n"
     ]
    },
    {
     "data": {
      "image/png": "[encoded data removed]",
      "text/plain": [
       "<Figure size 640x480 with 1 Axes>"
      ]
     },
     "metadata": {},
     "output_type": "display_data"
    }
   ],
   "source": [
    "import matplotlib.pyplot as plt\n",
    "import torch\n",
    "import pytorch_measure as pm\n",
    "N = 21 # number of weights\n",
    "data = torch.randn(10000)\n",
    "#l = [min(data).item(), max(data).item()]\n",
    "w = torch.softmax(torch.ones(N,dtype=torch.float),dim=-1)\n",
    "w = torch.nn.parameter.Parameter(w)\n",
    "l = torch.linspace(-4, 4, N)\n",
    "l = torch.nn.parameter.Parameter(l)\n",
    "# if l is min & max only\n",
    "#index = [round((y.item() - l[0]) * (N - 1) / (l[1] - l[0])) for y in data]\n",
    "# if l is all locations\n",
    "index = torch.argmin(abs(l-data.view(-1,1)), dim=1)\n",
    "def loss_fn(w):\n",
    "    return -w[index].log().sum()\n",
    "\n",
    "def test_step(verbose):\n",
    "    measure = pm.Measure(l, w)\n",
    "    opt = pm.Optimizer(measure)\n",
    "    for epoch in range(5000):\n",
    "        measure.zero_gradient()\n",
    "        loss = loss_fn(measure.weights)\n",
    "        loss.backward()\n",
    "        opt.step(lr=0.0001)\n",
    "        if epoch % 1000 == 0 and verbose:\n",
    "            print(f'Epoch: {epoch:<10} Loss: {loss:.0f}')\n",
    "\n",
    "    plt.hist(measure.sample(10000),bins=20, density=True, range=[-4,4])\n",
    "    plt.hist(torch.randn(10000),bins=20, density=True, range=[-4,4], alpha=0.5)\n",
    "    plt.legend(['Model','True data'])\n",
    "    plt.show()\n",
    "\n",
    "test_step(verbose=True)\n"
   ]
  },
  {
   "cell_type": "code",
   "execution_count": null,
   "metadata": {},
   "outputs": [],
   "source": []
  },
  {
   "cell_type": "code",
   "execution_count": null,
   "metadata": {},
   "outputs": [],
   "source": []
  },
  {
   "cell_type": "code",
   "execution_count": 7,
   "metadata": {},
   "outputs": [
    {
     "ename": "SyntaxError",
     "evalue": "unterminated string literal (detected at line 1) (1507122981.py, line 1)",
     "output_type": "error",
     "traceback": [
      "\u001B[0;36m  Cell \u001B[0;32mIn[7], line 1\u001B[0;36m\u001B[0m\n\u001B[0;31m    '])\u001B[0m\n\u001B[0m    ^\u001B[0m\n\u001B[0;31mSyntaxError\u001B[0m\u001B[0;31m:\u001B[0m unterminated string literal (detected at line 1)\n"
     ]
    }
   ],
   "source": [
    "'])\n",
    "    plt.show()\n",
    "\n",
    "test_step(verbose=True)\n"
   ]
  },
  {
   "cell_type": "code",
   "execution_count": null,
   "metadata": {
    "collapsed": false
   },
   "outputs": [
    {
     "ename": "AttributeError",
     "evalue": "module 'pytorch_measure' has no attribute 'PytorchMeasure'",
     "output_type": "error",
     "traceback": [
      "\u001B[0;31m---------------------------------------------------------------------------\u001B[0m",
      "\u001B[0;31mAttributeError\u001B[0m                            Traceback (most recent call last)",
      "Cell \u001B[0;32mIn[3], line 22\u001B[0m\n\u001B[1;32m     19\u001B[0m     measure\u001B[39m.\u001B[39mvisualize()\n\u001B[1;32m     20\u001B[0m     \u001B[39mprint\u001B[39m(measure)\n\u001B[0;32m---> 22\u001B[0m test_step()\n",
      "Cell \u001B[0;32mIn[3], line 16\u001B[0m, in \u001B[0;36mtest_step\u001B[0;34m()\u001B[0m\n\u001B[1;32m     14\u001B[0m w \u001B[39m=\u001B[39m torch\u001B[39m.\u001B[39msoftmax(torch\u001B[39m.\u001B[39mrand(N), dim\u001B[39m=\u001B[39m\u001B[39m0\u001B[39m)\n\u001B[1;32m     15\u001B[0m loc \u001B[39m=\u001B[39m torch\u001B[39m.\u001B[39mlinspace(\u001B[39mmin\u001B[39m(data)\u001B[39m.\u001B[39mitem(), \u001B[39mmax\u001B[39m(data)\u001B[39m.\u001B[39mitem(), N)\n\u001B[0;32m---> 16\u001B[0m measure \u001B[39m=\u001B[39m pm\u001B[39m.\u001B[39;49mPytorchMeasure(loc, w)\n\u001B[1;32m     17\u001B[0m \u001B[39mfor\u001B[39;00m epoch \u001B[39min\u001B[39;00m \u001B[39mrange\u001B[39m(\u001B[39m500\u001B[39m):\n\u001B[1;32m     18\u001B[0m     measure\u001B[39m.\u001B[39mstep(loss_fn, \u001B[39m0.05\u001B[39m)\n",
      "\u001B[0;31mAttributeError\u001B[0m: module 'pytorch_measure' has no attribute 'PytorchMeasure'"
     ]
    }
   ],
   "source": [
    "data = torch.randn(2000)\n",
    "l = [min(data).item(), max(data).item()]\n",
    "N = 21\n",
    "def loss_fn(w):\n",
    "    # Funkar inte riktigt\n",
    "    log_prob = 0\n",
    "    for y in data:\n",
    "        # Remap y from l to range(len(w))\n",
    "        i = round((y.item() - l[0]) * (len(w) - 1) / (l[1] - l[0]))\n",
    "        log_prob += torch.log(w[i])\n",
    "    return -log_prob\n",
    "\n",
    "def test_step():\n",
    "    w = torch.softmax(torch.rand(N), dim=0)\n",
    "    loc = torch.linspace(min(data).item(), max(data).item(), N)\n",
    "    measure = pm.PytorchMeasure(loc, w)\n",
    "    for epoch in range(500):\n",
    "        measure.step(loss_fn, 0.05)\n",
    "    measure.visualize()\n",
    "    print(measure)\n",
    "\n",
    "test_step()\n",
    "\n"
   ]
  },
  {
   "cell_type": "code",
   "execution_count": null,
   "metadata": {
    "collapsed": false
   },
   "outputs": [
    {
     "name": "stdout",
     "output_type": "stream",
     "text": [
      "tensor([[ 0.0000, -0.3333,  0.0000,  0.0000,  0.0000],\n",
      "        [-0.3333,  0.0000,  0.0000,  0.0000,  0.0000],\n",
      "        [ 0.0000,  0.0000,  0.0000, -0.3333,  0.0000]])\n",
      "tensor([[0.4657, 0.2328, 0.4527, 0.5871, 0.4086],\n",
      "        [0.1272, 0.6373, 0.2421, 0.7312, 0.7224],\n",
      "        [0.1992, 0.6948, 0.5830, 0.6318, 0.5559]], requires_grad=True)\n"
     ]
    }
   ],
   "source": [
    "m = torch.nn.Softmax(dim=1)\n",
    "loss = torch.nn.NLLLoss()\n",
    "# input is of size N x C = 3 x 5\n",
    "input = torch.rand(3,5,requires_grad=True)\n",
    "# each element in target has to have 0 <= value < C\n",
    "target = torch.tensor([1, 0, 3])\n",
    "output = loss(input, target)\n",
    "output.backward()\n",
    "print(input.grad)\n",
    "print(input)"
   ]
  },
  {
   "cell_type": "code",
   "execution_count": null,
   "metadata": {
    "collapsed": false
   },
   "outputs": [],
   "source": []
  }
 ],
 "metadata": {
  "kernelspec": {
   "display_name": "Python 3",
   "language": "python",
   "name": "python3"
  },
  "language_info": {
   "codemirror_mode": {
    "name": "ipython",
    "version": 3
   },
   "file_extension": ".py",
   "mimetype": "text/x-python",
   "name": "python",
   "nbconvert_exporter": "python",
   "pygments_lexer": "ipython3",
   "version": "3.10.6"
  },
  "orig_nbformat": 4,
  "vscode": {
   "interpreter": {
    "hash": "31f2aee4e71d21fbe5cf8b01ff0e069b9275f58929596ceb00d14d90e3e16cd6"
   }
  }
 },
 "nbformat": 4,
 "nbformat_minor": 2
}
