{
 "cells": [
  {
   "cell_type": "code",
   "execution_count": 1,
   "metadata": {
    "collapsed": false
   },
   "outputs": [],
   "source": [
    "import matplotlib.pyplot as plt\n",
    "import torch\n",
    "import pytorch_measure as pm\n",
    "import numpy as np\n",
    "N = 17 # number of weights\n",
    "M = 1000 # Number of datapoints\n",
    "verbose = True\n",
    "dev = 'cpu'\n",
    "\n",
    "x = torch.linspace(0, 10, M)\n",
    "data = -2 + x + torch.randn(M).to(dev)\n",
    "\n",
    "w = torch.ones(N,dtype=torch.float).to(dev)\n",
    "w = torch.nn.parameter.Parameter(w/w.sum())\n",
    "l = torch.linspace(-6, 2, N, requires_grad=False).to(dev)\n",
    "\n",
    "def regression_model(a,x):\n",
    "    return a+x\n",
    "\n",
    "index = []\n",
    "for i in range(M):\n",
    "    ab = (regression_model(l, x[i]) - data[i]).abs()\n",
    "    index.append(torch.argmin(ab))\n",
    "\n",
    "def NLLLoss(m:list[pm.Measure]):\n",
    "    return -m[0].weights[index].log().sum()\n",
    "\n",
    "sd = (l[index] - data)**2\n",
    "def WardLoss(w):\n",
    "    return sum(sd * w[index])"
   ]
  },
  {
   "cell_type": "code",
   "execution_count": 2,
   "metadata": {
    "collapsed": false
   },
   "outputs": [
    {
     "name": "stdout",
     "output_type": "stream",
     "text": [
      "Epoch: 0          Loss: 2629.5969  LR: 0.10000\n",
      "Epoch: 2          Lr was reduced to: 0.07000\n",
      "Epoch: 3          Lr was reduced to: 0.04900\n",
      "Epoch: 4          Lr was reduced to: 0.03430\n",
      "Epoch: 8          Lr was reduced to: 0.02401\n",
      "Epoch: 10         Loss: 2246.5740  LR: 0.02401\n",
      "Epoch: 16         Lr was reduced to: 0.01681\n",
      "Epoch: 20         Loss: 2165.7664  LR: 0.01681\n",
      "Epoch: 25         Lr was reduced to: 0.01176\n",
      "Epoch: 28         Lr was reduced to: 0.00824\n",
      "Epoch: 30         Loss: 2141.6040  LR: 0.00824\n",
      "Epoch: 32         Lr was reduced to: 0.00576\n",
      "Epoch: 36         Lr was reduced to: 0.00404\n",
      "Epoch: 38         Lr was reduced to: 0.00282\n",
      "Epoch: 40         Lr was reduced to: 0.00198\n",
      "Epoch: 45         Lr was reduced to: 0.00138\n",
      "Epoch: 46         Lr was reduced to: 0.00097\n",
      "Epoch: 50         Loss: 2135.1025  LR: 0.00097\n",
      "Epoch: 60         Loss: 2134.5786  LR: 0.00097\n",
      "Epoch: 64         Lr was reduced to: 0.00068\n",
      "Epoch: 65         Lr was reduced to: 0.00047\n",
      "Epoch: 70         Loss: 2134.4246  LR: 0.00047\n",
      "Epoch: 80         Loss: 2134.3281  LR: 0.00047\n",
      "Epoch: 82         Lr was reduced to: 0.00033\n",
      "Epoch: 90         Loss: 2134.2756  LR: 0.00033\n",
      "Epoch: 94         Lr was reduced to: 0.00023\n",
      "Epoch: 95         Lr was reduced to: 0.00016\n",
      "Epoch: 96         Lr was reduced to: 0.00011\n",
      "Epoch: 97         Lr was reduced to: 0.00008\n",
      "Epoch: 98         Loss did not decrease\n",
      "Epoch: 100        Lr was reduced to: 0.00006\n",
      "Epoch: 103        Lr was reduced to: 0.00004\n",
      "Epoch: 104        Loss did not decrease\n",
      "Epoch: 108        Loss did not decrease\n",
      "Epoch: 110        Loss did not decrease\n",
      "Epoch: 112        Loss did not decrease\n",
      "Epoch: 116        Loss did not decrease\n",
      "Epoch: 120        Loss: 2134.2563  LR: 0.00004\n",
      "Epoch: 122        Loss did not decrease\n",
      "Epoch: 130        Loss: 2134.2527  LR: 0.00004\n",
      "Epoch: 132        Loss did not decrease\n",
      "Epoch: 138        Loss did not decrease\n",
      "Epoch: 140        Lr was reduced to: 0.00003\n",
      "Epoch: 141        Loss did not decrease\n",
      "Epoch: 143        Loss did not decrease\n",
      "Epoch: 145        Loss did not decrease\n",
      "Epoch: 147        Loss did not decrease\n",
      "Epoch: 150        Loss did not decrease\n",
      "Epoch: 151        Loss did not decrease\n",
      "Epoch: 153        Loss did not decrease\n",
      "Epoch: 159        Loss did not decrease\n",
      "Epoch: 160        Loss: 2134.2451  LR: 0.00003\n",
      "Epoch: 161        Loss did not decrease\n",
      "Epoch: 166        Loss did not decrease\n",
      "Epoch: 169        Loss did not decrease\n",
      "Epoch: 170        Loss: 2134.2432  LR: 0.00003\n",
      "Epoch: 171        Loss did not decrease\n",
      "Epoch: 173        Loss did not decrease\n",
      "Epoch: 175        Loss did not decrease\n",
      "Epoch: 177        Loss did not decrease\n",
      "Epoch: 179        Loss did not decrease\n",
      "Epoch: 180        Loss: 2134.2415  LR: 0.00003\n",
      "Epoch: 182        Loss did not decrease\n",
      "Epoch: 183        Loss did not decrease\n",
      "Epoch: 185        Loss did not decrease\n",
      "Epoch: 187        Lr was reduced to: 0.00002\n",
      "Epoch: 188        Loss did not decrease\n",
      "Epoch: 189        Loss did not decrease\n",
      "Epoch: 190        Loss did not decrease\n",
      "Epoch: 194        Lr was reduced to: 0.00001\n",
      "Epoch: 195        Lr was reduced to: 0.00001\n",
      "Epoch: 196        Lr was reduced to: 0.00001\n",
      "Epoch: 197        Lr was reduced to: 0.00000\n",
      "Epoch: 198        Lr was reduced to: 0.00000\n",
      "Epoch: 199        Lr was reduced to: 0.00000\n",
      "Epoch: 200        Loss did not decrease\n",
      "Epoch: 201        Lr was reduced to: 0.00000\n",
      "Epoch: 202        Lr was reduced to: 0.00000\n",
      "Epoch: 203        Lr was reduced to: 0.00000\n",
      "The step size is too small: 7.730993719707426e-07\n"
     ]
    },
    {
     "data": {
      "text/plain": "<Figure size 640x480 with 1 Axes>",
      "image/png": "[encoded data removed]"
     },
     "metadata": {},
     "output_type": "display_data"
    }
   ],
   "source": [
    "measure = pm.Measure(locations=l, weights=w, device=dev)\n",
    "opt = pm.Optimizer([measure], lr=1e-1)\n",
    "opt.minimize(NLLLoss, verbose=True, print_freq=10, max_epochs=1000, tol_const=1e-2)\n",
    "\n",
    "plt.plot()\n",
    "\n",
    "mu=0 #Create true values\n",
    "sigma=1\n",
    "xs = l.detach()\n",
    "y=1/(np.sqrt(2*np.pi)*sigma)*torch.exp(-(xs+2-mu)**2/(2*sigma**2))\n",
    "y/=sum(y) #Normalize\n",
    "\n",
    "measure.visualize()\n",
    "plt.scatter(xs, y, zorder=2)\n",
    "plt.legend(['Model','PDF of true distribution'])\n",
    "plt.show()\n"
   ]
  },
  {
   "cell_type": "code",
   "execution_count": 2,
   "outputs": [],
   "source": [],
   "metadata": {
    "collapsed": false
   }
  }
 ],
 "metadata": {
  "kernelspec": {
   "display_name": "Python 3",
   "language": "python",
   "name": "python3"
  },
  "language_info": {
   "codemirror_mode": {
    "name": "ipython",
    "version": 3
   },
   "file_extension": ".py",
   "mimetype": "text/x-python",
   "name": "python",
   "nbconvert_exporter": "python",
   "pygments_lexer": "ipython3",
   "version": "3.10.6"
  },
  "orig_nbformat": 4,
  "vscode": {
   "interpreter": {
    "hash": "31f2aee4e71d21fbe5cf8b01ff0e069b9275f58929596ceb00d14d90e3e16cd6"
   }
  }
 },
 "nbformat": 4,
 "nbformat_minor": 2
}
