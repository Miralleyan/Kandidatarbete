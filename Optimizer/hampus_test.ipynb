{
 "cells": [
  {
   "cell_type": "code",
   "execution_count": 22,
   "metadata": {
    "collapsed": false
   },
   "outputs": [],
   "source": [
    "import matplotlib.pyplot as plt\n",
    "import torch\n",
    "import pytorch_measure as pm\n",
    "import numpy as np\n",
    "N = 17 # number of atoms\n",
    "M = 1000 # Number of datapoints\n",
    "amin = -5\n",
    "amax = 3\n",
    "verbose = True\n",
    "dev = 'cpu'\n",
    "\n",
    "\n",
    "torch.manual_seed(1)\n",
    "\n",
    "def regression_model(a, x):\n",
    "    return a+x\n",
    "\n",
    "x = torch.linspace(0, 10, M).view(-1, 1)\n",
    "data = regression_model(torch.randn(M).to(dev) - 2, x.view(1, -1)).view(-1, 1)\n",
    "w = torch.rand(N,dtype=torch.float).to(dev)\n",
    "w = torch.nn.parameter.Parameter(w/w.sum())\n",
    "l = torch.linspace(amin, amax, N, requires_grad=False).to(dev)\n",
    "\n",
    "index = []\n",
    "for i in range(M):\n",
    "    ab = (regression_model(l, x[i]) - data[i]).abs()\n",
    "    index.append(torch.argmin(ab))\n",
    "\n",
    "def NLLLoss(m:list[pm.Measure]):\n",
    "    return -(m[0].weights[index]).log().sum()\n",
    "\n",
    "sd = (l[index] - data)**2\n",
    "def WardLoss(w):\n",
    "    return sum(sd * w[index])\n",
    "\n",
    "def K(d):\n",
    "        return 1/np.sqrt(2*np.pi)*np.exp(-d**2/2)\n",
    "h=1.06*M**(-1/5)\n",
    "# K( (y - yj) / h )\n",
    "kde_mat = K((data.view(-1,1) - regression_model(l, x)) / h)\n",
    "\n",
    "#a = torch.sum(kde_mat, dim=0)\n",
    "\n",
    "def KDENLLLoss(m):\n",
    "    return -(torch.matmul(kde_mat, m[0].weights.view(-1,1)) / (M*h)).log().sum()\n"
   ]
  },
  {
   "cell_type": "code",
   "execution_count": 23,
   "outputs": [
    {
     "name": "stdout",
     "output_type": "stream",
     "text": [
      "Epoch: 0          Lr was reduced to: 0.700000000\n",
      "Epoch: 1          Lr was reduced to: 0.490000000\n",
      "Epoch: 2          Lr was reduced to: 0.343000000\n",
      "Epoch: 3          Lr was reduced to: 0.240100000\n",
      "Epoch: 5          Lr was reduced to: 0.168070000\n",
      "Epoch: 6          Lr was reduced to: 0.117649000\n",
      "Epoch: 7          Lr was reduced to: 0.082354300\n",
      "Epoch: 8          Lr was reduced to: 0.057648010\n",
      "Epoch: 10         Loss: 2496.197753906 LR: 0.057648010\n",
      "Epoch: 11         Lr was reduced to: 0.040353607\n",
      "Epoch: 12         Lr was reduced to: 0.028247525\n",
      "Epoch: 13         Lr was reduced to: 0.019773267\n",
      "Epoch: 20         Loss: 2330.396240234 LR: 0.019773267\n",
      "Epoch: 26         Lr was reduced to: 0.013841287\n",
      "Epoch: 29         Lr was reduced to: 0.009688901\n",
      "Epoch: 30         Lr was reduced to: 0.006782231\n",
      "Epoch: 40         Loss: 2217.031982422 LR: 0.006782231\n",
      "Epoch: 50         Loss: 2192.611083984 LR: 0.006782231\n",
      "Epoch: 60         Lr was reduced to: 0.004747562\n",
      "Epoch: 70         Loss: 2163.751953125 LR: 0.004747562\n",
      "Epoch: 80         Loss: 2155.905273438 LR: 0.004747562\n",
      "Epoch: 81         Lr was reduced to: 0.003323293\n",
      "Epoch: 90         Loss: 2152.305175781 LR: 0.003323293\n",
      "Epoch: 91         Lr was reduced to: 0.002326305\n",
      "Epoch: 94         Lr was reduced to: 0.001628414\n",
      "Epoch: 97         Lr was reduced to: 0.001139890\n",
      "Epoch: 98         Lr was reduced to: 0.000797923\n",
      "Epoch: 99         Lr was reduced to: 0.000558546\n",
      "Epoch: 100        Lr was reduced to: 0.000390982\n",
      "Epoch: 110        Loss: 2150.853515625 LR: 0.000390982\n",
      "Epoch: 120        Loss: 2150.426269531 LR: 0.000390982\n",
      "Epoch: 130        Loss: 2150.020507812 LR: 0.000390982\n",
      "Epoch: 140        Loss: 2149.638916016 LR: 0.000390982\n",
      "Epoch: 150        Loss: 2149.281250000 LR: 0.000390982\n",
      "Epoch: 160        Loss: 2148.943359375 LR: 0.000390982\n",
      "Epoch: 170        Loss: 2148.625976562 LR: 0.000390982\n",
      "Epoch: 180        Loss: 2148.323730469 LR: 0.000390982\n",
      "Epoch: 190        Loss: 2148.039306641 LR: 0.000390982\n",
      "Epoch: 200        Loss: 2147.771972656 LR: 0.000390982\n",
      "Epoch: 210        Loss: 2147.520751953 LR: 0.000390982\n",
      "Epoch: 220        Loss: 2147.285400391 LR: 0.000390982\n",
      "Epoch: 230        Loss: 2147.069824219 LR: 0.000390982\n",
      "Epoch: 240        Loss: 2146.868652344 LR: 0.000390982\n",
      "Epoch: 250        Loss: 2146.687988281 LR: 0.000390982\n",
      "Epoch: 260        Loss: 2146.520751953 LR: 0.000390982\n",
      "Epoch: 270        Loss: 2146.371826172 LR: 0.000390982\n",
      "Epoch: 280        Loss: 2146.242675781 LR: 0.000390982\n",
      "Epoch: 290        Loss: 2146.133789062 LR: 0.000390982\n",
      "Epoch: 300        Loss: 2146.034912109 LR: 0.000390982\n",
      "Epoch: 307        Loss did not change (2145.986328125)\n",
      "Epoch: 309        Loss did not change (2145.97021484375)\n",
      "Epoch: 310        Loss: 2145.957519531 LR: 0.000390982\n",
      "Epoch: 311        Lr was reduced to: 0.000273687\n",
      "Epoch: 313        Lr was reduced to: 0.000191581\n",
      "Epoch: 320        Loss: 2145.918212891 LR: 0.000191581\n",
      "Epoch: 330        Loss: 2145.888183594 LR: 0.000191581\n",
      "Epoch: 338        Lr was reduced to: 0.000134107\n",
      "Epoch: 340        Lr was reduced to: 0.000093875\n",
      "Epoch: 350        Loss: 2145.854492188 LR: 0.000093875\n",
      "Epoch: 360        Loss: 2145.844726562 LR: 0.000093875\n",
      "Epoch: 370        Lr was reduced to: 0.000065712\n",
      "Epoch: 372        Loss did not change (2145.83544921875)\n",
      "Epoch: 374        Loss did not change (2145.833984375)\n",
      "Epoch: 376        Loss did not change (2145.832763671875)\n",
      "Epoch: 378        Loss did not change (2145.831787109375)\n",
      "Epoch: 380        Lr was reduced to: 0.000045999\n",
      "Epoch: 384        Loss did not change (2145.8291015625)\n",
      "Epoch: 390        Loss: 2145.826660156 LR: 0.000045999\n",
      "Epoch: 392        Loss did not change (2145.826171875)\n",
      "Epoch: 398        Loss did not change (2145.82373046875)\n",
      "Epoch: 400        Loss did not change (2145.8232421875)\n",
      "Epoch: 408        Loss did not change (2145.8203125)\n",
      "Epoch: 410        Loss did not change (2145.81982421875)\n",
      "Epoch: 416        Loss did not change (2145.817626953125)\n",
      "Epoch: 420        Loss: 2145.816162109 LR: 0.000045999\n",
      "Epoch: 421        Loss did not change (2145.816162109375)\n",
      "Epoch: 424        Loss did not change (2145.8154296875)\n",
      "Epoch: 430        Loss: 2145.813476562 LR: 0.000045999\n",
      "Epoch: 432        Loss did not change (2145.81298828125)\n",
      "Epoch: 434        Loss did not change (2145.8125)\n",
      "Epoch: 440        Loss: 2145.810791016 LR: 0.000045999\n",
      "Epoch: 442        Loss did not change (2145.810546875)\n",
      "Epoch: 446        Loss did not change (2145.8095703125)\n",
      "Epoch: 450        Loss did not change (2145.80859375)\n",
      "Epoch: 452        Loss did not change (2145.80810546875)\n",
      "Epoch: 455        Loss did not change (2145.8076171875)\n",
      "Epoch: 460        Loss: 2145.806396484 LR: 0.000045999\n",
      "Epoch: 462        Lr was reduced to: 0.000032199\n",
      "Epoch: 463        Loss did not change (2145.805908203125)\n",
      "Epoch: 465        Loss did not change (2145.805419921875)\n",
      "Epoch: 466        Loss did not change (2145.805419921875)\n",
      "Epoch: 469        Loss did not change (2145.804931640625)\n",
      "Epoch: 470        Loss did not change (2145.804931640625)\n",
      "Epoch: 472        Loss did not change (2145.8046875)\n",
      "Epoch: 475        Loss did not change (2145.80419921875)\n",
      "Epoch: 478        Loss did not change (2145.8037109375)\n",
      "Epoch: 480        Lr was reduced to: 0.000022539\n",
      "Epoch: 481        Lr was reduced to: 0.000015778\n",
      "Epoch: 482        Lr was reduced to: 0.000011044\n",
      "Epoch: 483        Loss did not change (2145.803466796875)\n",
      "Epoch: 484        Loss did not change (2145.803466796875)\n",
      "Epoch: 485        Loss did not change (2145.803466796875)\n",
      "Epoch: 487        Loss did not change (2145.80322265625)\n",
      "Epoch: 488        Loss did not change (2145.80322265625)\n",
      "Epoch: 490        Loss: 2145.802734375 LR: 0.000011044\n",
      "Epoch: 491        Lr was reduced to: 0.000007731\n",
      "Epoch: 492        Loss did not change (2145.802734375)\n",
      "Epoch: 493        Lr was reduced to: 0.000005412\n",
      "Epoch: 494        Lr was reduced to: 0.000003788\n",
      "Epoch: 495        Loss did not change (2145.802734375)\n",
      "Epoch: 496        Lr was reduced to: 0.000002652\n",
      "Epoch: 497        Lr was reduced to: 0.000001856\n",
      "Epoch: 498        Lr was reduced to: 0.000001299\n",
      "Epoch: 499        Loss did not change (2145.802734375)\n",
      "Epoch: 500        Loss did not change (2145.802734375)\n",
      "Epoch: 501        Lr was reduced to: 0.000000910\n",
      "The step size is too small: 9.095436801298589e-07\n"
     ]
    },
    {
     "data": {
      "text/plain": "<Figure size 640x480 with 1 Axes>",
      "image/png": "[encoded data removed]"
     },
     "metadata": {},
     "output_type": "display_data"
    },
    {
     "data": {
      "text/plain": "<Figure size 640x480 with 1 Axes>",
      "image/png": "[encoded data removed]"
     },
     "metadata": {},
     "output_type": "display_data"
    },
    {
     "name": "stdout",
     "output_type": "stream",
     "text": [
      "1236213224784::1236213227472\n"
     ]
    }
   ],
   "source": [
    "measure = pm.Measure(locations=l, weights=w, device=dev)\n",
    "opt = pm.Optimizer([measure], lr=1e-1)\n",
    "\n",
    "opt.minimize(NLLLoss, verbose=True, print_freq=10, max_epochs=1000, tol_const=1e-3, adaptive=True)\n",
    "\n",
    "mu=0 #Create true values\n",
    "sigma=1\n",
    "xs = l.detach()\n",
    "y=1/(np.sqrt(2*np.pi)*sigma)*torch.exp(-(xs+2-mu)**2/(2*sigma**2))\n",
    "y/=sum(y) #Normalize\n",
    "\n",
    "\n",
    "plt.bar(l, opt.measures[0].weights.tolist(), width = 0.2, label='fitted')\n",
    "#plt.bar(l-0.1, torch.sum(kde_mat, dim=0)/torch.sum(kde_mat), zorder=0, width=0.1)\n",
    "plt.scatter(xs, y, zorder=2, label=\"True distribution\")\n",
    "plt.legend()\n",
    "\n",
    "plt.show()\n",
    "\n",
    "### sergei visualize ###\n",
    "locations_grid_size = (amax - amin) / (N - 1)\n",
    "bins=torch.linspace(amin - locations_grid_size / 2, amax + locations_grid_size / 2, N + 1)\n",
    "h,b = torch.histogram(data - x, bins=bins)\n",
    "\n",
    "# side-by-side histogram. Can it be done smarter?\n",
    "plt.bar(l - 0.1, opt.measures[0].weights.tolist(), width = 0.2, label='fitted')\n",
    "plt.bar(l + 0.1, h / h.sum(), width = 0.2, label='data')\n",
    "plt.legend(loc='upper right')\n",
    "plt.show()\n",
    "\n",
    "print(str(id(measure)) + \"::\" + str(id(opt.measures[0])))\n",
    "\n",
    "#LR         to 1e-4             to 1e-5\n",
    "#1e-3  -  2147.958496094        2145.816650391\n",
    "#1e-2  -  2147.958496094        2145.816650391\n",
    "#1e-1  -  2149.463867188        2145.826660156"
   ],
   "metadata": {
    "collapsed": false
   }
  },
  {
   "cell_type": "code",
   "execution_count": 24,
   "outputs": [
    {
     "data": {
      "text/plain": "Parameter containing:\ntensor([0.0000, 0.0000, 0.0000, 0.0000, 1.0000, 0.0000, 0.0000, 0.0000, 0.0000,\n        0.0000, 0.0000, 0.0000, 0.0000, 0.0000, 0.0000, 0.0000, 0.0000],\n       requires_grad=True)"
     },
     "execution_count": 24,
     "metadata": {},
     "output_type": "execute_result"
    }
   ],
   "source": [
    "measure.weights"
   ],
   "metadata": {
    "collapsed": false
   }
  },
  {
   "cell_type": "code",
   "execution_count": 24,
   "outputs": [],
   "source": [],
   "metadata": {
    "collapsed": false
   }
  }
 ],
 "metadata": {
  "kernelspec": {
   "display_name": "Python 3",
   "language": "python",
   "name": "python3"
  },
  "language_info": {
   "codemirror_mode": {
    "name": "ipython",
    "version": 3
   },
   "file_extension": ".py",
   "mimetype": "text/x-python",
   "name": "python",
   "nbconvert_exporter": "python",
   "pygments_lexer": "ipython3",
   "version": "3.10.6"
  },
  "orig_nbformat": 4,
  "vscode": {
   "interpreter": {
    "hash": "31f2aee4e71d21fbe5cf8b01ff0e069b9275f58929596ceb00d14d90e3e16cd6"
   }
  }
 },
 "nbformat": 4,
 "nbformat_minor": 2
}
