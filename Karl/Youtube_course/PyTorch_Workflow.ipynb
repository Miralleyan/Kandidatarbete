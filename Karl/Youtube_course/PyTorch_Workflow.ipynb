{
 "cells": [
  {
   "cell_type": "markdown",
   "id": "98155a69-1a6f-4276-a163-504f3a522f6e",
   "metadata": {},
   "source": [
    "# PyTorch Workflow\n",
    "Resource for reading: https://www.learnpytorch.io/01_pytorch_workflow/"
   ]
  },
  {
   "cell_type": "code",
   "execution_count": 1,
   "id": "8cd6c375-c8af-4430-977b-27cb7e3036c0",
   "metadata": {},
   "outputs": [
    {
     "data": {
      "text/plain": [
       "'1.13.1'"
      ]
     },
     "execution_count": 1,
     "metadata": {},
     "output_type": "execute_result"
    }
   ],
   "source": [
    "import torch\n",
    "from torch import nn # contains all of PyTorch's building blocks\n",
    "import pandas as pd\n",
    "import numpy as np\n",
    "import matplotlib.pyplot as plt\n",
    "\n",
    "# Check PyTorch version\n",
    "torch.__version__"
   ]
  },
  {
   "cell_type": "markdown",
   "id": "66588251-9813-4e92-a784-c2ac2860a915",
   "metadata": {},
   "source": [
    "### Data - preparing and loading\n",
    "Data can be almost anything (spreadsheets, images, videos, audio, DNA, text, etc.)\n",
    "MAchine learning is a game of two parts:\n",
    "1. Get data into numerical representations\n",
    "2. Build a model to learn patterns in that numerical representation\n",
    "\n",
    "To showcase this, let's create some *known* data using the linear regression formula. We will use a linear regression formula to make a straight line with *known* **parameters**.\n"
   ]
  },
  {
   "cell_type": "code",
   "execution_count": 2,
   "id": "7da56ba1-3b7b-4000-9fbe-e0503d73a32d",
   "metadata": {},
   "outputs": [],
   "source": [
    "# Create known parameters (y = a + bx, a = bias and b = weight)\n",
    "weight = 0.7\n",
    "bias = 0.3\n",
    "\n",
    "# Create data\n",
    "start = 0\n",
    "end = 1\n",
    "step = 0.02\n",
    "X = torch.arange(start, end, step).unsqueeze(dim=1) # adds extra dimension (needed when using models)\n",
    "y = bias + weight * X\n"
   ]
  },
  {
   "cell_type": "markdown",
   "id": "13a2ae03-0866-4558-9624-3a13571b7079",
   "metadata": {},
   "source": [
    "### Splitting data into training, (validation) and test sets \n",
    "(one of the most important concepts, often 80-20 percentage wise).\n",
    "\n",
    "When more complex data use `sklearn.model_selection.train_test_split`\n",
    "\n",
    "Resource: https://scikit-learn.org/stable/modules/generated/sklearn.model_selection.train_test_split.html"
   ]
  },
  {
   "cell_type": "code",
   "execution_count": 3,
   "id": "69ef8477-8d19-47fb-9425-dc2bb4d4e293",
   "metadata": {},
   "outputs": [
    {
     "data": {
      "text/plain": [
       "(40, 40, 10, 10)"
      ]
     },
     "execution_count": 3,
     "metadata": {},
     "output_type": "execute_result"
    }
   ],
   "source": [
    "train_split = int(0.8 * len(X))\n",
    "X_train, y_train = X[:train_split], y[:train_split]\n",
    "X_test, y_test = X[train_split:], y[train_split:]\n",
    "\n",
    "len(X_train), len(y_train), len(X_test), len(y_test)"
   ]
  },
  {
   "cell_type": "markdown",
   "id": "05d5de61-1774-4c18-ad6c-cc7ca0747c9c",
   "metadata": {},
   "source": [
    "### Visualizing"
   ]
  },
  {
   "cell_type": "code",
   "execution_count": 4,
   "id": "7cf01fb4-d5cc-4457-8b43-7b239b319e15",
   "metadata": {},
   "outputs": [],
   "source": [
    "# Create helper function to plot stuff\n",
    "def plot_predictions(train_data=X_train,\n",
    "                   train_labels=y_train,\n",
    "                   test_data=X_test,\n",
    "                   test_labels=y_test,\n",
    "                   predictions=None):\n",
    "    \"\"\"\n",
    "    Plots training data, test data and compares predictions.\n",
    "    \"\"\"\n",
    "    # Set figure size \n",
    "    plt.figure(figsize=(10, 7))\n",
    "    \n",
    "    #Plot training data (blue)\n",
    "    plt.scatter(train_data, train_labels, c=\"b\", marker=\"o\", s=10, label=\"Training data\")\n",
    "    \n",
    "    # Plot test data in green\n",
    "    plt.scatter(test_data, test_labels, c=\"g\", marker=\"*\", s=14, label=\"Testing data\")\n",
    "    \n",
    "    # Are there predictions?\n",
    "    if predictions is not None:\n",
    "        plt.scatter(test_data, predictions, c=\"r\", marker=\"+\", s=14, label=\"Predictions\")\n",
    "        \n",
    "    plt.legend(prop={\"size\": 14});\n",
    "        "
   ]
  },
  {
   "cell_type": "code",
   "execution_count": 5,
   "id": "2cd91f8a-2931-4f4f-8b91-5c1adb2d8cc3",
   "metadata": {},
   "outputs": [
    {
     "data": {
      "image/png": "[encoded data removed]",
      "text/plain": [
       "<Figure size 720x504 with 1 Axes>"
      ]
     },
     "metadata": {
      "needs_background": "light"
     },
     "output_type": "display_data"
    }
   ],
   "source": [
    "plot_predictions();"
   ]
  },
  {
   "cell_type": "markdown",
   "id": "69d7d053-71f7-42da-ac7b-cbd7bf0566be",
   "metadata": {},
   "source": [
    "### Building a model for linear regression\n",
    "Some explanations:\n",
    "- `requres_grad=True` (is default) and means we keep track of gradients for specific parameter and updates them as we build our model\n",
    "- subclass `nn-Module` contains all the building blocks for NNs\n",
    "- in the contructor we initialize the weights and biases and in future applications it is here initialize layers from `torch.nn` or other functions\n",
    "- the `forward()`-method should always be overwritten and is what defines the computations performed at every call (in this case a linear regression computation)"
   ]
  },
  {
   "cell_type": "code",
   "execution_count": 6,
   "id": "090ae122-fd79-4024-999c-06bd90162afe",
   "metadata": {},
   "outputs": [],
   "source": [
    "# Create linear regression model class (inherets from base class nn.Module)\n",
    "# nn.Module has a lot of usefull in-built functionality \n",
    "class LinearRegressionModel(nn.Module):\n",
    "    def __init__(self):\n",
    "        super().__init__()\n",
    "        \n",
    "        # Initialize model parameters\n",
    "        self.weights = nn.Parameter(torch.randn(1,\n",
    "                                                requires_grad=True,\n",
    "                                                dtype=torch.float))\n",
    "        self.bias = nn.Parameter(torch.randn(1,\n",
    "                                                requires_grad=True,\n",
    "                                                dtype=torch.float))\n",
    "    \n",
    "    # Forward method to define the computation in the model\n",
    "    def forward(self, x: torch.Tensor) -> torch.Tensor:\n",
    "        return self.weights * x + self.bias"
   ]
  },
  {
   "cell_type": "markdown",
   "id": "75352a84-6079-43f7-86af-e0ad757d5e29",
   "metadata": {},
   "source": [
    "What we are doing:\n",
    "- starting with random values/parameters (weights & bias)\n",
    "- Look at training data and adjust the random values to better represent (or get closer to) the ideal values (the weights & bias values we used to create the data)\n",
    "\n",
    "We do this with two main algorithms:\n",
    "- gradient descent (https://www.youtube.com/watch?v=IHZwWFHWa-w)\n",
    "- backpropagation (https://www.youtube.com/watch?v=Ilg3gGewQ5U)\n"
   ]
  },
  {
   "cell_type": "markdown",
   "id": "90a6ea80-c599-40c8-9b48-c780960dbed6",
   "metadata": {},
   "source": [
    "### PyTorch model building essentials\n",
    "- `torch.nn` - contains all of the building blocks for computational graphs (a NN can be considered a computational graph\n",
    "- `torch.nn.Parameters` - what parameters should our model try to learn, often a PyTorch layer from torch.nn will set these for us\n",
    "- `torch.nn.Module` - the base class for all NN modules, if you subclass it you should overwrite forward()-method\n",
    "- `torch.optim` - this is where the optimizers in PyTorch live, will help with gradient descent\n",
    "- `def forward()` - all nn.Module subclasses require you to overwrite forward()-method\n",
    "- `torch.utils.data.Dataset` - represents a map between label and feature pairs of your data e. g. images with their associated label\n",
    "- `torch.utils.data.DataLoader` - creates a `Python` iterable over torch `Dataset` (allows you to iterate over your data)\n",
    "- `torchvision.transorms` - ...\n",
    "- `torchvision.models` - ...\n",
    "- `torchmetrics` - ...\n",
    "- `torch.utils.tensorboard` - ..."
   ]
  },
  {
   "cell_type": "markdown",
   "id": "94644e9f-1a6f-40f1-aeb3-df3cf6553d68",
   "metadata": {},
   "source": [
    "### Create instance of our `LinearRegressionModel()`"
   ]
  },
  {
   "cell_type": "code",
   "execution_count": 7,
   "id": "d10ff3d2-0519-4b78-9da1-21e78c65dc27",
   "metadata": {},
   "outputs": [
    {
     "data": {
      "text/plain": [
       "OrderedDict([('weights', tensor([0.3367])), ('bias', tensor([0.1288]))])"
      ]
     },
     "execution_count": 7,
     "metadata": {},
     "output_type": "execute_result"
    }
   ],
   "source": [
    "# Checking contents of our PyTorch model\n",
    "\n",
    "# Create random seed (without it our model would give us different\n",
    "# parameters everytime we created our model)\n",
    "RANDOM_SEED = 42\n",
    "torch.manual_seed(RANDOM_SEED)\n",
    "\n",
    "# Create instance of our model (subclass of nn.Module)\n",
    "model_0 = LinearRegressionModel()\n",
    "\n",
    "# Check out parameters\n",
    "list(model_0.parameters())\n",
    "\n",
    "# List named parameters (the ideal values is what we defined above, \n",
    "# but are of course not known in real life)\n",
    "model_0.state_dict()"
   ]
  },
  {
   "cell_type": "markdown",
   "id": "2ef1e435-63ed-42db-832a-45f783dd045e",
   "metadata": {},
   "source": [
    "#### Making predictions using `torch.inference_mode()`\n",
    "\n",
    "That is: check our models predictive power. \n",
    "When we pass data through our model it is going to run it through the `forward()`-method. Inference mode turns of gradient tracking and therefore we don't know how we should update parameters. With large datasets our predictions will therefore become faster (we don't need them when making predictions). "
   ]
  },
  {
   "cell_type": "code",
   "execution_count": 8,
   "id": "6eed183b-7c95-41ef-bfe5-57f93eef5637",
   "metadata": {},
   "outputs": [],
   "source": [
    "# Make predictions with our random model (they won't be good...)\n",
    "with torch.inference_mode():\n",
    "    y_preds = model_0(X_test)"
   ]
  },
  {
   "cell_type": "code",
   "execution_count": 9,
   "id": "51582bfb-a286-47e9-a6a7-7a7561224183",
   "metadata": {},
   "outputs": [
    {
     "data": {
      "image/png": "[encoded data removed]",
      "text/plain": [
       "<Figure size 720x504 with 1 Axes>"
      ]
     },
     "metadata": {
      "needs_background": "light"
     },
     "output_type": "display_data"
    }
   ],
   "source": [
    "plot_predictions(predictions=y_preds)"
   ]
  },
  {
   "cell_type": "markdown",
   "id": "4bd063cf-890c-4a17-8712-a21311964da8",
   "metadata": {},
   "source": [
    "#### Training our model \n",
    "*(set up loss function, optimizer and build training loop)*\n",
    "\n",
    "The whole idea of training is to tune some *unkown* parameters from being a poor representation of the data to a better representation of the data. Measuring the wrongness of our model is done by using a loss/cost function. We want to minimize the loss function. There are different in-built loss-functions in `torch.nn`. In order to adjust the model's parameters (weights and bias) with respect to the loss/error function we need an opitimizer. \n",
    "\n",
    "Specifically for `PyTorch` we need:\n",
    "\n",
    "A training loop:\n",
    "\n",
    "0. Loop through data\n",
    "1. Forward pass to make predictions\n",
    "2. Calculate the loss and compare to forward pass predictions to ground truth labels\n",
    "3. Optimizer zero grad\n",
    "4. Loss backward (moves backward through the network to calculate the gradients of each of the parameters of our models with respect to loss)\n",
    "5. Optimizer step (use optimizer to adjust our model's paramters to imporve the loss)\n",
    "\n"
   ]
  },
  {
   "cell_type": "code",
   "execution_count": 10,
   "id": "c7db51d8-da4b-4a6e-ba45-8c6171c657ac",
   "metadata": {},
   "outputs": [
    {
     "data": {
      "text/plain": [
       "OrderedDict([('weights', tensor([0.3367])), ('bias', tensor([0.1288]))])"
      ]
     },
     "execution_count": 10,
     "metadata": {},
     "output_type": "execute_result"
    }
   ],
   "source": [
    "# Check out our model's parameters \n",
    "# (a parameter is a value that the model sets itself)\n",
    "model_0.state_dict()"
   ]
  },
  {
   "cell_type": "code",
   "execution_count": 11,
   "id": "1210d140-bce7-45c2-b6c8-b68813833130",
   "metadata": {},
   "outputs": [
    {
     "name": "stdout",
     "output_type": "stream",
     "text": [
      "Epoch: 0 | Loss: 0.31288138031959534 | Test loss: 0.48106518387794495\n",
      "OrderedDict([('weights', tensor([0.3406])), ('bias', tensor([0.1388]))])\n",
      "Epoch: 10 | Loss: 0.1976713240146637 | Test loss: 0.3463551998138428\n",
      "OrderedDict([('weights', tensor([0.3796])), ('bias', tensor([0.2388]))])\n",
      "Epoch: 20 | Loss: 0.08908725529909134 | Test loss: 0.21729660034179688\n",
      "OrderedDict([('weights', tensor([0.4184])), ('bias', tensor([0.3333]))])\n",
      "Epoch: 30 | Loss: 0.053148526698350906 | Test loss: 0.14464017748832703\n",
      "OrderedDict([('weights', tensor([0.4512])), ('bias', tensor([0.3768]))])\n",
      "Epoch: 40 | Loss: 0.04543796554207802 | Test loss: 0.11360953003168106\n",
      "OrderedDict([('weights', tensor([0.4748])), ('bias', tensor([0.3868]))])\n",
      "Epoch: 50 | Loss: 0.04167863354086876 | Test loss: 0.09919948130846024\n",
      "OrderedDict([('weights', tensor([0.4938])), ('bias', tensor([0.3843]))])\n",
      "Epoch: 60 | Loss: 0.03818932920694351 | Test loss: 0.08886633068323135\n",
      "OrderedDict([('weights', tensor([0.5116])), ('bias', tensor([0.3788]))])\n",
      "Epoch: 70 | Loss: 0.03476089984178543 | Test loss: 0.0805937647819519\n",
      "OrderedDict([('weights', tensor([0.5288])), ('bias', tensor([0.3718]))])\n",
      "Epoch: 80 | Loss: 0.03132382780313492 | Test loss: 0.07232122868299484\n",
      "OrderedDict([('weights', tensor([0.5459])), ('bias', tensor([0.3648]))])\n",
      "Epoch: 90 | Loss: 0.02788739837706089 | Test loss: 0.06473556160926819\n",
      "OrderedDict([('weights', tensor([0.5629])), ('bias', tensor([0.3573]))])\n",
      "Epoch: 100 | Loss: 0.024458957836031914 | Test loss: 0.05646304413676262\n",
      "OrderedDict([('weights', tensor([0.5800])), ('bias', tensor([0.3503]))])\n",
      "Epoch: 110 | Loss: 0.021020207554101944 | Test loss: 0.04819049686193466\n",
      "OrderedDict([('weights', tensor([0.5972])), ('bias', tensor([0.3433]))])\n",
      "Epoch: 120 | Loss: 0.01758546568453312 | Test loss: 0.04060482233762741\n",
      "OrderedDict([('weights', tensor([0.6141])), ('bias', tensor([0.3358]))])\n",
      "Epoch: 130 | Loss: 0.014155393466353416 | Test loss: 0.03233227878808975\n",
      "OrderedDict([('weights', tensor([0.6313])), ('bias', tensor([0.3288]))])\n",
      "Epoch: 140 | Loss: 0.010716589167714119 | Test loss: 0.024059748277068138\n",
      "OrderedDict([('weights', tensor([0.6485])), ('bias', tensor([0.3218]))])\n",
      "Epoch: 150 | Loss: 0.0072835334576666355 | Test loss: 0.016474086791276932\n",
      "OrderedDict([('weights', tensor([0.6654])), ('bias', tensor([0.3143]))])\n",
      "Epoch: 160 | Loss: 0.0038517764769494534 | Test loss: 0.008201557211577892\n",
      "OrderedDict([('weights', tensor([0.6826])), ('bias', tensor([0.3073]))])\n",
      "Epoch: 170 | Loss: 0.008932482451200485 | Test loss: 0.005023092031478882\n",
      "OrderedDict([('weights', tensor([0.6951])), ('bias', tensor([0.2993]))])\n",
      "Epoch: 180 | Loss: 0.008932482451200485 | Test loss: 0.005023092031478882\n",
      "OrderedDict([('weights', tensor([0.6951])), ('bias', tensor([0.2993]))])\n",
      "Epoch: 190 | Loss: 0.008932482451200485 | Test loss: 0.005023092031478882\n",
      "OrderedDict([('weights', tensor([0.6951])), ('bias', tensor([0.2993]))])\n"
     ]
    }
   ],
   "source": [
    "# Set up a loss function\n",
    "loss_fn = nn.L1Loss()\n",
    "\n",
    "# Setup an optimizer (optimizing-algorithm)\n",
    "optimizer = torch.optim.SGD(params=model_0.parameters(), # stochastic gradient descent\n",
    "                            lr=0.01)                     # learning rate (hyper parameter progammer sets)\n",
    "torch.manual_seed(42)\n",
    "\n",
    "# Set up training and testing loop\n",
    "# An epoch (hyper parameter) is one forward pass through the network\n",
    "epochs = 200\n",
    "\n",
    "# Track different values\n",
    "epoch_count = []\n",
    "loss_values = []\n",
    "test_loss_values = []\n",
    "\n",
    "## Training loop\n",
    "\n",
    "# 0. Loop through data\n",
    "for epoch in range(epochs):\n",
    "    # Set the model to training mode\n",
    "    model_0.train() # sets all parameters that require gradients to require gradients\n",
    "    \n",
    "    # 1. Forward pass\n",
    "    y_pred = model_0(X_train)\n",
    "    \n",
    "    # 2. Calculate loss\n",
    "    loss = loss_fn(y_pred, y_train)\n",
    "    # 3. Optimizer zero grad\n",
    "    optimizer.zero_grad() # for some reason the gradients get accumulated?\n",
    "    \n",
    "    # 4. Perform backpropagation on the loss with respect to the parameters of the model\n",
    "    loss.backward()\n",
    "    \n",
    "    # 5. Step the optimizer (perform gradient descent)\n",
    "    optimizer.step() # by default how the optimizer will accumulate through the loop so... \n",
    "                     # we have to zero them above in step 3 for the next iteation of the loop\n",
    "    \n",
    "    \n",
    "    ### Testing\n",
    "    model_0.eval() # turns off different settings in the model not needed for evaluation/testing (dropout, batchNorm layers\n",
    "    with torch.inference_mode(): # turns off gradient tracking + some other things -> more efficient\n",
    "        # 1. Forward pass\n",
    "        test_pred = model_0(X_test)\n",
    "        \n",
    "        # 2. Calculate the test-loss\n",
    "        test_loss = loss_fn(test_pred, y_test)\n",
    "    \n",
    "    # Print what is happening\n",
    "    if epoch % 10 == 0:\n",
    "        epoch_count.append(epoch)\n",
    "        loss_values.append(loss)\n",
    "        test_loss_values.append(test_loss)\n",
    "        print(f\"Epoch: {epoch} | Loss: {loss} | Test loss: {test_loss}\")\n",
    "        # Print state\n",
    "        print(model_0.state_dict())\n",
    "\n"
   ]
  },
  {
   "cell_type": "code",
   "execution_count": 12,
   "id": "6e6b707a-c1ce-4d06-9da6-9cdfcd01765f",
   "metadata": {},
   "outputs": [],
   "source": [
    "with torch.inference_mode():\n",
    "    y_preds_new = model_0(X_test)\n"
   ]
  },
  {
   "cell_type": "code",
   "execution_count": 13,
   "id": "f03ac951-f78f-4eb3-9fbd-fc287dac0ec6",
   "metadata": {},
   "outputs": [
    {
     "data": {
      "image/png": "[encoded data removed]",
      "text/plain": [
       "<Figure size 720x504 with 1 Axes>"
      ]
     },
     "metadata": {
      "needs_background": "light"
     },
     "output_type": "display_data"
    }
   ],
   "source": [
    "plot_predictions(predictions=y_preds)"
   ]
  },
  {
   "cell_type": "code",
   "execution_count": 14,
   "id": "b6399414-16c4-420f-b423-2a87f9a3f0ec",
   "metadata": {},
   "outputs": [
    {
     "data": {
      "image/png": "[encoded data removed]",
      "text/plain": [
       "<Figure size 720x504 with 1 Axes>"
      ]
     },
     "metadata": {
      "needs_background": "light"
     },
     "output_type": "display_data"
    }
   ],
   "source": [
    "plot_predictions(predictions=y_preds_new)"
   ]
  },
  {
   "cell_type": "code",
   "execution_count": 15,
   "id": "afb588cd-1488-4b11-9c30-1061c5b049df",
   "metadata": {},
   "outputs": [
    {
     "data": {
      "text/plain": [
       "<matplotlib.legend.Legend at 0x7fd1f6fc59d0>"
      ]
     },
     "execution_count": 15,
     "metadata": {},
     "output_type": "execute_result"
    },
    {
     "data": {
      "image/png": "[encoded data removed]",
      "text/plain": [
       "<Figure size 432x288 with 1 Axes>"
      ]
     },
     "metadata": {
      "needs_background": "light"
     },
     "output_type": "display_data"
    }
   ],
   "source": [
    "# Plot the loss curves\n",
    "plt.plot(epoch_count, np.array(torch.tensor(loss_values).numpy()), label=\"Train loss\")\n",
    "plt.plot(epoch_count, np.array(torch.tensor(test_loss_values).numpy()), label=\"Test loss\")\n",
    "plt.title(\"Training and test loss curve\")\n",
    "plt.ylabel(\"Loss\")\n",
    "plt.xlabel(\"Epochs\")\n",
    "plt.legend()"
   ]
  },
  {
   "cell_type": "markdown",
   "id": "94b268c5-8278-4e76-a93c-3fbd0b41777f",
   "metadata": {},
   "source": [
    "#### Saving a model in `PyTorch`:\n",
    "There are 3 main methods for saving and loading models:\n",
    "1. `torch.save()` - allows you to save a `PyTorch` object in `Python's` `pickle` format\n",
    "2. `torch.load()` - allows you to load a saved `PyTorch` object\n",
    "3. `torch.nn.Module.load_state_dict()` - allows you to load a model's saved dictionary\n",
    "\n",
    "What is a `state_dict`?\n",
    "\n",
    "In `PyTorch`, the learnable parameters (i.e. weights and biases) of a `torch.nn.Module` model are contained in the model’s parameters (accessed with `model.parameters()`). A state_dict is simply a `Python` dictionary object that maps each layer to its parameter tensor."
   ]
  },
  {
   "cell_type": "code",
   "execution_count": null,
   "id": "b31ccea6-aceb-476e-9b0f-7dd42a2fdb26",
   "metadata": {},
   "outputs": [],
   "source": []
  }
 ],
 "metadata": {
  "kernelspec": {
   "display_name": "Python 3 (ipykernel)",
   "language": "python",
   "name": "python3"
  },
  "language_info": {
   "codemirror_mode": {
    "name": "ipython",
    "version": 3
   },
   "file_extension": ".py",
   "mimetype": "text/x-python",
   "name": "python",
   "nbconvert_exporter": "python",
   "pygments_lexer": "ipython3",
   "version": "3.8.5"
  }
 },
 "nbformat": 4,
 "nbformat_minor": 5
}
