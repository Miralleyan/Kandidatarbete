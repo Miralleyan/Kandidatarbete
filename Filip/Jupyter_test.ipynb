{
 "cells": [
  {
   "cell_type": "code",
   "execution_count": 11,
   "metadata": {},
   "outputs": [
    {
     "name": "stdout",
     "output_type": "stream",
     "text": [
      "Step  10: p= 0.5681, q= 0.5681, u=-0.7760 and variance is -0.1308\n",
      "Step  20: p= 0.4477, q= 0.4477, u=-0.3264 and variance is -0.0434\n",
      "Step  30: p= 0.5385, q= 0.5385, u=-0.6046 and variance is -0.0150\n",
      "Step  40: p= 0.4760, q= 0.4760, u=-0.4367 and variance is -0.0054\n",
      "Step  50: p= 0.5126, q= 0.5126, u=-0.5387 and variance is -0.0021\n",
      "Step  60: p= 0.4945, q= 0.4945, u=-0.4782 and variance is -0.0008\n",
      "Step  70: p= 0.5031, q= 0.5031, u=-0.5089 and variance is -0.0002\n",
      "Step  80: p= 0.4988, q= 0.4988, u=-0.4996 and variance is -0.0000\n",
      "Step  90: p= 0.4984, q= 0.4984, u=-0.4971 and variance is -0.0000\n",
      "Step  100: p= 0.5010, q= 0.5010, u=-0.5030 and variance is -0.0000\n",
      "Step  110: p= 0.4995, q= 0.4995, u=-0.4989 and variance is -0.0000\n",
      "Step  120: p= 0.4998, q= 0.4998, u=-0.4996 and variance is -0.0000\n",
      "Step  130: p= 0.5002, q= 0.5002, u=-0.5007 and variance is -0.0000\n",
      "Step  140: p= 0.4999, q= 0.4999, u=-0.4999 and variance is -0.0000\n",
      "Step  150: p= 0.4999, q= 0.4999, u=-0.4998 and variance is -0.0000\n",
      "Step  160: p= 0.5001, q= 0.5001, u=-0.5001 and variance is -0.0000\n",
      "Step  170: p= 0.5000, q= 0.5000, u=-0.5001 and variance is -0.0000\n",
      "Step  180: p= 0.5000, q= 0.5000, u=-0.5000 and variance is -0.0000\n",
      "Step  190: p= 0.5000, q= 0.5000, u=-0.5000 and variance is -0.0000\n",
      "Step  200: p= 0.5000, q= 0.5000, u=-0.5000 and variance is -0.0000\n",
      "Optimum found: p= 0.5000, q= 0.5000, u=-0.5000\n"
     ]
    }
   ],
   "source": [
    "import torch\n",
    "from torch import nn\n",
    "\n",
    "p0 = torch.tensor(0.2, requires_grad=True) # initial value, initialises computation of grad\n",
    "q0 = torch.tensor(0.2, requires_grad=True) # initial value, initialises computation of grad\n",
    "u0 = torch.tensor(0.2, requires_grad=True) # initial value, initialises computation of grad\n",
    "p = p0\n",
    "q = q0\n",
    "u = u0\n",
    "optimizer = torch.optim.Adam([p, q, u], lr=0.2)\n",
    "steps = 200\n",
    "for step in range(steps):\n",
    "    optimizer.zero_grad() # otherwise, the grads on steps will sum up\n",
    "    loss = (p+u)**2 + (q+u)**2 + (p+q-1)**2 # the minus so that to minimise var\n",
    "    loss.backward()\n",
    "    optimizer.step()\n",
    "    if step % 10 == 9:\n",
    "        print(f'Step {step+1: 2}: p={p.item(): 0.4f}, q={q.item(): 0.4f}, u={u.item(): 0.4f} and variance is {-loss.item(): 1.4f}')\n",
    "\n",
    "print(f'Optimum found: p={p.detach(): 0.4f}, q={q.detach(): 0.4f}, u={u.detach(): 0.4f}')\n"
   ]
  }
 ],
 "metadata": {
  "kernelspec": {
   "display_name": "local",
   "language": "python",
   "name": "python3"
  },
  "language_info": {
   "codemirror_mode": {
    "name": "ipython",
    "version": 3
   },
   "file_extension": ".py",
   "mimetype": "text/x-python",
   "name": "python",
   "nbconvert_exporter": "python",
   "pygments_lexer": "ipython3",
   "version": "3.9.16"
  },
  "orig_nbformat": 4,
  "vscode": {
   "interpreter": {
    "hash": "7bfab563a781f4da718747e2fae872b9d7cb73fc061a7ef5b3d06d4d87105164"
   }
  }
 },
 "nbformat": 4,
 "nbformat_minor": 2
}
