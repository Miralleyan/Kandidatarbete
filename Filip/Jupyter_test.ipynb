{
 "cells": [
  {
   "cell_type": "code",
   "execution_count": 1,
   "metadata": {},
   "outputs": [
    {
     "ename": "ModuleNotFoundError",
     "evalue": "No module named 'torch'",
     "output_type": "error",
     "traceback": [
      "\u001b[1;31m---------------------------------------------------------------------------\u001b[0m",
      "\u001b[1;31mModuleNotFoundError\u001b[0m                       Traceback (most recent call last)",
      "Cell \u001b[1;32mIn[1], line 1\u001b[0m\n\u001b[1;32m----> 1\u001b[0m \u001b[39mimport\u001b[39;00m \u001b[39mtorch\u001b[39;00m\n\u001b[0;32m      2\u001b[0m \u001b[39mfrom\u001b[39;00m \u001b[39mtorch\u001b[39;00m \u001b[39mimport\u001b[39;00m nn\n\u001b[0;32m      4\u001b[0m p0 \u001b[39m=\u001b[39m torch\u001b[39m.\u001b[39mtensor(\u001b[39m0.2\u001b[39m, requires_grad\u001b[39m=\u001b[39m\u001b[39mTrue\u001b[39;00m) \u001b[39m# initial value, initialises computation of grad\u001b[39;00m\n",
      "\u001b[1;31mModuleNotFoundError\u001b[0m: No module named 'torch'"
     ]
    }
   ],
   "source": [
    "import torch\n",
    "from torch import nn\n",
    "\n",
    "p0 = torch.tensor(0.2, requires_grad=True) # initial value, initialises computation of grad\n",
    "q0 = torch.tensor(0.2, requires_grad=True) # initial value, initialises computation of grad\n",
    "u0 = torch.tensor(0.2, requires_grad=True) # initial value, initialises computation of grad\n",
    "p = p0\n",
    "q = q0\n",
    "u = u0\n",
    "optimizer = torch.optim.Adam([p, q, u], lr=0.1)\n",
    "steps = 50\n",
    "for step in range(steps):\n",
    "    optimizer.zero_grad() # otherwise, the grads on steps will sum up\n",
    "    var = p*q + u*(u+p-1) # the minus so that to minimise var\n",
    "    var.backward()\n",
    "    optimizer.step()\n",
    "    if step % 10 == 9:\n",
    "        print(f'Step {step+1: 2}: p={p.item(): 0.4f} and variance is {-var.item(): 1.4f}')\n",
    "\n",
    "print(f'Optimum found: p={p.detach(): 0.4f}')"
   ]
  }
 ],
 "metadata": {
  "kernelspec": {
   "display_name": "Python 3",
   "language": "python",
   "name": "python3"
  },
  "language_info": {
   "codemirror_mode": {
    "name": "ipython",
    "version": 3
   },
   "file_extension": ".py",
   "mimetype": "text/x-python",
   "name": "python",
   "nbconvert_exporter": "python",
   "pygments_lexer": "ipython3",
   "version": "3.11.0 (main, Oct 24 2022, 18:26:48) [MSC v.1933 64 bit (AMD64)]"
  },
  "orig_nbformat": 4,
  "vscode": {
   "interpreter": {
    "hash": "1793df1d2301171ba0b40f65791b7f70118724e366e1aedbfbefba442cbae2c0"
   }
  }
 },
 "nbformat": 4,
 "nbformat_minor": 2
}
