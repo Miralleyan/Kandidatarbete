{
 "cells": [
  {
   "cell_type": "code",
   "execution_count": 11,
   "metadata": {},
   "outputs": [
    {
     "name": "stdout",
     "output_type": "stream",
     "text": [
      "Step  10: p= 0.5681, q= 0.5681, u=-0.7760 and variance is -0.1308\n",
      "Step  20: p= 0.4477, q= 0.4477, u=-0.3264 and variance is -0.0434\n",
      "Step  30: p= 0.5385, q= 0.5385, u=-0.6046 and variance is -0.0150\n",
      "Step  40: p= 0.4760, q= 0.4760, u=-0.4367 and variance is -0.0054\n",
      "Step  50: p= 0.5126, q= 0.5126, u=-0.5387 and variance is -0.0021\n",
      "Step  60: p= 0.4945, q= 0.4945, u=-0.4782 and variance is -0.0008\n",
      "Step  70: p= 0.5031, q= 0.5031, u=-0.5089 and variance is -0.0002\n",
      "Step  80: p= 0.4988, q= 0.4988, u=-0.4996 and variance is -0.0000\n",
      "Step  90: p= 0.4984, q= 0.4984, u=-0.4971 and variance is -0.0000\n",
      "Step  100: p= 0.5010, q= 0.5010, u=-0.5030 and variance is -0.0000\n",
      "Step  110: p= 0.4995, q= 0.4995, u=-0.4989 and variance is -0.0000\n",
      "Step  120: p= 0.4998, q= 0.4998, u=-0.4996 and variance is -0.0000\n",
      "Step  130: p= 0.5002, q= 0.5002, u=-0.5007 and variance is -0.0000\n",
      "Step  140: p= 0.4999, q= 0.4999, u=-0.4999 and variance is -0.0000\n",
      "Step  150: p= 0.4999, q= 0.4999, u=-0.4998 and variance is -0.0000\n",
      "Step  160: p= 0.5001, q= 0.5001, u=-0.5001 and variance is -0.0000\n",
      "Step  170: p= 0.5000, q= 0.5000, u=-0.5001 and variance is -0.0000\n",
      "Step  180: p= 0.5000, q= 0.5000, u=-0.5000 and variance is -0.0000\n",
      "Step  190: p= 0.5000, q= 0.5000, u=-0.5000 and variance is -0.0000\n",
      "Step  200: p= 0.5000, q= 0.5000, u=-0.5000 and variance is -0.0000\n",
      "Optimum found: p= 0.5000, q= 0.5000, u=-0.5000\n"
     ]
    }
   ],
   "source": [
    "import torch\n",
    "from sympy import diff, symbols\n",
    "from torch import nn\n",
    "\n",
    "p0 = torch.tensor(0.2, requires_grad=True) # initial value, initialises computation of grad\n",
    "q0 = torch.tensor(0.2, requires_grad=True) # initial value, initialises computation of grad\n",
    "u0 = torch.tensor(0.2, requires_grad=True) # initial value, initialises computation of grad\n",
    "p = p0\n",
    "q = q0\n",
    "u = u0\n",
    "optimizer = torch.optim.Adam([p, q, u], lr=0.2)\n",
    "steps = 200\n",
    "for step in range(steps):\n",
    "    optimizer.zero_grad() # otherwise, the grads on steps will sum up\n",
    "    loss = (p+u)**2 + (q+u)**2 + (p+q-1)**2 # the minus so that to minimise var\n",
    "    loss.backward()\n",
    "    optimizer.step()\n",
    "    if step % 10 == 9:\n",
    "        print(f'Step {step+1: 2}: p={p.item(): 0.4f}, q={q.item(): 0.4f}, u={u.item(): 0.4f} and variance is {-loss.item(): 1.4f}')\n",
    "\n",
    "print(f'Optimum found: p={p.detach(): 0.4f}, q={q.detach(): 0.4f}, u={u.detach(): 0.4f}')\n"
   ]
  },
  {
   "cell_type": "code",
   "execution_count": 22,
   "metadata": {},
   "outputs": [
    {
     "name": "stdout",
     "output_type": "stream",
     "text": [
      "tensor([2.0400])\n"
     ]
    },
    {
     "ename": "RuntimeError",
     "evalue": "element 0 of tensors does not require grad and does not have a grad_fn",
     "output_type": "error",
     "traceback": [
      "\u001b[1;31m---------------------------------------------------------------------------\u001b[0m",
      "\u001b[1;31mRuntimeError\u001b[0m                              Traceback (most recent call last)",
      "Cell \u001b[1;32mIn[22], line 26\u001b[0m\n\u001b[0;32m     24\u001b[0m external_grad \u001b[39m=\u001b[39m torch\u001b[39m.\u001b[39mtensor([\u001b[39m1.\u001b[39m])\n\u001b[0;32m     25\u001b[0m \u001b[39m# loss_gradient_length.backward(gradient = external_grad)\u001b[39;00m\n\u001b[1;32m---> 26\u001b[0m loss_gradient_length\u001b[39m.\u001b[39;49mbackward()\n\u001b[0;32m     27\u001b[0m optimizer\u001b[39m.\u001b[39mstep()\n\u001b[0;32m     28\u001b[0m \u001b[39mif\u001b[39;00m step \u001b[39m%\u001b[39m \u001b[39m2\u001b[39m \u001b[39m==\u001b[39m \u001b[39m1\u001b[39m:\n",
      "File \u001b[1;32mc:\\Users\\filip\\miniconda3\\envs\\local\\lib\\site-packages\\torch\\_tensor.py:488\u001b[0m, in \u001b[0;36mTensor.backward\u001b[1;34m(self, gradient, retain_graph, create_graph, inputs)\u001b[0m\n\u001b[0;32m    478\u001b[0m \u001b[39mif\u001b[39;00m has_torch_function_unary(\u001b[39mself\u001b[39m):\n\u001b[0;32m    479\u001b[0m     \u001b[39mreturn\u001b[39;00m handle_torch_function(\n\u001b[0;32m    480\u001b[0m         Tensor\u001b[39m.\u001b[39mbackward,\n\u001b[0;32m    481\u001b[0m         (\u001b[39mself\u001b[39m,),\n\u001b[1;32m   (...)\u001b[0m\n\u001b[0;32m    486\u001b[0m         inputs\u001b[39m=\u001b[39minputs,\n\u001b[0;32m    487\u001b[0m     )\n\u001b[1;32m--> 488\u001b[0m torch\u001b[39m.\u001b[39;49mautograd\u001b[39m.\u001b[39;49mbackward(\n\u001b[0;32m    489\u001b[0m     \u001b[39mself\u001b[39;49m, gradient, retain_graph, create_graph, inputs\u001b[39m=\u001b[39;49minputs\n\u001b[0;32m    490\u001b[0m )\n",
      "File \u001b[1;32mc:\\Users\\filip\\miniconda3\\envs\\local\\lib\\site-packages\\torch\\autograd\\__init__.py:197\u001b[0m, in \u001b[0;36mbackward\u001b[1;34m(tensors, grad_tensors, retain_graph, create_graph, grad_variables, inputs)\u001b[0m\n\u001b[0;32m    192\u001b[0m     retain_graph \u001b[39m=\u001b[39m create_graph\n\u001b[0;32m    194\u001b[0m \u001b[39m# The reason we repeat same the comment below is that\u001b[39;00m\n\u001b[0;32m    195\u001b[0m \u001b[39m# some Python versions print out the first line of a multi-line function\u001b[39;00m\n\u001b[0;32m    196\u001b[0m \u001b[39m# calls in the traceback and some print out the last line\u001b[39;00m\n\u001b[1;32m--> 197\u001b[0m Variable\u001b[39m.\u001b[39;49m_execution_engine\u001b[39m.\u001b[39;49mrun_backward(  \u001b[39m# Calls into the C++ engine to run the backward pass\u001b[39;49;00m\n\u001b[0;32m    198\u001b[0m     tensors, grad_tensors_, retain_graph, create_graph, inputs,\n\u001b[0;32m    199\u001b[0m     allow_unreachable\u001b[39m=\u001b[39;49m\u001b[39mTrue\u001b[39;49;00m, accumulate_grad\u001b[39m=\u001b[39;49m\u001b[39mTrue\u001b[39;49;00m)\n",
      "\u001b[1;31mRuntimeError\u001b[0m: element 0 of tensors does not require grad and does not have a grad_fn"
     ]
    }
   ],
   "source": [
    "p0 = torch.tensor(0.2, requires_grad=True) # initial value, initialises computation of grad\n",
    "q0 = torch.tensor(0.2, requires_grad=True) # initial value, initialises computation of grad\n",
    "u1_0 = torch.tensor(0.2, requires_grad=True) # initial value, initialises computation of grad\n",
    "u2_0 = torch.tensor(0.2, requires_grad=True) # initial value, initialises computation of grad\n",
    "u3_0 = torch.tensor(0.2, requires_grad=True) # initial value, initialises computation of grad\n",
    "u4_0 = torch.tensor(0.2, requires_grad=True) # initial value, initialises computation of grad\n",
    "u5_0 = torch.tensor(0.2, requires_grad=True) # initial value, initialises computation of grad\n",
    "pre_loss0 = torch.tensor(0.2, requires_grad=True) # initial value, initialises computation of grad\n",
    "p = p0\n",
    "q = q0\n",
    "u1 = u1_0\n",
    "u2 = u2_0\n",
    "u3 = u3_0\n",
    "u4 = u4_0\n",
    "u5 = u5_0\n",
    "pre_loss = pre_loss0\n",
    "optimizer = torch.optim.Adam([p, q, u1, u2, u3, u4, u5, pre_loss], lr=0.2)\n",
    "steps = 50\n",
    "for step in range(steps):\n",
    "    optimizer.zero_grad() # otherwise, the grads on steps will sum up\n",
    "    loss = -(p*q + u1*(p+q-1) + u2*(-p) + u3*(p-1) + u4*(-q) + u5*(q-1)) # the minus so that to minimise var\n",
    "    loss.backward()\n",
    "    loss_gradient_length = torch.tensor([p.grad**2 + q.grad**2 + u1.grad**2 + u2.grad**2 + u3.grad**2 + u4.grad**2 + u5.grad**2])\n",
    "    # optimizer.zero_grad() # otherwise, the grads on steps will sum up\n",
    "    print(loss_gradient_length)\n",
    "    external_grad = torch.tensor([1.])\n",
    "    # loss_gradient_length.backward(gradient = external_grad)\n",
    "    loss_gradient_length.backward()\n",
    "    optimizer.step()\n",
    "    if step % 2 == 1:\n",
    "        print(f'Step {step+1: 2}: p={p.item(): 0.4f}, q={q.item(): 0.4f}, u={u.item(): 0.4f} and variance is {-loss.item(): 1.4f}')\n",
    "\n",
    "print(f'Optimum found: p={p.detach(): 0.4f}, q={q.detach(): 0.4f}, u={u.detach(): 0.4f}')\n"
   ]
  }
 ],
 "metadata": {
  "kernelspec": {
   "display_name": "local",
   "language": "python",
   "name": "python3"
  },
  "language_info": {
   "codemirror_mode": {
    "name": "ipython",
    "version": 3
   },
   "file_extension": ".py",
   "mimetype": "text/x-python",
   "name": "python",
   "nbconvert_exporter": "python",
   "pygments_lexer": "ipython3",
   "version": "3.9.16"
  },
  "orig_nbformat": 4,
  "vscode": {
   "interpreter": {
    "hash": "7bfab563a781f4da718747e2fae872b9d7cb73fc061a7ef5b3d06d4d87105164"
   }
  }
 },
 "nbformat": 4,
 "nbformat_minor": 2
}
