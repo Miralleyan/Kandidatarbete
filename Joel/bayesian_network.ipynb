{
 "cells": [
  {
   "cell_type": "code",
   "execution_count": null,
   "metadata": {},
   "outputs": [],
   "source": [
    "import torch\n",
    "import matplotlib.pyplot as plt\n",
    "import numpy as np"
   ]
  },
  {
   "cell_type": "code",
   "execution_count": 55,
   "metadata": {},
   "outputs": [],
   "source": [
    "N = 200\n",
    "\n",
    "def real_model(x):\n",
    "    y = (torch.randn(1, N) + 2) * x + 3 + torch.randn(1, N)\n",
    "    return y\n",
    "\n",
    "x = torch.linspace(-3, 4, N).view(-1, 1)\n",
    "y = real_model(x.squeeze()).view(-1, 1)"
   ]
  },
  {
   "cell_type": "code",
   "execution_count": 66,
   "metadata": {},
   "outputs": [],
   "source": [
    "class NormalModel(torch.nn.Module):\n",
    "    def __init__(self):\n",
    "        super().__init__()\n",
    "\n",
    "        self.mean = None\n",
    "        self.std = None\n",
    "\n",
    "        k = 12\n",
    "\n",
    "        self.hidden_layers = torch.nn.Sequential(\n",
    "            torch.nn.Linear(1, k),\n",
    "            torch.nn.ReLU()\n",
    "        )\n",
    "        self.mean_layer = torch.nn.Linear(k, 1)\n",
    "        self.std_layer = torch.nn.Sequential(\n",
    "            torch.nn.Linear(k, 1),\n",
    "            torch.nn.ELU()\n",
    "        )\n",
    "\n",
    "    def forward(self, x):\n",
    "        h = self.hidden_layers(x)\n",
    "        self.mean = self.mean_layer(h)\n",
    "        self.std = self.std_layer(h) + 1\n",
    "\n",
    "        return self.mean, self.std\n",
    "    \n",
    "    def __repr__(self):\n",
    "        return f'Mean: {self.mean.item():.5f} and Std: {self.std.item():.5f}'\n"
   ]
  },
  {
   "cell_type": "code",
   "execution_count": 67,
   "metadata": {},
   "outputs": [],
   "source": [
    "def k(mean, std, x):\n",
    "    return 1 / np.sqrt(2 * np.pi) * torch.exp(-((x - mean)/std) ** 2 / 2) / std\n",
    "\n",
    "def log_k(mean, std, y):\n",
    "    return -torch.log(std) - (y - mean)**2 / (2 * std**2)"
   ]
  },
  {
   "cell_type": "code",
   "execution_count": 68,
   "metadata": {},
   "outputs": [],
   "source": [
    "model = NormalModel()\n",
    "opt = torch.optim.Adam(model.parameters())"
   ]
  },
  {
   "cell_type": "code",
   "execution_count": 69,
   "metadata": {},
   "outputs": [
    {
     "name": "stdout",
     "output_type": "stream",
     "text": [
      "0:: Loss = 5908.8623046875\n",
      "100:: Loss = 694.5260620117188\n",
      "200:: Loss = 600.3509521484375\n",
      "300:: Loss = 447.591552734375\n",
      "400:: Loss = 347.2327575683594\n",
      "500:: Loss = 320.9903869628906\n",
      "600:: Loss = 302.6424865722656\n",
      "700:: Loss = 206.50039672851562\n",
      "800:: Loss = 202.8370819091797\n",
      "900:: Loss = 159.86648559570312\n",
      "1000:: Loss = 151.46926879882812\n",
      "1100:: Loss = 164.55056762695312\n",
      "1200:: Loss = 137.1946563720703\n",
      "1300:: Loss = 139.53436279296875\n",
      "1400:: Loss = 136.15322875976562\n",
      "1500:: Loss = 129.7499542236328\n",
      "1600:: Loss = 131.82510375976562\n",
      "1700:: Loss = 129.8968505859375\n",
      "1800:: Loss = 127.10769653320312\n",
      "1900:: Loss = 129.9535369873047\n",
      "2000:: Loss = 122.63406372070312\n",
      "2100:: Loss = 125.60616302490234\n",
      "2200:: Loss = 118.87802124023438\n",
      "2300:: Loss = 124.900634765625\n",
      "2400:: Loss = 116.79586029052734\n",
      "2500:: Loss = 117.51738739013672\n",
      "2600:: Loss = 122.91094970703125\n",
      "2700:: Loss = 127.5123062133789\n",
      "2800:: Loss = 123.34060668945312\n",
      "2900:: Loss = 113.67097473144531\n",
      "3000:: Loss = 130.56930541992188\n",
      "3100:: Loss = 126.09841918945312\n",
      "3200:: Loss = 108.82119750976562\n",
      "3300:: Loss = 109.21437072753906\n",
      "3400:: Loss = 111.72613525390625\n",
      "3500:: Loss = 137.31304931640625\n",
      "3600:: Loss = 111.49669647216797\n",
      "3700:: Loss = 112.94670867919922\n",
      "3800:: Loss = 111.79525756835938\n",
      "3900:: Loss = 113.37875366210938\n",
      "4000:: Loss = 105.6005859375\n",
      "4100:: Loss = 107.55823516845703\n",
      "4200:: Loss = 105.87625122070312\n",
      "4300:: Loss = 106.63212585449219\n",
      "4400:: Loss = 121.86792755126953\n",
      "4500:: Loss = 112.4632339477539\n",
      "4600:: Loss = 112.15315246582031\n",
      "4700:: Loss = 117.67240905761719\n",
      "4800:: Loss = 111.73029327392578\n",
      "4900:: Loss = 115.08287811279297\n"
     ]
    }
   ],
   "source": [
    "for epoch in range(5000):\n",
    "    opt.zero_grad()\n",
    "\n",
    "    if epoch % 10 == 0:\n",
    "        sample = torch.randint(N, (1, 100)).squeeze()\n",
    "\n",
    "    mean, std = model(x[sample])\n",
    "    log_likelyhood = log_k(mean, std, y[sample]).sum()\n",
    "    loss = -log_likelyhood\n",
    "    loss.backward()\n",
    "    opt.step()\n",
    "\n",
    "    if epoch % 100 == 0:\n",
    "        print(f'{epoch}:: Loss = {loss.item()}')\n",
    "    \n"
   ]
  },
  {
   "cell_type": "code",
   "execution_count": 71,
   "metadata": {},
   "outputs": [
    {
     "data": {
      "text/plain": [
       "<matplotlib.collections.PolyCollection at 0x7f83d4bc6f80>"
      ]
     },
     "execution_count": 71,
     "metadata": {},
     "output_type": "execute_result"
    },
    {
     "data": {
      "image/png": "[encoded data removed]",
      "text/plain": [
       "<Figure size 432x288 with 1 Axes>"
      ]
     },
     "metadata": {
      "needs_background": "light"
     },
     "output_type": "display_data"
    }
   ],
   "source": [
    "m, s = model(x)\n",
    "\n",
    "plt.scatter(x, y, marker='.')\n",
    "plt.plot(x, m.detach(), 'r')\n",
    "plt.fill_between(x.squeeze(), (m.detach()-s.detach()).squeeze(), (m.detach()+s.detach()).squeeze(), alpha=0.5)"
   ]
  },
  {
   "cell_type": "code",
   "execution_count": null,
   "metadata": {},
   "outputs": [],
   "source": []
  },
  {
   "cell_type": "code",
   "execution_count": null,
   "metadata": {},
   "outputs": [],
   "source": [
    "x.size(), y.size()"
   ]
  },
  {
   "cell_type": "code",
   "execution_count": null,
   "metadata": {},
   "outputs": [],
   "source": []
  }
 ],
 "metadata": {
  "kernelspec": {
   "display_name": "Python 3",
   "language": "python",
   "name": "python3"
  },
  "language_info": {
   "codemirror_mode": {
    "name": "ipython",
    "version": 3
   },
   "file_extension": ".py",
   "mimetype": "text/x-python",
   "name": "python",
   "nbconvert_exporter": "python",
   "pygments_lexer": "ipython3",
   "version": "3.10.6"
  },
  "orig_nbformat": 4
 },
 "nbformat": 4,
 "nbformat_minor": 2
}
