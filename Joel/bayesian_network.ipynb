{
 "cells": [
  {
   "cell_type": "code",
   "execution_count": 78,
   "metadata": {},
   "outputs": [],
   "source": [
    "import torch\n",
    "import matplotlib.pyplot as plt\n",
    "import numpy as np"
   ]
  },
  {
   "cell_type": "code",
   "execution_count": 99,
   "metadata": {},
   "outputs": [],
   "source": [
    "N = 500\n",
    "\n",
    "def real_model(x):\n",
    "    y = (torch.randn(1, N) + 2) * x + 3 + torch.randn(1, N)\n",
    "    return y\n",
    "\n",
    "x = torch.linspace(-3, 4, N).view(-1, 1)\n",
    "y = real_model(x.squeeze()).view(-1, 1)"
   ]
  },
  {
   "cell_type": "code",
   "execution_count": 100,
   "metadata": {},
   "outputs": [],
   "source": [
    "class NormalModel(torch.nn.Module):\n",
    "    def __init__(self):\n",
    "        super().__init__()\n",
    "\n",
    "        self.mean = None\n",
    "        self.std = None\n",
    "\n",
    "        k = 6\n",
    "\n",
    "        self.hidden_layers = torch.nn.Sequential(\n",
    "            torch.nn.Linear(1, k),\n",
    "            torch.nn.ReLU(),\n",
    "            torch.nn.Linear(k, k)\n",
    "        )\n",
    "        self.mean_layer = torch.nn.Linear(k, 1)\n",
    "        self.std_layer = torch.nn.Sequential(\n",
    "            torch.nn.Sigmoid(),\n",
    "            torch.nn.Linear(k, 1),\n",
    "            torch.nn.ELU()\n",
    "        )\n",
    "\n",
    "    def forward(self, x):\n",
    "        h = self.hidden_layers(x)\n",
    "        self.mean = self.mean_layer(h)\n",
    "        self.std = self.std_layer(h) + 1\n",
    "\n",
    "        return self.mean, self.std\n",
    "    \n",
    "    def __repr__(self):\n",
    "        return f'Mean: {self.mean.item():.5f} and Std: {self.std.item():.5f}'\n"
   ]
  },
  {
   "cell_type": "code",
   "execution_count": 101,
   "metadata": {},
   "outputs": [],
   "source": [
    "def k(mean, std, x):\n",
    "    return 1 / np.sqrt(2 * np.pi) * torch.exp(-((x - mean)/std) ** 2 / 2) / std\n",
    "\n",
    "def log_k(mean, std, y):\n",
    "    return -torch.log(std) - (y - mean)**2 / (2 * std**2)"
   ]
  },
  {
   "cell_type": "code",
   "execution_count": 102,
   "metadata": {},
   "outputs": [],
   "source": [
    "model = NormalModel()\n",
    "opt = torch.optim.Adam(model.parameters(), lr=0.01)"
   ]
  },
  {
   "cell_type": "code",
   "execution_count": 103,
   "metadata": {},
   "outputs": [
    {
     "name": "stdout",
     "output_type": "stream",
     "text": [
      "0:: Loss = 1615.121826171875\n",
      "100:: Loss = 130.50718688964844\n",
      "200:: Loss = 132.57762145996094\n",
      "300:: Loss = 139.4243927001953\n",
      "400:: Loss = 123.59944152832031\n",
      "500:: Loss = 124.69525909423828\n",
      "600:: Loss = 124.09761047363281\n",
      "700:: Loss = 124.97296142578125\n",
      "800:: Loss = 129.9976806640625\n",
      "900:: Loss = 129.65997314453125\n",
      "1000:: Loss = 123.5133056640625\n",
      "1100:: Loss = 130.44558715820312\n",
      "1200:: Loss = 117.39363098144531\n",
      "1300:: Loss = 105.99380493164062\n",
      "1400:: Loss = 119.48007202148438\n",
      "1500:: Loss = 120.55233764648438\n",
      "1600:: Loss = 117.53919982910156\n",
      "1700:: Loss = 119.57777404785156\n",
      "1800:: Loss = 119.47505187988281\n",
      "1900:: Loss = 113.19422149658203\n",
      "2000:: Loss = 106.14028930664062\n",
      "2100:: Loss = 123.91181945800781\n",
      "2200:: Loss = 127.44807434082031\n",
      "2300:: Loss = 130.17982482910156\n",
      "2400:: Loss = 112.29146575927734\n",
      "2500:: Loss = 117.65620422363281\n",
      "2600:: Loss = 112.88270568847656\n",
      "2700:: Loss = 129.88449096679688\n",
      "2800:: Loss = 133.1850128173828\n",
      "2900:: Loss = 130.44200134277344\n",
      "3000:: Loss = 121.76871490478516\n",
      "3100:: Loss = 100.62484741210938\n",
      "3200:: Loss = 108.74681091308594\n",
      "3300:: Loss = 109.92405700683594\n",
      "3400:: Loss = 132.67752075195312\n",
      "3500:: Loss = 125.8201904296875\n",
      "3600:: Loss = 125.53507232666016\n",
      "3700:: Loss = 107.91967010498047\n",
      "3800:: Loss = 127.36979675292969\n",
      "3900:: Loss = 116.1948471069336\n",
      "4000:: Loss = 121.9859619140625\n",
      "4100:: Loss = 128.28408813476562\n",
      "4200:: Loss = 126.95401000976562\n",
      "4300:: Loss = 124.59039306640625\n",
      "4400:: Loss = 131.3378143310547\n",
      "4500:: Loss = 132.19970703125\n",
      "4600:: Loss = 116.21929931640625\n",
      "4700:: Loss = 118.66468048095703\n",
      "4800:: Loss = 120.04988861083984\n",
      "4900:: Loss = 593.68994140625\n"
     ]
    }
   ],
   "source": [
    "max_epoch = 5000\n",
    "for epoch in range(max_epoch):\n",
    "    opt.zero_grad()\n",
    "\n",
    "    if epoch % 10 == 0 and max_epoch - epoch > 100:\n",
    "        sample = torch.randint(N, (1, 100)).squeeze()\n",
    "    elif max_epoch - epoch == 100:\n",
    "        sample = torch.arange(0, N)\n",
    "\n",
    "    mean, std = model(x[sample])\n",
    "    log_likelyhood = log_k(mean, std, y[sample]).sum()\n",
    "    loss = -log_likelyhood\n",
    "    loss.backward()\n",
    "    opt.step()\n",
    "\n",
    "    if epoch % 100 == 0:\n",
    "        print(f'{epoch}:: Loss = {loss.item()}')\n",
    "    \n"
   ]
  },
  {
   "cell_type": "code",
   "execution_count": 104,
   "metadata": {},
   "outputs": [
    {
     "data": {
      "text/plain": [
       "<matplotlib.collections.PolyCollection at 0x7fc9209cae30>"
      ]
     },
     "execution_count": 104,
     "metadata": {},
     "output_type": "execute_result"
    },
    {
     "data": {
      "image/png": "[encoded data removed]",
      "text/plain": [
       "<Figure size 432x288 with 1 Axes>"
      ]
     },
     "metadata": {
      "needs_background": "light"
     },
     "output_type": "display_data"
    }
   ],
   "source": [
    "m, s = model(x)\n",
    "\n",
    "plt.scatter(x, y, marker='.')\n",
    "plt.plot(x, m.detach(), 'r')\n",
    "plt.fill_between(x.squeeze(), (m.detach()-s.detach()).squeeze(), (m.detach()+s.detach()).squeeze(), alpha=0.5)"
   ]
  },
  {
   "cell_type": "code",
   "execution_count": null,
   "metadata": {},
   "outputs": [],
   "source": []
  },
  {
   "cell_type": "code",
   "execution_count": 105,
   "metadata": {},
   "outputs": [
    {
     "data": {
      "text/plain": [
       "(torch.Size([500, 1]), torch.Size([500, 1]))"
      ]
     },
     "execution_count": 105,
     "metadata": {},
     "output_type": "execute_result"
    }
   ],
   "source": [
    "x.size(), y.size()"
   ]
  },
  {
   "cell_type": "code",
   "execution_count": 106,
   "metadata": {},
   "outputs": [],
   "source": [
    "def check_within_two_stddeviations(x, y):\n",
    "    y_pred, y_std = model(x)\n",
    "    # want 95.4% inside \n",
    "    a = (y - y_pred).abs() / y_std\n",
    "    hits = (a <= 2).sum()\n",
    "    return hits / len(x)"
   ]
  },
  {
   "cell_type": "code",
   "execution_count": 107,
   "metadata": {},
   "outputs": [
    {
     "data": {
      "text/plain": [
       "tensor(0.0040)"
      ]
     },
     "execution_count": 107,
     "metadata": {},
     "output_type": "execute_result"
    }
   ],
   "source": [
    "check_within_two_stddeviations(x, y) - 0.954"
   ]
  },
  {
   "cell_type": "code",
   "execution_count": 108,
   "metadata": {},
   "outputs": [
    {
     "data": {
      "text/plain": [
       "0.008763560920082658"
      ]
     },
     "execution_count": 108,
     "metadata": {},
     "output_type": "execute_result"
    }
   ],
   "source": [
    "np.sqrt(0.96 * 0.04 / N)"
   ]
  },
  {
   "cell_type": "code",
   "execution_count": null,
   "metadata": {},
   "outputs": [],
   "source": []
  }
 ],
 "metadata": {
  "kernelspec": {
   "display_name": "Python 3",
   "language": "python",
   "name": "python3"
  },
  "language_info": {
   "codemirror_mode": {
    "name": "ipython",
    "version": 3
   },
   "file_extension": ".py",
   "mimetype": "text/x-python",
   "name": "python",
   "nbconvert_exporter": "python",
   "pygments_lexer": "ipython3",
   "version": "3.10.6"
  },
  "orig_nbformat": 4
 },
 "nbformat": 4,
 "nbformat_minor": 2
}
