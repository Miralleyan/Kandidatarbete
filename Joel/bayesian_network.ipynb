{
 "cells": [
  {
   "cell_type": "code",
   "execution_count": 1,
   "metadata": {},
   "outputs": [],
   "source": [
    "import torch\n",
    "import matplotlib.pyplot as plt\n",
    "import numpy as np"
   ]
  },
  {
   "cell_type": "code",
   "execution_count": 26,
   "metadata": {},
   "outputs": [],
   "source": [
    "N = 500\n",
    "\n",
    "def real_model(x):\n",
    "    y = (torch.randn(1, N) + 2) * x + 3 + torch.randn(1, N)\n",
    "    return y\n",
    "\n",
    "x = torch.linspace(-3, 4, N).view(-1, 1)\n",
    "y = real_model(x.squeeze()).view(-1, 1)"
   ]
  },
  {
   "cell_type": "code",
   "execution_count": 68,
   "metadata": {},
   "outputs": [],
   "source": [
    "class NormalModel(torch.nn.Module):\n",
    "    def __init__(self):\n",
    "        super().__init__()\n",
    "\n",
    "        self.mean = None\n",
    "        self.std = None\n",
    "\n",
    "        k = 6\n",
    "\n",
    "        self.hidden_layers = torch.nn.Sequential(\n",
    "            torch.nn.Linear(1, k),\n",
    "        )\n",
    "        self.mean_layer = torch.nn.Linear(k, 1)\n",
    "        self.std_layer = torch.nn.Sequential(\n",
    "            torch.nn.Sigmoid(),\n",
    "            torch.nn.Linear(k, 1),\n",
    "            torch.nn.ELU()\n",
    "        )\n",
    "\n",
    "    def forward(self, x):\n",
    "        h = self.hidden_layers(x)\n",
    "        self.mean = self.mean_layer(h)\n",
    "        self.std = self.std_layer(h) + 1\n",
    "\n",
    "        return self.mean, self.std\n",
    "    \n",
    "    def __repr__(self):\n",
    "        return f'Mean: {self.mean.item():.5f} and Std: {self.std.item():.5f}'\n"
   ]
  },
  {
   "cell_type": "code",
   "execution_count": 69,
   "metadata": {},
   "outputs": [],
   "source": [
    "def k(mean, std, x):\n",
    "    return 1 / np.sqrt(2 * np.pi) * torch.exp(-((x - mean)/std) ** 2 / 2) / std\n",
    "\n",
    "def log_k(mean, std, y):\n",
    "    return -torch.log(std) - (y - mean)**2 / (2 * std**2)"
   ]
  },
  {
   "cell_type": "code",
   "execution_count": 70,
   "metadata": {},
   "outputs": [],
   "source": [
    "model = NormalModel()\n",
    "opt = torch.optim.Adam(model.parameters(), lr=0.01)"
   ]
  },
  {
   "cell_type": "code",
   "execution_count": 71,
   "metadata": {},
   "outputs": [
    {
     "name": "stdout",
     "output_type": "stream",
     "text": [
      "0:: Loss = 1322.6485595703125\n",
      "100:: Loss = 127.76948547363281\n",
      "200:: Loss = 113.21403503417969\n",
      "300:: Loss = 120.94306182861328\n",
      "400:: Loss = 115.87690734863281\n",
      "500:: Loss = 122.68001556396484\n",
      "600:: Loss = 122.27761840820312\n",
      "700:: Loss = 125.66720581054688\n",
      "800:: Loss = 102.8907470703125\n",
      "900:: Loss = 124.40837860107422\n",
      "1000:: Loss = 108.44560241699219\n",
      "1100:: Loss = 128.66941833496094\n",
      "1200:: Loss = 115.2510986328125\n",
      "1300:: Loss = 117.05230712890625\n",
      "1400:: Loss = 107.15065002441406\n",
      "1500:: Loss = 110.51656341552734\n",
      "1600:: Loss = 117.69493103027344\n",
      "1700:: Loss = 118.49095916748047\n",
      "1800:: Loss = 122.29779052734375\n",
      "1900:: Loss = 115.76141357421875\n",
      "2000:: Loss = 116.54133605957031\n",
      "2100:: Loss = 100.65702056884766\n",
      "2200:: Loss = 107.24303436279297\n",
      "2300:: Loss = 124.50273132324219\n",
      "2400:: Loss = 97.36341857910156\n",
      "2500:: Loss = 113.57903289794922\n",
      "2600:: Loss = 114.22251892089844\n",
      "2700:: Loss = 116.51419067382812\n",
      "2800:: Loss = 111.8222885131836\n",
      "2900:: Loss = 117.4985580444336\n",
      "3000:: Loss = 115.25248718261719\n",
      "3100:: Loss = 119.18797302246094\n",
      "3200:: Loss = 108.05604553222656\n",
      "3300:: Loss = 100.45368194580078\n",
      "3400:: Loss = 105.49674987792969\n",
      "3500:: Loss = 111.44343566894531\n",
      "3600:: Loss = 117.25037384033203\n",
      "3700:: Loss = 110.21783447265625\n",
      "3800:: Loss = 119.8935775756836\n",
      "3900:: Loss = 124.93987274169922\n",
      "4000:: Loss = 116.60194396972656\n",
      "4100:: Loss = 106.04617309570312\n",
      "4200:: Loss = 112.79462432861328\n",
      "4300:: Loss = 117.50762176513672\n",
      "4400:: Loss = 103.9320068359375\n",
      "4500:: Loss = 113.11549377441406\n",
      "4600:: Loss = 117.41921997070312\n",
      "4700:: Loss = 116.86891174316406\n",
      "4800:: Loss = 107.4912338256836\n",
      "4900:: Loss = 571.836669921875\n"
     ]
    }
   ],
   "source": [
    "max_epoch = 5000\n",
    "for epoch in range(max_epoch):\n",
    "    opt.zero_grad()\n",
    "\n",
    "    if epoch % 10 == 0 and max_epoch - epoch > 100:\n",
    "        sample = torch.randint(N, (1, 100)).squeeze()\n",
    "    elif max_epoch - epoch == 100:\n",
    "        sample = torch.arange(0, N)\n",
    "\n",
    "    mean, std = model(x[sample])\n",
    "    log_likelyhood = log_k(mean, std, y[sample]).sum()\n",
    "    loss = -log_likelyhood\n",
    "    loss.backward()\n",
    "    opt.step()\n",
    "\n",
    "    if epoch % 100 == 0:\n",
    "        print(f'{epoch}:: Loss = {loss.item()}')\n",
    "    \n"
   ]
  },
  {
   "cell_type": "code",
   "execution_count": 72,
   "metadata": {},
   "outputs": [
    {
     "data": {
      "text/plain": [
       "<matplotlib.collections.PolyCollection at 0x7fc920a71990>"
      ]
     },
     "execution_count": 72,
     "metadata": {},
     "output_type": "execute_result"
    },
    {
     "data": {
      "image/png": "[encoded data removed]",
      "text/plain": [
       "<Figure size 432x288 with 1 Axes>"
      ]
     },
     "metadata": {
      "needs_background": "light"
     },
     "output_type": "display_data"
    }
   ],
   "source": [
    "m, s = model(x)\n",
    "\n",
    "plt.scatter(x, y, marker='.')\n",
    "plt.plot(x, m.detach(), 'r')\n",
    "plt.fill_between(x.squeeze(), (m.detach()-s.detach()).squeeze(), (m.detach()+s.detach()).squeeze(), alpha=0.5)"
   ]
  },
  {
   "cell_type": "code",
   "execution_count": null,
   "metadata": {},
   "outputs": [],
   "source": []
  },
  {
   "cell_type": "code",
   "execution_count": 73,
   "metadata": {},
   "outputs": [
    {
     "data": {
      "text/plain": [
       "(torch.Size([500, 1]), torch.Size([500, 1]))"
      ]
     },
     "execution_count": 73,
     "metadata": {},
     "output_type": "execute_result"
    }
   ],
   "source": [
    "x.size(), y.size()"
   ]
  },
  {
   "cell_type": "code",
   "execution_count": 74,
   "metadata": {},
   "outputs": [],
   "source": [
    "def check_within_two_stddeviations(x, y):\n",
    "    y_pred, y_std = model(x)\n",
    "    # want 95.6% inside \n",
    "    a = (y - y_pred).abs() / y_std\n",
    "    hits = (a <= 2).sum()\n",
    "    return hits / len(x)"
   ]
  },
  {
   "cell_type": "code",
   "execution_count": 75,
   "metadata": {},
   "outputs": [
    {
     "data": {
      "text/plain": [
       "tensor(-0.0060)"
      ]
     },
     "execution_count": 75,
     "metadata": {},
     "output_type": "execute_result"
    }
   ],
   "source": [
    "check_within_two_stddeviations(x, y) - 0.956"
   ]
  },
  {
   "cell_type": "code",
   "execution_count": 76,
   "metadata": {},
   "outputs": [
    {
     "data": {
      "text/plain": [
       "0.008763560920082658"
      ]
     },
     "execution_count": 76,
     "metadata": {},
     "output_type": "execute_result"
    }
   ],
   "source": [
    "np.sqrt(0.96 * 0.04 / N)"
   ]
  },
  {
   "cell_type": "code",
   "execution_count": null,
   "metadata": {},
   "outputs": [],
   "source": []
  }
 ],
 "metadata": {
  "kernelspec": {
   "display_name": "Python 3",
   "language": "python",
   "name": "python3"
  },
  "language_info": {
   "codemirror_mode": {
    "name": "ipython",
    "version": 3
   },
   "file_extension": ".py",
   "mimetype": "text/x-python",
   "name": "python",
   "nbconvert_exporter": "python",
   "pygments_lexer": "ipython3",
   "version": "3.10.6"
  },
  "orig_nbformat": 4
 },
 "nbformat": 4,
 "nbformat_minor": 2
}
