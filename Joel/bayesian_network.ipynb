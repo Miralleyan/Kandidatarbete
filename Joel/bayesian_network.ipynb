{
 "cells": [
  {
   "cell_type": "code",
   "execution_count": 4,
   "metadata": {},
   "outputs": [],
   "source": [
    "import torch\n",
    "import matplotlib.pyplot as plt\n",
    "import numpy as np"
   ]
  },
  {
   "cell_type": "code",
   "execution_count": 5,
   "metadata": {},
   "outputs": [],
   "source": [
    "N = 500\n",
    "\n",
    "def real_model(x):\n",
    "    y = (torch.randn(1, N) + 2) * x + 3 + torch.randn(1, N)\n",
    "    return y\n",
    "\n",
    "x = torch.linspace(-3, 4, N).view(-1, 1)\n",
    "y = real_model(x.squeeze()).view(-1, 1)"
   ]
  },
  {
   "cell_type": "code",
   "execution_count": 3,
   "metadata": {},
   "outputs": [],
   "source": [
    "class NormalModel(torch.nn.Module):\n",
    "    def __init__(self):\n",
    "        super().__init__()\n",
    "\n",
    "        self.mean = None\n",
    "        self.std = None\n",
    "\n",
    "        k = 6\n",
    "\n",
    "        self.hidden_layers = torch.nn.Sequential(\n",
    "            torch.nn.Linear(1, k),\n",
    "            torch.nn.ReLU(),\n",
    "            torch.nn.Linear(k, k)\n",
    "        )\n",
    "        self.mean_layer = torch.nn.Linear(k, 1)\n",
    "        self.std_layer = torch.nn.Sequential(\n",
    "            torch.nn.Sigmoid(),\n",
    "            torch.nn.Linear(k, 1),\n",
    "            torch.nn.ELU()\n",
    "        )\n",
    "\n",
    "    def forward(self, x):\n",
    "        h = self.hidden_layers(x)\n",
    "        self.mean = self.mean_layer(h)\n",
    "        self.std = self.std_layer(h) + 1\n",
    "\n",
    "        return self.mean, self.std\n",
    "    \n",
    "    def __repr__(self):\n",
    "        return f'Mean: {self.mean.item():.5f} and Std: {self.std.item():.5f}'\n"
   ]
  },
  {
   "cell_type": "code",
   "execution_count": 4,
   "metadata": {},
   "outputs": [],
   "source": [
    "def k(mean, std, x):\n",
    "    return 1 / np.sqrt(2 * np.pi) * torch.exp(-((x - mean)/std) ** 2 / 2) / std\n",
    "\n",
    "def log_k(mean, std, y):\n",
    "    return -torch.log(std) - (y - mean)**2 / (2 * std**2)"
   ]
  },
  {
   "cell_type": "code",
   "execution_count": 5,
   "metadata": {},
   "outputs": [],
   "source": [
    "model = NormalModel()\n",
    "opt = torch.optim.Adam(model.parameters(), lr=0.01)"
   ]
  },
  {
   "cell_type": "code",
   "execution_count": 6,
   "metadata": {},
   "outputs": [
    {
     "name": "stdout",
     "output_type": "stream",
     "text": [
      "0:: Loss = 2224.391357421875\n",
      "100:: Loss = 141.83145141601562\n",
      "200:: Loss = 135.4949493408203\n",
      "300:: Loss = 127.71595001220703\n",
      "400:: Loss = 128.5430908203125\n",
      "500:: Loss = 123.4670181274414\n",
      "600:: Loss = 126.12088775634766\n",
      "700:: Loss = 146.6477813720703\n",
      "800:: Loss = 145.50584411621094\n",
      "900:: Loss = 124.53524780273438\n",
      "1000:: Loss = 120.84677124023438\n",
      "1100:: Loss = 110.33358764648438\n",
      "1200:: Loss = 124.85301208496094\n",
      "1300:: Loss = 117.82779693603516\n",
      "1400:: Loss = 138.0464324951172\n",
      "1500:: Loss = 116.53793334960938\n",
      "1600:: Loss = 99.43482971191406\n",
      "1700:: Loss = 109.64029693603516\n",
      "1800:: Loss = 110.78255462646484\n",
      "1900:: Loss = 122.58317565917969\n",
      "2000:: Loss = 120.83924865722656\n",
      "2100:: Loss = 126.49026489257812\n",
      "2200:: Loss = 108.84772491455078\n",
      "2300:: Loss = 110.89714813232422\n",
      "2400:: Loss = 108.93376922607422\n",
      "2500:: Loss = 104.9080581665039\n",
      "2600:: Loss = 122.94877624511719\n",
      "2700:: Loss = 116.86419677734375\n",
      "2800:: Loss = 138.53990173339844\n",
      "2900:: Loss = 112.27103424072266\n",
      "3000:: Loss = 118.131591796875\n",
      "3100:: Loss = 119.12474060058594\n",
      "3200:: Loss = 107.98838806152344\n",
      "3300:: Loss = 125.45722961425781\n",
      "3400:: Loss = 127.1944580078125\n",
      "3500:: Loss = 110.77177429199219\n",
      "3600:: Loss = 119.9924545288086\n",
      "3700:: Loss = 112.98003387451172\n",
      "3800:: Loss = 116.776123046875\n",
      "3900:: Loss = 112.55327606201172\n",
      "4000:: Loss = 118.47964477539062\n",
      "4100:: Loss = 103.10003662109375\n",
      "4200:: Loss = 118.86593627929688\n",
      "4300:: Loss = 124.82276916503906\n",
      "4400:: Loss = 103.61605072021484\n",
      "4500:: Loss = 118.71707153320312\n",
      "4600:: Loss = 115.41744995117188\n",
      "4700:: Loss = 123.87036895751953\n",
      "4800:: Loss = 117.6583251953125\n",
      "4900:: Loss = 595.4611206054688\n"
     ]
    }
   ],
   "source": [
    "max_epoch = 5000\n",
    "for epoch in range(max_epoch):\n",
    "    opt.zero_grad()\n",
    "\n",
    "    if epoch % 10 == 0 and max_epoch - epoch > 100:\n",
    "        sample = torch.randint(N, (1, 100)).squeeze()\n",
    "    elif max_epoch - epoch == 100:\n",
    "        sample = torch.arange(0, N)\n",
    "\n",
    "    mean, std = model(x[sample])\n",
    "    log_likelyhood = log_k(mean, std, y[sample]).sum()\n",
    "    loss = -log_likelyhood\n",
    "    loss.backward()\n",
    "    opt.step()\n",
    "\n",
    "    if epoch % 100 == 0:\n",
    "        print(f'{epoch}:: Loss = {loss.item()}')\n",
    "    \n"
   ]
  },
  {
   "cell_type": "code",
   "execution_count": 7,
   "metadata": {},
   "outputs": [
    {
     "data": {
      "text/plain": [
       "<matplotlib.collections.PolyCollection at 0x7f1475dcf850>"
      ]
     },
     "execution_count": 7,
     "metadata": {},
     "output_type": "execute_result"
    },
    {
     "data": {
      "image/png": "[encoded data removed]",
      "text/plain": [
       "<Figure size 432x288 with 1 Axes>"
      ]
     },
     "metadata": {
      "needs_background": "light"
     },
     "output_type": "display_data"
    }
   ],
   "source": [
    "m, s = model(x)\n",
    "\n",
    "plt.scatter(x, y, marker='.')\n",
    "plt.plot(x, m.detach(), 'r')\n",
    "plt.fill_between(x.squeeze(), (m.detach()-s.detach()).squeeze(), (m.detach()+s.detach()).squeeze(), alpha=0.5)"
   ]
  },
  {
   "cell_type": "code",
   "execution_count": null,
   "metadata": {},
   "outputs": [],
   "source": []
  },
  {
   "cell_type": "code",
   "execution_count": 8,
   "metadata": {},
   "outputs": [
    {
     "data": {
      "text/plain": [
       "(torch.Size([500, 1]), torch.Size([500, 1]))"
      ]
     },
     "execution_count": 8,
     "metadata": {},
     "output_type": "execute_result"
    }
   ],
   "source": [
    "x.size(), y.size()"
   ]
  },
  {
   "cell_type": "code",
   "execution_count": 9,
   "metadata": {},
   "outputs": [],
   "source": [
    "def check_within_two_stddeviations(x, y):\n",
    "    y_pred, y_std = model(x)\n",
    "    # want 95.4% inside \n",
    "    a = (y - y_pred).abs() / y_std\n",
    "    hits = (a <= 2).sum()\n",
    "    return hits / len(x)"
   ]
  },
  {
   "cell_type": "code",
   "execution_count": 10,
   "metadata": {},
   "outputs": [
    {
     "data": {
      "text/plain": [
       "tensor(0.0080)"
      ]
     },
     "execution_count": 10,
     "metadata": {},
     "output_type": "execute_result"
    }
   ],
   "source": [
    "check_within_two_stddeviations(x, y) - 0.954"
   ]
  },
  {
   "cell_type": "code",
   "execution_count": 11,
   "metadata": {},
   "outputs": [
    {
     "data": {
      "text/plain": [
       "0.008763560920082658"
      ]
     },
     "execution_count": 11,
     "metadata": {},
     "output_type": "execute_result"
    }
   ],
   "source": [
    "np.sqrt(0.96 * 0.04 / N)"
   ]
  },
  {
   "attachments": {},
   "cell_type": "markdown",
   "metadata": {},
   "source": [
    "---\n",
    "# using polynomial functions"
   ]
  },
  {
   "cell_type": "code",
   "execution_count": 17,
   "metadata": {},
   "outputs": [],
   "source": [
    "def eval_powers_of_x(x, n):\n",
    "    return x.pow(torch.arange(n))"
   ]
  },
  {
   "cell_type": "code",
   "execution_count": 56,
   "metadata": {},
   "outputs": [],
   "source": [
    "class NormalPolynomialModel(torch.nn.Module):\n",
    "    def __init__(self):\n",
    "        super().__init__()\n",
    "        \n",
    "        self.mean = None\n",
    "        self.std = None\n",
    "        \n",
    "        self.N_mean = 2 # constant, linear, quadratic, ... terms\n",
    "        self.N_var = 3\n",
    "\n",
    "        self.poly_multipliers_mean = torch.nn.parameter.Parameter(torch.rand(self.N_mean))\n",
    "        self.poly_multipliers_var = torch.nn.parameter.Parameter(torch.rand(self.N_var))\n",
    "        self.var_shift = torch.nn.parameter.Parameter(torch.tensor(0.1))\n",
    "\n",
    "        self.mean_layer = torch.nn.Linear(self.N_mean, 1)\n",
    "        self.var_layer = torch.nn.Sequential(\n",
    "            torch.nn.Linear(self.N_var, 1),\n",
    "            torch.nn.ReLU()\n",
    "        )\n",
    "    \n",
    "    def forward(self, x):\n",
    "        self.mean = self.mean_layer(self.poly_multipliers_mean * eval_powers_of_x(x, self.N_mean))\n",
    "        self.var = self.var_layer(self.poly_multipliers_var * eval_powers_of_x(x, self.N_var)) + self.var_shift ** 2\n",
    "        return self.mean, self.var\n",
    "    \n"
   ]
  },
  {
   "cell_type": "code",
   "execution_count": 57,
   "metadata": {},
   "outputs": [],
   "source": [
    "def log_k_with_var(mean, var, y):\n",
    "    return -0.5*torch.log(var) - (y - mean)**2 / (2 * var)"
   ]
  },
  {
   "cell_type": "code",
   "execution_count": 67,
   "metadata": {},
   "outputs": [
    {
     "name": "stdout",
     "output_type": "stream",
     "text": [
      "0:: Loss = 405398.125\n",
      "100:: Loss = 163619.140625\n",
      "200:: Loss = 75454.6875\n",
      "300:: Loss = 55852.0703125\n",
      "400:: Loss = 50508.296875\n",
      "500:: Loss = 5876.630859375\n",
      "600:: Loss = 2437.30712890625\n",
      "700:: Loss = 2006.72607421875\n",
      "800:: Loss = 2050.883056640625\n",
      "900:: Loss = 1542.2718505859375\n",
      "1000:: Loss = 1606.607666015625\n",
      "1100:: Loss = 1350.631103515625\n",
      "1200:: Loss = 1475.6956787109375\n",
      "1300:: Loss = 1423.88330078125\n",
      "1400:: Loss = 1307.236572265625\n",
      "1500:: Loss = 1040.457275390625\n",
      "1600:: Loss = 1180.1156005859375\n",
      "1700:: Loss = 1114.2218017578125\n",
      "1800:: Loss = 1110.2315673828125\n",
      "1900:: Loss = 1035.614013671875\n",
      "2000:: Loss = 958.4446411132812\n",
      "2100:: Loss = 850.5654296875\n",
      "2200:: Loss = 886.35498046875\n",
      "2300:: Loss = 1028.785400390625\n",
      "2400:: Loss = 810.1786499023438\n",
      "2500:: Loss = 940.7409057617188\n",
      "2600:: Loss = 812.9126586914062\n",
      "2700:: Loss = 713.69921875\n",
      "2800:: Loss = 686.7169799804688\n",
      "2900:: Loss = 771.6331787109375\n",
      "3000:: Loss = 706.4974365234375\n",
      "3100:: Loss = 668.2977905273438\n",
      "3200:: Loss = 724.2568969726562\n",
      "3300:: Loss = 712.8109741210938\n",
      "3400:: Loss = 637.5618896484375\n",
      "3500:: Loss = 648.8741455078125\n",
      "3600:: Loss = 617.2919921875\n",
      "3700:: Loss = 554.2499389648438\n",
      "3800:: Loss = 569.5272216796875\n",
      "3900:: Loss = 549.6935424804688\n",
      "4000:: Loss = 602.6707763671875\n",
      "4100:: Loss = 529.17138671875\n",
      "4200:: Loss = 539.3363037109375\n",
      "4300:: Loss = 521.4629516601562\n",
      "4400:: Loss = 513.710693359375\n",
      "4500:: Loss = 473.551513671875\n",
      "4600:: Loss = 434.5626525878906\n",
      "4700:: Loss = 461.0335693359375\n",
      "4800:: Loss = 431.2649230957031\n",
      "4900:: Loss = 449.3209228515625\n",
      "5000:: Loss = 431.2225341796875\n",
      "5100:: Loss = 454.79437255859375\n",
      "5200:: Loss = 386.9261779785156\n",
      "5300:: Loss = 406.8355712890625\n",
      "5400:: Loss = 374.8170471191406\n",
      "5500:: Loss = 396.5348815917969\n",
      "5600:: Loss = 372.32904052734375\n",
      "5700:: Loss = 364.4283752441406\n",
      "5800:: Loss = 372.780517578125\n",
      "5900:: Loss = 360.2286682128906\n",
      "6000:: Loss = 329.36578369140625\n",
      "6100:: Loss = 344.0107421875\n",
      "6200:: Loss = 359.7318115234375\n",
      "6300:: Loss = 334.06866455078125\n",
      "6400:: Loss = 323.3962707519531\n",
      "6500:: Loss = 312.6860046386719\n",
      "6600:: Loss = 317.4979248046875\n",
      "6700:: Loss = 317.8501281738281\n",
      "6800:: Loss = 313.3609313964844\n",
      "6900:: Loss = 330.09539794921875\n",
      "7000:: Loss = 294.26513671875\n",
      "7100:: Loss = 307.89208984375\n",
      "7200:: Loss = 316.8348693847656\n",
      "7300:: Loss = 297.24456787109375\n",
      "7400:: Loss = 295.0614013671875\n",
      "7500:: Loss = 281.3086853027344\n",
      "7600:: Loss = 292.7950134277344\n",
      "7700:: Loss = 303.61993408203125\n",
      "7800:: Loss = 283.70111083984375\n",
      "7900:: Loss = 293.8573303222656\n",
      "8000:: Loss = 297.59075927734375\n",
      "8100:: Loss = 293.809326171875\n",
      "8200:: Loss = 299.6907653808594\n",
      "8300:: Loss = 331.38665771484375\n",
      "8400:: Loss = 312.2976989746094\n",
      "8500:: Loss = 290.3980712890625\n",
      "8600:: Loss = 304.57159423828125\n",
      "8700:: Loss = 292.76861572265625\n",
      "8800:: Loss = 296.2678527832031\n",
      "8900:: Loss = 319.017578125\n",
      "9000:: Loss = 307.8143615722656\n",
      "9100:: Loss = 283.6090393066406\n",
      "9200:: Loss = 311.8140563964844\n",
      "9300:: Loss = 301.4526672363281\n",
      "9400:: Loss = 285.5406188964844\n",
      "9500:: Loss = 338.1317138671875\n",
      "9600:: Loss = 293.8792419433594\n",
      "9700:: Loss = 290.0953674316406\n",
      "9800:: Loss = 312.220703125\n",
      "9900:: Loss = 291.4840393066406\n"
     ]
    }
   ],
   "source": [
    "model = NormalPolynomialModel()\n",
    "opt = torch.optim.Adam(model.parameters())\n",
    "\n",
    "max_epoch = 10000\n",
    "for epoch in range(max_epoch):\n",
    "    opt.zero_grad()\n",
    "\n",
    "    # if we want to use a little bit of randomness in our decent\n",
    "    # (could possibly avoid local minimums?),\n",
    "    # index x and y by sample below\n",
    "    if epoch % 10 == 0 and max_epoch - epoch > 50:\n",
    "        sample = torch.randint(N, (1, 250)).squeeze()\n",
    "    elif max_epoch - epoch == 100:\n",
    "        sample = torch.arange(0, N)\n",
    "\n",
    "    mean, var = model(x[sample])\n",
    "    log_likelyhood = log_k_with_var(mean, var, y[sample]).sum()\n",
    "    loss = -log_likelyhood\n",
    "    loss.backward()\n",
    "    opt.step()\n",
    "\n",
    "    if epoch % 100 == 0:\n",
    "        print(f'{epoch}:: Loss = {loss.item()}')\n",
    "    "
   ]
  },
  {
   "cell_type": "code",
   "execution_count": 68,
   "metadata": {},
   "outputs": [
    {
     "data": {
      "text/plain": [
       "<matplotlib.collections.PolyCollection at 0x7fa002245330>"
      ]
     },
     "execution_count": 68,
     "metadata": {},
     "output_type": "execute_result"
    },
    {
     "data": {
      "image/png": "[encoded data removed]",
      "text/plain": [
       "<Figure size 432x288 with 1 Axes>"
      ]
     },
     "metadata": {
      "needs_background": "light"
     },
     "output_type": "display_data"
    }
   ],
   "source": [
    "m, var = model(x)\n",
    "s = var.sqrt()\n",
    "\n",
    "plt.scatter(x, y, marker='.')\n",
    "plt.plot(x, m.detach(), 'r')\n",
    "plt.fill_between(x.squeeze(), (m.detach()-s.detach()).squeeze(), (m.detach()+s.detach()).squeeze(), alpha=0.5)"
   ]
  },
  {
   "cell_type": "code",
   "execution_count": null,
   "metadata": {},
   "outputs": [],
   "source": []
  },
  {
   "cell_type": "code",
   "execution_count": null,
   "metadata": {},
   "outputs": [],
   "source": []
  }
 ],
 "metadata": {
  "kernelspec": {
   "display_name": "Python 3",
   "language": "python",
   "name": "python3"
  },
  "language_info": {
   "codemirror_mode": {
    "name": "ipython",
    "version": 3
   },
   "file_extension": ".py",
   "mimetype": "text/x-python",
   "name": "python",
   "nbconvert_exporter": "python",
   "pygments_lexer": "ipython3",
   "version": "3.10.6"
  },
  "orig_nbformat": 4
 },
 "nbformat": 4,
 "nbformat_minor": 2
}
