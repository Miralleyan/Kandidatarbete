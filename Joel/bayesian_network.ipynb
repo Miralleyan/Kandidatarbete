{
 "cells": [
  {
   "cell_type": "code",
   "execution_count": null,
   "metadata": {},
   "outputs": [],
   "source": [
    "import torch\n",
    "import matplotlib.pyplot as plt\n",
    "import numpy as np"
   ]
  },
  {
   "cell_type": "code",
   "execution_count": null,
   "metadata": {},
   "outputs": [],
   "source": [
    "N = 300\n",
    "\n",
    "def real_model(x):\n",
    "    y = (torch.randn(1, N) + 2) * x + 3 + torch.randn(1, N)\n",
    "    return y\n",
    "\n",
    "x = torch.linspace(-3, 4, N).view(-1, 1)\n",
    "y = real_model(x.squeeze()).view(-1, 1)"
   ]
  },
  {
   "cell_type": "code",
   "execution_count": null,
   "metadata": {},
   "outputs": [],
   "source": [
    "class NormalModel(torch.nn.Module):\n",
    "    def __init__(self):\n",
    "        super().__init__()\n",
    "\n",
    "        self.mean = None\n",
    "        self.std = None\n",
    "\n",
    "        k = 12\n",
    "\n",
    "        self.hidden_layers = torch.nn.Sequential(\n",
    "            torch.nn.Linear(1, k),\n",
    "            torch.nn.ReLU(),\n",
    "        )\n",
    "        self.mean_layer = torch.nn.Linear(k, 1)\n",
    "        self.std_layer = torch.nn.Sequential(\n",
    "            torch.nn.Linear(k, 1),\n",
    "            torch.nn.ELU()\n",
    "        )\n",
    "\n",
    "    def forward(self, x):\n",
    "        h = self.hidden_layers(x)\n",
    "        self.mean = self.mean_layer(h)\n",
    "        self.std = self.std_layer(h) + 1\n",
    "\n",
    "        return self.mean, self.std\n",
    "    \n",
    "    def __repr__(self):\n",
    "        return f'Mean: {self.mean.item():.5f} and Std: {self.std.item():.5f}'\n"
   ]
  },
  {
   "cell_type": "code",
   "execution_count": null,
   "metadata": {},
   "outputs": [],
   "source": [
    "def k(mean, std, x):\n",
    "    return 1 / np.sqrt(2 * np.pi) * torch.exp(-((x - mean)/std) ** 2 / 2) / std\n",
    "\n",
    "def log_k(mean, std, y):\n",
    "    return -torch.log(std) - (y - mean)**2 / (2 * std**2)"
   ]
  },
  {
   "cell_type": "code",
   "execution_count": null,
   "metadata": {},
   "outputs": [],
   "source": [
    "model = NormalModel()\n",
    "opt = torch.optim.Adam(model.parameters())"
   ]
  },
  {
   "cell_type": "code",
   "execution_count": null,
   "metadata": {},
   "outputs": [],
   "source": [
    "for epoch in range(5000):\n",
    "    opt.zero_grad()\n",
    "\n",
    "    if epoch % 10 == 0:\n",
    "        sample = torch.randint(N, (1, 100)).squeeze()\n",
    "\n",
    "    mean, std = model(x[sample])\n",
    "    log_likelyhood = log_k(mean, std, y[sample]).sum()\n",
    "    loss = -log_likelyhood\n",
    "    loss.backward()\n",
    "    opt.step()\n",
    "\n",
    "    if epoch % 100 == 0:\n",
    "        print(f'{epoch}:: Loss = {loss.item()}')\n",
    "    \n"
   ]
  },
  {
   "cell_type": "code",
   "execution_count": null,
   "metadata": {},
   "outputs": [],
   "source": [
    "m, s = model(x)\n",
    "\n",
    "plt.scatter(x, y, marker='.')\n",
    "plt.plot(x, m.detach(), 'r')\n",
    "plt.fill_between(x.squeeze(), (m.detach()-s.detach()).squeeze(), (m.detach()+s.detach()).squeeze(), alpha=0.4)"
   ]
  },
  {
   "cell_type": "code",
   "execution_count": null,
   "metadata": {},
   "outputs": [],
   "source": []
  },
  {
   "cell_type": "code",
   "execution_count": null,
   "metadata": {},
   "outputs": [],
   "source": [
    "x.size(), y.size()"
   ]
  },
  {
   "cell_type": "code",
   "execution_count": null,
   "metadata": {},
   "outputs": [],
   "source": []
  }
 ],
 "metadata": {
  "kernelspec": {
   "display_name": "Python 3",
   "language": "python",
   "name": "python3"
  },
  "language_info": {
   "codemirror_mode": {
    "name": "ipython",
    "version": 3
   },
   "file_extension": ".py",
   "mimetype": "text/x-python",
   "name": "python",
   "nbconvert_exporter": "python",
   "pygments_lexer": "ipython3",
   "version": "3.10.6"
  },
  "orig_nbformat": 4
 },
 "nbformat": 4,
 "nbformat_minor": 2
}
