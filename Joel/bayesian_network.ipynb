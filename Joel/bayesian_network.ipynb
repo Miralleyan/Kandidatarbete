{
 "cells": [
  {
   "cell_type": "code",
   "execution_count": 4,
   "metadata": {},
   "outputs": [],
   "source": [
    "import torch\n",
    "import matplotlib.pyplot as plt\n",
    "import numpy as np"
   ]
  },
  {
   "cell_type": "code",
   "execution_count": 5,
   "metadata": {},
   "outputs": [],
   "source": [
    "N = 500\n",
    "\n",
    "def real_model(x):\n",
    "    y = (torch.randn(1, N) + 2) * x + 3 + torch.randn(1, N)\n",
    "    return y\n",
    "\n",
    "x = torch.linspace(-3, 4, N).view(-1, 1)\n",
    "y = real_model(x.squeeze()).view(-1, 1)"
   ]
  },
  {
   "cell_type": "code",
   "execution_count": 3,
   "metadata": {},
   "outputs": [],
   "source": [
    "class NormalModel(torch.nn.Module):\n",
    "    def __init__(self):\n",
    "        super().__init__()\n",
    "\n",
    "        self.mean = None\n",
    "        self.std = None\n",
    "\n",
    "        k = 6\n",
    "\n",
    "        self.hidden_layers = torch.nn.Sequential(\n",
    "            torch.nn.Linear(1, k),\n",
    "            torch.nn.ReLU(),\n",
    "            torch.nn.Linear(k, k)\n",
    "        )\n",
    "        self.mean_layer = torch.nn.Linear(k, 1)\n",
    "        self.std_layer = torch.nn.Sequential(\n",
    "            torch.nn.Sigmoid(),\n",
    "            torch.nn.Linear(k, 1),\n",
    "            torch.nn.ELU()\n",
    "        )\n",
    "\n",
    "    def forward(self, x):\n",
    "        h = self.hidden_layers(x)\n",
    "        self.mean = self.mean_layer(h)\n",
    "        self.std = self.std_layer(h) + 1\n",
    "\n",
    "        return self.mean, self.std\n",
    "    \n",
    "    def __repr__(self):\n",
    "        return f'Mean: {self.mean.item():.5f} and Std: {self.std.item():.5f}'\n"
   ]
  },
  {
   "cell_type": "code",
   "execution_count": 4,
   "metadata": {},
   "outputs": [],
   "source": [
    "def k(mean, std, x):\n",
    "    return 1 / np.sqrt(2 * np.pi) * torch.exp(-((x - mean)/std) ** 2 / 2) / std\n",
    "\n",
    "def log_k(mean, std, y):\n",
    "    return -torch.log(std) - (y - mean)**2 / (2 * std**2)"
   ]
  },
  {
   "cell_type": "code",
   "execution_count": 5,
   "metadata": {},
   "outputs": [],
   "source": [
    "model = NormalModel()\n",
    "opt = torch.optim.Adam(model.parameters(), lr=0.01)"
   ]
  },
  {
   "cell_type": "code",
   "execution_count": 6,
   "metadata": {},
   "outputs": [
    {
     "name": "stdout",
     "output_type": "stream",
     "text": [
      "0:: Loss = 2224.391357421875\n",
      "100:: Loss = 141.83145141601562\n",
      "200:: Loss = 135.4949493408203\n",
      "300:: Loss = 127.71595001220703\n",
      "400:: Loss = 128.5430908203125\n",
      "500:: Loss = 123.4670181274414\n",
      "600:: Loss = 126.12088775634766\n",
      "700:: Loss = 146.6477813720703\n",
      "800:: Loss = 145.50584411621094\n",
      "900:: Loss = 124.53524780273438\n",
      "1000:: Loss = 120.84677124023438\n",
      "1100:: Loss = 110.33358764648438\n",
      "1200:: Loss = 124.85301208496094\n",
      "1300:: Loss = 117.82779693603516\n",
      "1400:: Loss = 138.0464324951172\n",
      "1500:: Loss = 116.53793334960938\n",
      "1600:: Loss = 99.43482971191406\n",
      "1700:: Loss = 109.64029693603516\n",
      "1800:: Loss = 110.78255462646484\n",
      "1900:: Loss = 122.58317565917969\n",
      "2000:: Loss = 120.83924865722656\n",
      "2100:: Loss = 126.49026489257812\n",
      "2200:: Loss = 108.84772491455078\n",
      "2300:: Loss = 110.89714813232422\n",
      "2400:: Loss = 108.93376922607422\n",
      "2500:: Loss = 104.9080581665039\n",
      "2600:: Loss = 122.94877624511719\n",
      "2700:: Loss = 116.86419677734375\n",
      "2800:: Loss = 138.53990173339844\n",
      "2900:: Loss = 112.27103424072266\n",
      "3000:: Loss = 118.131591796875\n",
      "3100:: Loss = 119.12474060058594\n",
      "3200:: Loss = 107.98838806152344\n",
      "3300:: Loss = 125.45722961425781\n",
      "3400:: Loss = 127.1944580078125\n",
      "3500:: Loss = 110.77177429199219\n",
      "3600:: Loss = 119.9924545288086\n",
      "3700:: Loss = 112.98003387451172\n",
      "3800:: Loss = 116.776123046875\n",
      "3900:: Loss = 112.55327606201172\n",
      "4000:: Loss = 118.47964477539062\n",
      "4100:: Loss = 103.10003662109375\n",
      "4200:: Loss = 118.86593627929688\n",
      "4300:: Loss = 124.82276916503906\n",
      "4400:: Loss = 103.61605072021484\n",
      "4500:: Loss = 118.71707153320312\n",
      "4600:: Loss = 115.41744995117188\n",
      "4700:: Loss = 123.87036895751953\n",
      "4800:: Loss = 117.6583251953125\n",
      "4900:: Loss = 595.4611206054688\n"
     ]
    }
   ],
   "source": [
    "max_epoch = 5000\n",
    "for epoch in range(max_epoch):\n",
    "    opt.zero_grad()\n",
    "\n",
    "    if epoch % 10 == 0 and max_epoch - epoch > 100:\n",
    "        sample = torch.randint(N, (1, 100)).squeeze()\n",
    "    elif max_epoch - epoch == 100:\n",
    "        sample = torch.arange(0, N)\n",
    "\n",
    "    mean, std = model(x[sample])\n",
    "    log_likelyhood = log_k(mean, std, y[sample]).sum()\n",
    "    loss = -log_likelyhood\n",
    "    loss.backward()\n",
    "    opt.step()\n",
    "\n",
    "    if epoch % 100 == 0:\n",
    "        print(f'{epoch}:: Loss = {loss.item()}')\n",
    "    \n"
   ]
  },
  {
   "cell_type": "code",
   "execution_count": 7,
   "metadata": {},
   "outputs": [
    {
     "data": {
      "text/plain": [
       "<matplotlib.collections.PolyCollection at 0x7f1475dcf850>"
      ]
     },
     "execution_count": 7,
     "metadata": {},
     "output_type": "execute_result"
    },
    {
     "data": {
      "image/png": "[encoded data removed]",
      "text/plain": [
       "<Figure size 432x288 with 1 Axes>"
      ]
     },
     "metadata": {
      "needs_background": "light"
     },
     "output_type": "display_data"
    }
   ],
   "source": [
    "m, s = model(x)\n",
    "\n",
    "plt.scatter(x, y, marker='.')\n",
    "plt.plot(x, m.detach(), 'r')\n",
    "plt.fill_between(x.squeeze(), (m.detach()-s.detach()).squeeze(), (m.detach()+s.detach()).squeeze(), alpha=0.5)"
   ]
  },
  {
   "cell_type": "code",
   "execution_count": null,
   "metadata": {},
   "outputs": [],
   "source": []
  },
  {
   "cell_type": "code",
   "execution_count": 8,
   "metadata": {},
   "outputs": [
    {
     "data": {
      "text/plain": [
       "(torch.Size([500, 1]), torch.Size([500, 1]))"
      ]
     },
     "execution_count": 8,
     "metadata": {},
     "output_type": "execute_result"
    }
   ],
   "source": [
    "x.size(), y.size()"
   ]
  },
  {
   "cell_type": "code",
   "execution_count": 9,
   "metadata": {},
   "outputs": [],
   "source": [
    "def check_within_two_stddeviations(x, y):\n",
    "    y_pred, y_std = model(x)\n",
    "    # want 95.4% inside \n",
    "    a = (y - y_pred).abs() / y_std\n",
    "    hits = (a <= 2).sum()\n",
    "    return hits / len(x)"
   ]
  },
  {
   "cell_type": "code",
   "execution_count": 10,
   "metadata": {},
   "outputs": [
    {
     "data": {
      "text/plain": [
       "tensor(0.0080)"
      ]
     },
     "execution_count": 10,
     "metadata": {},
     "output_type": "execute_result"
    }
   ],
   "source": [
    "check_within_two_stddeviations(x, y) - 0.954"
   ]
  },
  {
   "cell_type": "code",
   "execution_count": 11,
   "metadata": {},
   "outputs": [
    {
     "data": {
      "text/plain": [
       "0.008763560920082658"
      ]
     },
     "execution_count": 11,
     "metadata": {},
     "output_type": "execute_result"
    }
   ],
   "source": [
    "np.sqrt(0.96 * 0.04 / N)"
   ]
  },
  {
   "attachments": {},
   "cell_type": "markdown",
   "metadata": {},
   "source": [
    "---\n",
    "# using polynomial functions"
   ]
  },
  {
   "cell_type": "code",
   "execution_count": 17,
   "metadata": {},
   "outputs": [],
   "source": [
    "def eval_powers_of_x(x, n):\n",
    "    return x.pow(torch.arange(n))"
   ]
  },
  {
   "cell_type": "code",
   "execution_count": 56,
   "metadata": {},
   "outputs": [],
   "source": [
    "class NormalPolynomialModel(torch.nn.Module):\n",
    "    def __init__(self):\n",
    "        super().__init__()\n",
    "        \n",
    "        self.mean = None\n",
    "        self.std = None\n",
    "        \n",
    "        self.N_mean = 2 # constant, linear, quadratic, ... terms\n",
    "        self.N_var = 3\n",
    "\n",
    "        self.poly_multipliers_mean = torch.nn.parameter.Parameter(torch.rand(self.N_mean))\n",
    "        self.poly_multipliers_var = torch.nn.parameter.Parameter(torch.rand(self.N_var))\n",
    "        self.var_shift = torch.nn.parameter.Parameter(torch.tensor(0.1))\n",
    "\n",
    "        self.mean_layer = torch.nn.Linear(self.N_mean, 1)\n",
    "        self.var_layer = torch.nn.Sequential(\n",
    "            torch.nn.Linear(self.N_var, 1),\n",
    "            torch.nn.ReLU()\n",
    "        )\n",
    "    \n",
    "    def forward(self, x):\n",
    "        self.mean = self.mean_layer(self.poly_multipliers_mean * eval_powers_of_x(x, self.N_mean))\n",
    "        self.var = self.var_layer(self.poly_multipliers_var * eval_powers_of_x(x, self.N_var)) + self.var_shift ** 2\n",
    "        return self.mean, self.var\n",
    "    \n"
   ]
  },
  {
   "cell_type": "code",
   "execution_count": 57,
   "metadata": {},
   "outputs": [],
   "source": [
    "def log_k_with_var(mean, var, y):\n",
    "    return -0.5*torch.log(var) - (y - mean)**2 / (2 * var)"
   ]
  },
  {
   "cell_type": "code",
   "execution_count": 60,
   "metadata": {},
   "outputs": [
    {
     "name": "stdout",
     "output_type": "stream",
     "text": [
      "0:: Loss = 749498.5625\n",
      "100:: Loss = 216198.421875\n",
      "200:: Loss = 25723.076171875\n",
      "300:: Loss = 23588.259765625\n",
      "400:: Loss = 21836.892578125\n",
      "500:: Loss = 20285.48828125\n",
      "600:: Loss = 18883.79296875\n",
      "700:: Loss = 17611.541015625\n",
      "800:: Loss = 16451.11328125\n",
      "900:: Loss = 15369.32421875\n",
      "1000:: Loss = 14356.15625\n",
      "1100:: Loss = 13452.685546875\n",
      "1200:: Loss = 12633.9765625\n",
      "1300:: Loss = 11887.5654296875\n",
      "1400:: Loss = 11203.2041015625\n",
      "1500:: Loss = 10575.4833984375\n",
      "1600:: Loss = 9999.353515625\n",
      "1700:: Loss = 9464.32421875\n",
      "1800:: Loss = 8963.3603515625\n",
      "1900:: Loss = 8490.40625\n",
      "2000:: Loss = 8048.880859375\n",
      "2100:: Loss = 7643.1533203125\n",
      "2200:: Loss = 7277.0234375\n",
      "2300:: Loss = 6940.7666015625\n",
      "2400:: Loss = 6613.0888671875\n",
      "2500:: Loss = 6283.72802734375\n",
      "2600:: Loss = 5965.1728515625\n",
      "2700:: Loss = 5681.33056640625\n",
      "2800:: Loss = 5429.69140625\n",
      "2900:: Loss = 5199.9052734375\n",
      "3000:: Loss = 4988.359375\n",
      "3100:: Loss = 4772.431640625\n",
      "3200:: Loss = 4564.20849609375\n",
      "3300:: Loss = 4374.0673828125\n",
      "3400:: Loss = 4161.0009765625\n",
      "3500:: Loss = 3979.0927734375\n",
      "3600:: Loss = 3802.63525390625\n",
      "3700:: Loss = 3600.577392578125\n",
      "3800:: Loss = 3405.983154296875\n",
      "3900:: Loss = 3103.493896484375\n",
      "4000:: Loss = 2692.836181640625\n",
      "4100:: Loss = 1644.6690673828125\n",
      "4200:: Loss = 1152.70654296875\n",
      "4300:: Loss = 1072.92333984375\n",
      "4400:: Loss = 1020.92626953125\n",
      "4500:: Loss = 980.4845581054688\n",
      "4600:: Loss = 946.640625\n",
      "4700:: Loss = 917.2116088867188\n",
      "4800:: Loss = 891.0432739257812\n",
      "4900:: Loss = 867.4525146484375\n",
      "5000:: Loss = 846.001708984375\n",
      "5100:: Loss = 826.394287109375\n",
      "5200:: Loss = 808.4202880859375\n",
      "5300:: Loss = 791.925537109375\n",
      "5400:: Loss = 776.7924194335938\n",
      "5500:: Loss = 762.9281616210938\n",
      "5600:: Loss = 750.2567138671875\n",
      "5700:: Loss = 738.7139282226562\n",
      "5800:: Loss = 728.2425537109375\n",
      "5900:: Loss = 718.7896728515625\n",
      "6000:: Loss = 710.30419921875\n",
      "6100:: Loss = 702.7352294921875\n",
      "6200:: Loss = 696.0303344726562\n",
      "6300:: Loss = 690.1358642578125\n",
      "6400:: Loss = 684.99560546875\n",
      "6500:: Loss = 680.5507202148438\n",
      "6600:: Loss = 676.7402954101562\n",
      "6700:: Loss = 673.502197265625\n",
      "6800:: Loss = 670.7738647460938\n",
      "6900:: Loss = 668.4933471679688\n",
      "7000:: Loss = 666.6005249023438\n",
      "7100:: Loss = 665.0383911132812\n",
      "7200:: Loss = 663.7540283203125\n",
      "7300:: Loss = 662.6996459960938\n",
      "7400:: Loss = 661.8328247070312\n",
      "7500:: Loss = 661.1165771484375\n",
      "7600:: Loss = 660.5198364257812\n",
      "7700:: Loss = 660.0172729492188\n",
      "7800:: Loss = 659.5879516601562\n",
      "7900:: Loss = 659.2159423828125\n",
      "8000:: Loss = 658.8883666992188\n",
      "8100:: Loss = 658.5952758789062\n",
      "8200:: Loss = 658.3297119140625\n",
      "8300:: Loss = 658.0860595703125\n",
      "8400:: Loss = 657.8602294921875\n",
      "8500:: Loss = 657.648681640625\n",
      "8600:: Loss = 657.44921875\n",
      "8700:: Loss = 657.259521484375\n",
      "8800:: Loss = 657.0777587890625\n",
      "8900:: Loss = 656.9025268554688\n",
      "9000:: Loss = 656.7321166992188\n",
      "9100:: Loss = 656.5653076171875\n",
      "9200:: Loss = 656.4005737304688\n",
      "9300:: Loss = 656.2369384765625\n",
      "9400:: Loss = 656.0728149414062\n",
      "9500:: Loss = 655.906982421875\n",
      "9600:: Loss = 655.7384033203125\n",
      "9700:: Loss = 655.5656127929688\n",
      "9800:: Loss = 655.3875122070312\n",
      "9900:: Loss = 655.2029418945312\n",
      "10000:: Loss = 655.0106201171875\n",
      "10100:: Loss = 654.8092651367188\n",
      "10200:: Loss = 654.59765625\n",
      "10300:: Loss = 654.3743286132812\n",
      "10400:: Loss = 654.1380615234375\n",
      "10500:: Loss = 653.88720703125\n",
      "10600:: Loss = 653.6204223632812\n",
      "10700:: Loss = 653.3357543945312\n",
      "10800:: Loss = 653.0314331054688\n",
      "10900:: Loss = 652.7054443359375\n",
      "11000:: Loss = 652.3554077148438\n",
      "11100:: Loss = 651.9786987304688\n",
      "11200:: Loss = 651.5726318359375\n",
      "11300:: Loss = 651.1337890625\n",
      "11400:: Loss = 650.658447265625\n",
      "11500:: Loss = 650.1427612304688\n",
      "11600:: Loss = 649.5816650390625\n",
      "11700:: Loss = 648.9700317382812\n",
      "11800:: Loss = 648.3016357421875\n",
      "11900:: Loss = 647.56982421875\n",
      "12000:: Loss = 646.766845703125\n",
      "12100:: Loss = 645.8839111328125\n",
      "12200:: Loss = 644.9115600585938\n",
      "12300:: Loss = 643.8389892578125\n",
      "12400:: Loss = 642.6546020507812\n",
      "12500:: Loss = 641.3455810546875\n",
      "12600:: Loss = 639.8990478515625\n",
      "12700:: Loss = 638.3009643554688\n",
      "12800:: Loss = 636.5382080078125\n",
      "12900:: Loss = 634.5984497070312\n",
      "13000:: Loss = 632.47216796875\n",
      "13100:: Loss = 630.1537475585938\n",
      "13200:: Loss = 627.6436767578125\n",
      "13300:: Loss = 624.951171875\n",
      "13400:: Loss = 622.0967407226562\n",
      "13500:: Loss = 619.1137084960938\n",
      "13600:: Loss = 616.0499877929688\n",
      "13700:: Loss = 612.9664306640625\n",
      "13800:: Loss = 609.93408203125\n",
      "13900:: Loss = 607.0279541015625\n",
      "14000:: Loss = 604.3193969726562\n",
      "14100:: Loss = 601.8678588867188\n",
      "14200:: Loss = 599.7147827148438\n",
      "14300:: Loss = 597.87939453125\n",
      "14400:: Loss = 596.3599243164062\n",
      "14500:: Loss = 595.1364135742188\n",
      "14600:: Loss = 594.1767578125\n",
      "14700:: Loss = 593.4419555664062\n",
      "14800:: Loss = 592.8917236328125\n",
      "14900:: Loss = 592.488037109375\n",
      "15000:: Loss = 592.1972045898438\n",
      "15100:: Loss = 591.9910278320312\n",
      "15200:: Loss = 591.8468017578125\n",
      "15300:: Loss = 591.7469482421875\n",
      "15400:: Loss = 591.67822265625\n",
      "15500:: Loss = 591.6309204101562\n",
      "15600:: Loss = 591.5980834960938\n",
      "15700:: Loss = 591.574951171875\n",
      "15800:: Loss = 591.558349609375\n",
      "15900:: Loss = 591.5460205078125\n",
      "16000:: Loss = 591.5366821289062\n",
      "16100:: Loss = 591.5293579101562\n",
      "16200:: Loss = 591.5235595703125\n",
      "16300:: Loss = 591.518798828125\n",
      "16400:: Loss = 591.5149536132812\n",
      "16500:: Loss = 591.5118408203125\n",
      "16600:: Loss = 591.5093383789062\n",
      "16700:: Loss = 591.50732421875\n",
      "16800:: Loss = 591.505615234375\n",
      "16900:: Loss = 591.5042724609375\n",
      "17000:: Loss = 591.5032958984375\n",
      "17100:: Loss = 591.5025024414062\n",
      "17200:: Loss = 591.5018920898438\n",
      "17300:: Loss = 591.50146484375\n",
      "17400:: Loss = 591.5011596679688\n",
      "17500:: Loss = 591.5008544921875\n",
      "17600:: Loss = 591.5006103515625\n",
      "17700:: Loss = 591.5005493164062\n",
      "17800:: Loss = 591.50048828125\n",
      "17900:: Loss = 591.5003662109375\n",
      "18000:: Loss = 591.5003662109375\n",
      "18100:: Loss = 591.5003662109375\n",
      "18200:: Loss = 591.5003662109375\n",
      "18300:: Loss = 591.5003662109375\n",
      "18400:: Loss = 591.5003662109375\n",
      "18500:: Loss = 591.500244140625\n",
      "18600:: Loss = 591.5003051757812\n",
      "18700:: Loss = 591.5003051757812\n",
      "18800:: Loss = 591.5003662109375\n",
      "18900:: Loss = 591.5003051757812\n",
      "19000:: Loss = 591.5003051757812\n",
      "19100:: Loss = 591.5003051757812\n",
      "19200:: Loss = 591.5003051757812\n",
      "19300:: Loss = 591.5003051757812\n",
      "19400:: Loss = 591.5003662109375\n",
      "19500:: Loss = 591.5003051757812\n",
      "19600:: Loss = 591.5003662109375\n",
      "19700:: Loss = 591.5003662109375\n",
      "19800:: Loss = 591.5003051757812\n",
      "19900:: Loss = 591.5003662109375\n",
      "20000:: Loss = 591.5003662109375\n",
      "20100:: Loss = 591.5003662109375\n",
      "20200:: Loss = 591.5003051757812\n",
      "20300:: Loss = 591.5003662109375\n",
      "20400:: Loss = 591.5003051757812\n",
      "20500:: Loss = 591.5003051757812\n",
      "20600:: Loss = 591.5003051757812\n",
      "20700:: Loss = 591.5003051757812\n",
      "20800:: Loss = 591.5003662109375\n",
      "20900:: Loss = 591.5003662109375\n",
      "21000:: Loss = 591.5003662109375\n",
      "21100:: Loss = 591.5003662109375\n",
      "21200:: Loss = 591.5003662109375\n",
      "21300:: Loss = 591.5003662109375\n",
      "21400:: Loss = 591.5003662109375\n",
      "21500:: Loss = 591.5003662109375\n",
      "21600:: Loss = 591.5003662109375\n",
      "21700:: Loss = 591.5003662109375\n",
      "21800:: Loss = 591.5004272460938\n",
      "21900:: Loss = 591.5003662109375\n",
      "22000:: Loss = 591.5003662109375\n",
      "22100:: Loss = 591.5003662109375\n",
      "22200:: Loss = 591.5003662109375\n",
      "22300:: Loss = 591.5003662109375\n",
      "22400:: Loss = 591.5003662109375\n",
      "22500:: Loss = 591.5004272460938\n",
      "22600:: Loss = 591.5004272460938\n",
      "22700:: Loss = 591.5004272460938\n",
      "22800:: Loss = 591.5004272460938\n",
      "22900:: Loss = 591.5003051757812\n",
      "23000:: Loss = 591.5003662109375\n",
      "23100:: Loss = 591.5003662109375\n",
      "23200:: Loss = 591.5003662109375\n",
      "23300:: Loss = 591.500244140625\n",
      "23400:: Loss = 591.500244140625\n",
      "23500:: Loss = 591.500244140625\n",
      "23600:: Loss = 591.500244140625\n",
      "23700:: Loss = 591.5003662109375\n",
      "23800:: Loss = 591.500244140625\n",
      "23900:: Loss = 591.500244140625\n",
      "24000:: Loss = 591.5004272460938\n",
      "24100:: Loss = 591.5003051757812\n",
      "24200:: Loss = 591.5003051757812\n",
      "24300:: Loss = 591.5003051757812\n",
      "24400:: Loss = 591.500244140625\n",
      "24500:: Loss = 591.500244140625\n",
      "24600:: Loss = 591.5003051757812\n",
      "24700:: Loss = 591.500244140625\n",
      "24800:: Loss = 591.5004272460938\n",
      "24900:: Loss = 591.5003051757812\n"
     ]
    }
   ],
   "source": [
    "model = NormalPolynomialModel()\n",
    "opt = torch.optim.Adam(model.parameters())\n",
    "\n",
    "max_epoch = 25000\n",
    "for epoch in range(max_epoch):\n",
    "    opt.zero_grad()\n",
    "\n",
    "    # if we want to use a little bit of randomness in our decent\n",
    "    # (could possibly avoid local minimums?),\n",
    "    # index x and y by sample below\n",
    "    if epoch % 10 == 0 and max_epoch - epoch > 50:\n",
    "        sample = torch.randint(N, (1, 250)).squeeze()\n",
    "    elif max_epoch - epoch == 100:\n",
    "        sample = torch.arange(0, N)\n",
    "\n",
    "    mean, var = model(x)\n",
    "    log_likelyhood = log_k_with_var(mean, var, y).sum()\n",
    "    loss = -log_likelyhood\n",
    "    loss.backward()\n",
    "    opt.step()\n",
    "\n",
    "    if epoch % 100 == 0:\n",
    "        print(f'{epoch}:: Loss = {loss.item()}')\n",
    "    "
   ]
  },
  {
   "cell_type": "code",
   "execution_count": 61,
   "metadata": {},
   "outputs": [
    {
     "data": {
      "text/plain": [
       "<matplotlib.collections.PolyCollection at 0x7fa0024943d0>"
      ]
     },
     "execution_count": 61,
     "metadata": {},
     "output_type": "execute_result"
    },
    {
     "data": {
      "image/png": "[encoded data removed]",
      "text/plain": [
       "<Figure size 432x288 with 1 Axes>"
      ]
     },
     "metadata": {
      "needs_background": "light"
     },
     "output_type": "display_data"
    }
   ],
   "source": [
    "m, s = model(x)\n",
    "\n",
    "plt.scatter(x, y, marker='.')\n",
    "plt.plot(x, m.detach(), 'r')\n",
    "plt.fill_between(x.squeeze(), (m.detach()-s.detach()).squeeze(), (m.detach()+s.detach()).squeeze(), alpha=0.5)"
   ]
  },
  {
   "cell_type": "code",
   "execution_count": null,
   "metadata": {},
   "outputs": [],
   "source": []
  },
  {
   "cell_type": "code",
   "execution_count": null,
   "metadata": {},
   "outputs": [],
   "source": []
  }
 ],
 "metadata": {
  "kernelspec": {
   "display_name": "Python 3",
   "language": "python",
   "name": "python3"
  },
  "language_info": {
   "codemirror_mode": {
    "name": "ipython",
    "version": 3
   },
   "file_extension": ".py",
   "mimetype": "text/x-python",
   "name": "python",
   "nbconvert_exporter": "python",
   "pygments_lexer": "ipython3",
   "version": "3.10.6"
  },
  "orig_nbformat": 4
 },
 "nbformat": 4,
 "nbformat_minor": 2
}
