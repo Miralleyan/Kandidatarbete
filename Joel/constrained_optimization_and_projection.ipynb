{
 "cells": [
  {
   "cell_type": "code",
   "execution_count": 1,
   "id": "78f1b4b1",
   "metadata": {},
   "outputs": [],
   "source": [
    "import torch\n",
    "import matplotlib.pyplot as plt"
   ]
  },
  {
   "cell_type": "code",
   "execution_count": 2,
   "id": "cb636df7",
   "metadata": {},
   "outputs": [],
   "source": [
    "eq_line = torch.tensor([1., 1.])"
   ]
  },
  {
   "cell_type": "code",
   "execution_count": 3,
   "id": "28a15876",
   "metadata": {},
   "outputs": [
    {
     "name": "stdout",
     "output_type": "stream",
     "text": [
      "tensor([0.1400, 0.8600], requires_grad=True)\n",
      "tensor([0.0680, 0.9320], requires_grad=True)\n",
      "tensor([0.0680, 0.9320], requires_grad=True)\n",
      "tensor([0.0075, 0.9925], requires_grad=True)\n",
      "tensor([0.0075, 0.9925], requires_grad=True)\n",
      "tensor([0.0075, 0.9925], requires_grad=True)\n",
      "tensor([0.0075, 0.9925], requires_grad=True)\n",
      "tensor([0.0075, 0.9925], requires_grad=True)\n",
      "tensor([0.0075, 0.9925], requires_grad=True)\n",
      "tensor([0.0075, 0.9925], requires_grad=True)\n",
      "tensor([0.0075, 0.9925], requires_grad=True)\n",
      "tensor([0.0018, 0.9982], requires_grad=True)\n",
      "tensor([0.0018, 0.9982], requires_grad=True)\n",
      "tensor([0.0018, 0.9982], requires_grad=True)\n",
      "tensor([0.0018, 0.9982], requires_grad=True)\n",
      "tensor([0.0018, 0.9982], requires_grad=True)\n",
      "tensor([4.6286e-04, 9.9954e-01], requires_grad=True)\n",
      "tensor([4.6286e-04, 9.9954e-01], requires_grad=True)\n",
      "tensor([4.6286e-04, 9.9954e-01], requires_grad=True)\n",
      "tensor([4.6286e-04, 9.9954e-01], requires_grad=True)\n"
     ]
    }
   ],
   "source": [
    "θ = torch.tensor([0.2, 0.8], requires_grad=True)\n",
    "optimizer = torch.optim.SGD([θ], lr=0.2)\n",
    "for i in range(20):\n",
    "    optimizer.zero_grad()\n",
    "    output = torch.prod(θ) # = p * q\n",
    "    output.backward()\n",
    "    # enforce that θ sums to 1 through projecting gradient on eq_line.\n",
    "    θ.grad -= eq_line * torch.dot(θ.grad, eq_line) / torch.dot(eq_line, eq_line)\n",
    "    # decrese lr if we try to step outside allowed area:\n",
    "    if torch.any(θ - θ.grad * optimizer.param_groups[0]['lr'] < 0):\n",
    "        optimizer.param_groups[0]['lr'] *= 0.7\n",
    "    else:\n",
    "        optimizer.step()\n",
    "    print(θ)"
   ]
  },
  {
   "cell_type": "code",
   "execution_count": null,
   "id": "5b00f0f9",
   "metadata": {},
   "outputs": [],
   "source": []
  }
 ],
 "metadata": {
  "kernelspec": {
   "display_name": "Python 3",
   "language": "python",
   "name": "python3"
  },
  "language_info": {
   "codemirror_mode": {
    "name": "ipython",
    "version": 3
   },
   "file_extension": ".py",
   "mimetype": "text/x-python",
   "name": "python",
   "nbconvert_exporter": "python",
   "pygments_lexer": "ipython3",
   "version": "3.10.6"
  },
  "vscode": {
   "interpreter": {
    "hash": "31f2aee4e71d21fbe5cf8b01ff0e069b9275f58929596ceb00d14d90e3e16cd6"
   }
  }
 },
 "nbformat": 4,
 "nbformat_minor": 5
}
